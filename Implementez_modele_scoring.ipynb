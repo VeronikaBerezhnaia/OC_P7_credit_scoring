{
 "cells": [
  {
   "cell_type": "markdown",
   "id": "dc6d6321",
   "metadata": {},
   "source": [
    "# Questions\n",
    "\n",
    "## New:\n",
    "transform(round(3)) raises an error\n",
    "\n",
    "## Old:\n",
    "\n",
    "1. The idea is to change the threshold in LogisticRegression, on which it divises positives from negatives. This information can be withdrawn with roc curve, right? But on roc curve you have the rates on every probability threshold, right? And on precision-recall curve as well. How to get access to confusion matrix at any threshold?\n",
    "2. Or, if it's not possible, how to deduce either from ROC_AUC rates, or from Precision_Recall rates, at which threshold the ratio of False_Positive to False_Negative is N? (for example N=10, but can be 8 or 22 - depends how much costs to the bank the error of a wrong positive prediction vs a wrong negative one).\n",
    "3. Gridsearch, the paramter \"return_train_score\", does it impact on the refit? Or it only it makes it show the train score? I'd like to make the refit based on the test score, not hte train one.\n",
    "4. __The main question:__ the maskers in shap.LinearExplainer. my code doesn't work without it, but there are many examples where it's not required. Even on the sites in the recommendation list in \"Ressources\" section. How the code of other people works without these maskers?\n",
    "5. What's the difference between the histogram HOUR_APPR_PROCESS_START and othrs, why this one looks like sawteeth but not the other variables histograms? How can I make the curve smoother?\n",
    "\n",
    "## Old:\n",
    "1. \"Get feture importances\", the section in the end of the notebook. How to get the features out from the pipeline, which is the outer wrapper? Or how to get the features from ColumnTransformer (which is called Preprocessor)?\n",
    "\n",
    "I found in internet that this job is impossible when the column transformer contains Pipelines. But the inverse isn't mentioned as impossible.\n",
    "This source https://scikit-learn-enhancement-proposals.readthedocs.io/en/latest/slep007/proposal.html sets the problem but doesn't offer a solution. It suggests to add feature_names_in_ attribute and get_feature_names_out method to fitted estimators. But I don't see how to do that.\n",
    "\n",
    "2. kde graph, is there a way to reduce the wiggling of the curve? Can I stay with distribution and not pass to histograms? because of the difference of the scale."
   ]
  },
  {
   "cell_type": "code",
   "execution_count": 1,
   "id": "32181db3",
   "metadata": {},
   "outputs": [],
   "source": [
    "# conda install -c conda-forge lightgbm\n",
    "# pip install imbalanced-learn\n",
    "# pip install shap\n",
    "\n",
    "import pandas as pd\n",
    "import numpy as np\n",
    "import matplotlib.pyplot as plt\n",
    "import seaborn as sns\n",
    "from time import time # in Kernel just import time\n",
    "from os import listdir\n",
    "\n",
    "from sklearn.dummy import DummyClassifier\n",
    "from sklearn.model_selection import train_test_split, GridSearchCV\n",
    "from sklearn.preprocessing import OneHotEncoder, StandardScaler\n",
    "from sklearn.pipeline import make_pipeline #, make_union\n",
    "from sklearn.compose import make_column_transformer\n",
    "from sklearn.linear_model import LogisticRegression, PassiveAggressiveClassifier\n",
    "from sklearn.ensemble import RandomForestClassifier\n",
    "import sklearn.metrics\n",
    "from sklearn.metrics import precision_score, recall_score, make_scorer, confusion_matrix, classification_report\n",
    "from sklearn.metrics import auc, roc_auc_score, roc_curve, f1_score\n",
    "\n",
    "from imblearn.pipeline import make_pipeline as make_pipeline_imblearn\n",
    "from imblearn.over_sampling import SMOTE\n",
    "# import imblearn\n",
    "import shap\n",
    "\n",
    "\n",
    "rasta = 1\n",
    "rasta_smote = 1\n",
    "rasta_class = 1\n",
    "\n",
    "\n",
    "import gc\n",
    "# from contextlib import contextmanager\n",
    "from lightgbm import LGBMClassifier\n",
    "from sklearn.model_selection import KFold, StratifiedKFold\n",
    "import warnings\n",
    "# warnings.simplefilter(action='ignore', category=FutureWarning)"
   ]
  },
  {
   "cell_type": "code",
   "execution_count": 2,
   "id": "2791ec99",
   "metadata": {},
   "outputs": [
    {
     "name": "stdout",
     "output_type": "stream",
     "text": [
      "1.0.2\n",
      "1.20.3\n",
      "1.3.4\n"
     ]
    }
   ],
   "source": [
    "print(sklearn.__version__)#'0.24.2'\n",
    "print(np.__version__) # '1.20.3'\n",
    "print(pd.__version__)# '1.3.4'\n",
    "# print(imblearn.__version__) # '0.9.0' # need to import the whole imblearn library to get the version"
   ]
  },
  {
   "cell_type": "code",
   "execution_count": 3,
   "id": "cae5ee41",
   "metadata": {},
   "outputs": [
    {
     "name": "stdout",
     "output_type": "stream",
     "text": [
      "['application_test.csv', 'application_train.csv', 'bureau.csv', 'bureau_balance.csv', 'credit_card_balance.csv', 'HomeCredit_columns_description.csv', 'installments_payments.csv', 'POS_CASH_balance.csv', 'previous_application.csv', 'sample_submission.csv']\n"
     ]
    }
   ],
   "source": [
    "# from os import listdir\n",
    "# path_csvs = 'C:\\\\Users\\\\Veronika\\\\DATABASES\\\\p7_credit_default_risk_dataset\\\\'\n",
    "path_csvs = 'C:\\\\vb\\\\DATABASES\\\\p7_credit_default_risk_dataset\\\\'\n",
    "\n",
    "list_files = [file for file in listdir(path_csvs)]\n",
    "\n",
    "print(list_files)"
   ]
  },
  {
   "cell_type": "code",
   "execution_count": 4,
   "id": "5d29bc2b",
   "metadata": {},
   "outputs": [
    {
     "name": "stdout",
     "output_type": "stream",
     "text": [
      "<class 'pandas.core.frame.DataFrame'>\n",
      "RangeIndex: 219 entries, 0 to 218\n",
      "Data columns (total 5 columns):\n",
      " #   Column       Non-Null Count  Dtype \n",
      "---  ------       --------------  ----- \n",
      " 0   Unnamed: 0   219 non-null    int64 \n",
      " 1   Table        219 non-null    object\n",
      " 2   Row          219 non-null    object\n",
      " 3   Description  219 non-null    object\n",
      " 4   Special      86 non-null     object\n",
      "dtypes: int64(1), object(4)\n",
      "memory usage: 8.7+ KB\n"
     ]
    }
   ],
   "source": [
    "# HomeCredit_columns_description = pd.read_csv(path_csvs + 'HomeCredit_columns_description.csv') # UnicodeDecodeError: 'utf-8' codec can't decode byte 0x85 in position 1283: invalid start byte\n",
    "\n",
    "HomeCredit_columns_description = pd.read_csv(path_csvs + 'HomeCredit_columns_description.csv', encoding= 'unicode_escape')\n",
    "HomeCredit_columns_description.info()"
   ]
  },
  {
   "cell_type": "markdown",
   "id": "0bc19641",
   "metadata": {},
   "source": [
    "Clients income type (businessman, working, maternity leave,",
    ")\n",
    "\n",
    "The unreadable symbol is an ellipsis. When I replaced it with \"etc.\", it raised an error in a later position: 26,931 instead of 1283. \n",
    "UnicodeDecodeError: 'utf-8' codec can't decode byte 0x85 in position 26931: invalid start byte\n"
   ]
  },
  {
   "cell_type": "code",
   "execution_count": 5,
   "id": "a4a9f8a8",
   "metadata": {},
   "outputs": [
    {
     "name": "stdout",
     "output_type": "stream",
     "text": [
      "['application_{train|test}.csv' 'bureau.csv' 'bureau_balance.csv'\n",
      " 'POS_CASH_balance.csv' 'credit_card_balance.csv'\n",
      " 'previous_application.csv' 'installments_payments.csv']\n"
     ]
    }
   ],
   "source": [
    "print(HomeCredit_columns_description.Table.unique())"
   ]
  },
  {
   "cell_type": "code",
   "execution_count": 6,
   "id": "7c8f704b",
   "metadata": {},
   "outputs": [],
   "source": [
    "# HomeCredit_columns_description.loc[HomeCredit_columns_description.Table == 'POS_CASH_balance.csv', ['Row', 'Description']]"
   ]
  },
  {
   "cell_type": "code",
   "execution_count": 7,
   "id": "74b5bbf5",
   "metadata": {},
   "outputs": [],
   "source": [
    "# HomeCredit_columns_description.loc[HomeCredit_columns_description.Table == 'credit_card_balance.csv', ['Row', 'Description']]\n"
   ]
  },
  {
   "cell_type": "code",
   "execution_count": 8,
   "id": "8fa19575",
   "metadata": {},
   "outputs": [],
   "source": [
    "# HomeCredit_columns_description.loc[HomeCredit_columns_description.Table == 'previous_application.csv', ['Row', 'Description']]\n",
    "# pd.reset_option('max_rows')"
   ]
  },
  {
   "cell_type": "code",
   "execution_count": 9,
   "id": "bea92985",
   "metadata": {},
   "outputs": [],
   "source": [
    "# HomeCredit_columns_description.loc[HomeCredit_columns_description.Table == 'installments_payments.csv', ['Row', 'Description']]\n"
   ]
  },
  {
   "cell_type": "code",
   "execution_count": 10,
   "id": "350fe13a",
   "metadata": {},
   "outputs": [],
   "source": [
    "# pd.set_option('max_rows', None)\n",
    "# HomeCredit_columns_description.loc[HomeCredit_columns_description.Special.notna(), ['Row', 'Description', 'Special']]\n",
    "# pd.reset_option('max_rows')"
   ]
  },
  {
   "cell_type": "code",
   "execution_count": 11,
   "id": "81c233af",
   "metadata": {},
   "outputs": [
    {
     "data": {
      "text/plain": [
       "60"
      ]
     },
     "execution_count": 11,
     "metadata": {},
     "output_type": "execute_result"
    }
   ],
   "source": [
    "pd.reset_option(\"max_rows\")\n",
    "pd.get_option(\"max_rows\")"
   ]
  },
  {
   "cell_type": "markdown",
   "id": "411616e7",
   "metadata": {},
   "source": [
    "# Aplication table"
   ]
  },
  {
   "cell_type": "code",
   "execution_count": 12,
   "id": "c1b2bdde",
   "metadata": {
    "scrolled": false
   },
   "outputs": [
    {
     "name": "stdout",
     "output_type": "stream",
     "text": [
      "<class 'pandas.core.frame.DataFrame'>\n",
      "RangeIndex: 307511 entries, 0 to 307510\n",
      "Columns: 122 entries, SK_ID_CURR to AMT_REQ_CREDIT_BUREAU_YEAR\n",
      "dtypes: float64(65), int64(41), object(16)\n",
      "memory usage: 286.2+ MB\n"
     ]
    }
   ],
   "source": [
    "# appli_tr = pd.read_csv(path_csvs + 'application_train.csv', nrows= 10_000)\n",
    "appli_tr = pd.read_csv(path_csvs + 'application_train.csv')\n",
    "appli_tr.info()"
   ]
  },
  {
   "cell_type": "code",
   "execution_count": 13,
   "id": "dfa9fec8",
   "metadata": {},
   "outputs": [
    {
     "data": {
      "text/html": [
       "<div>\n",
       "<style scoped>\n",
       "    .dataframe tbody tr th:only-of-type {\n",
       "        vertical-align: middle;\n",
       "    }\n",
       "\n",
       "    .dataframe tbody tr th {\n",
       "        vertical-align: top;\n",
       "    }\n",
       "\n",
       "    .dataframe thead th {\n",
       "        text-align: right;\n",
       "    }\n",
       "</style>\n",
       "<table border=\"1\" class=\"dataframe\">\n",
       "  <thead>\n",
       "    <tr style=\"text-align: right;\">\n",
       "      <th></th>\n",
       "      <th>Row</th>\n",
       "      <th>Description</th>\n",
       "      <th>Special</th>\n",
       "    </tr>\n",
       "  </thead>\n",
       "  <tbody>\n",
       "    <tr>\n",
       "      <th>0</th>\n",
       "      <td>SK_ID_CURR</td>\n",
       "      <td>ID of loan in our sample</td>\n",
       "      <td>NaN</td>\n",
       "    </tr>\n",
       "    <tr>\n",
       "      <th>1</th>\n",
       "      <td>TARGET</td>\n",
       "      <td>Target variable (1 - client with payment difficulties: he/she had late payment more than X days on at least one of the first Y installments of the loan in our sample, 0 - all other cases)</td>\n",
       "      <td>NaN</td>\n",
       "    </tr>\n",
       "    <tr>\n",
       "      <th>2</th>\n",
       "      <td>NAME_CONTRACT_TYPE</td>\n",
       "      <td>Identification if loan is cash or revolving</td>\n",
       "      <td>NaN</td>\n",
       "    </tr>\n",
       "    <tr>\n",
       "      <th>3</th>\n",
       "      <td>CODE_GENDER</td>\n",
       "      <td>Gender of the client</td>\n",
       "      <td>NaN</td>\n",
       "    </tr>\n",
       "    <tr>\n",
       "      <th>4</th>\n",
       "      <td>FLAG_OWN_CAR</td>\n",
       "      <td>Flag if the client owns a car</td>\n",
       "      <td>NaN</td>\n",
       "    </tr>\n",
       "    <tr>\n",
       "      <th>5</th>\n",
       "      <td>FLAG_OWN_REALTY</td>\n",
       "      <td>Flag if client owns a house or flat</td>\n",
       "      <td>NaN</td>\n",
       "    </tr>\n",
       "    <tr>\n",
       "      <th>6</th>\n",
       "      <td>CNT_CHILDREN</td>\n",
       "      <td>Number of children the client has</td>\n",
       "      <td>NaN</td>\n",
       "    </tr>\n",
       "    <tr>\n",
       "      <th>7</th>\n",
       "      <td>AMT_INCOME_TOTAL</td>\n",
       "      <td>Income of the client</td>\n",
       "      <td>NaN</td>\n",
       "    </tr>\n",
       "    <tr>\n",
       "      <th>8</th>\n",
       "      <td>AMT_CREDIT</td>\n",
       "      <td>Credit amount of the loan</td>\n",
       "      <td>NaN</td>\n",
       "    </tr>\n",
       "    <tr>\n",
       "      <th>9</th>\n",
       "      <td>AMT_ANNUITY</td>\n",
       "      <td>Loan annuity</td>\n",
       "      <td>NaN</td>\n",
       "    </tr>\n",
       "    <tr>\n",
       "      <th>10</th>\n",
       "      <td>AMT_GOODS_PRICE</td>\n",
       "      <td>For consumer loans it is the price of the goods for which the loan is given</td>\n",
       "      <td>NaN</td>\n",
       "    </tr>\n",
       "    <tr>\n",
       "      <th>11</th>\n",
       "      <td>NAME_TYPE_SUITE</td>\n",
       "      <td>Who was accompanying client when he was applying for the loan</td>\n",
       "      <td>NaN</td>\n",
       "    </tr>\n",
       "    <tr>\n",
       "      <th>12</th>\n",
       "      <td>NAME_INCOME_TYPE</td>\n",
       "      <td>Clients income type (businessman, working, maternity leave,",
       ")</td>\n",
       "      <td>NaN</td>\n",
       "    </tr>\n",
       "    <tr>\n",
       "      <th>13</th>\n",
       "      <td>NAME_EDUCATION_TYPE</td>\n",
       "      <td>Level of highest education the client achieved</td>\n",
       "      <td>NaN</td>\n",
       "    </tr>\n",
       "    <tr>\n",
       "      <th>14</th>\n",
       "      <td>NAME_FAMILY_STATUS</td>\n",
       "      <td>Family status of the client</td>\n",
       "      <td>NaN</td>\n",
       "    </tr>\n",
       "    <tr>\n",
       "      <th>15</th>\n",
       "      <td>NAME_HOUSING_TYPE</td>\n",
       "      <td>What is the housing situation of the client (renting, living with parents, ...)</td>\n",
       "      <td>NaN</td>\n",
       "    </tr>\n",
       "    <tr>\n",
       "      <th>16</th>\n",
       "      <td>REGION_POPULATION_RELATIVE</td>\n",
       "      <td>Normalized population of region where client lives (higher number means the client lives in more populated region)</td>\n",
       "      <td>normalized</td>\n",
       "    </tr>\n",
       "    <tr>\n",
       "      <th>17</th>\n",
       "      <td>DAYS_BIRTH</td>\n",
       "      <td>Client's age in days at the time of application</td>\n",
       "      <td>time only relative to the application</td>\n",
       "    </tr>\n",
       "    <tr>\n",
       "      <th>18</th>\n",
       "      <td>DAYS_EMPLOYED</td>\n",
       "      <td>How many days before the application the person started current employment</td>\n",
       "      <td>time only relative to the application</td>\n",
       "    </tr>\n",
       "    <tr>\n",
       "      <th>19</th>\n",
       "      <td>DAYS_REGISTRATION</td>\n",
       "      <td>How many days before the application did client change his registration</td>\n",
       "      <td>time only relative to the application</td>\n",
       "    </tr>\n",
       "    <tr>\n",
       "      <th>20</th>\n",
       "      <td>DAYS_ID_PUBLISH</td>\n",
       "      <td>How many days before the application did client change the identity document with which he applied for the loan</td>\n",
       "      <td>time only relative to the application</td>\n",
       "    </tr>\n",
       "    <tr>\n",
       "      <th>21</th>\n",
       "      <td>OWN_CAR_AGE</td>\n",
       "      <td>Age of client's car</td>\n",
       "      <td>NaN</td>\n",
       "    </tr>\n",
       "    <tr>\n",
       "      <th>22</th>\n",
       "      <td>FLAG_MOBIL</td>\n",
       "      <td>Did client provide mobile phone (1=YES, 0=NO)</td>\n",
       "      <td>NaN</td>\n",
       "    </tr>\n",
       "    <tr>\n",
       "      <th>23</th>\n",
       "      <td>FLAG_EMP_PHONE</td>\n",
       "      <td>Did client provide work phone (1=YES, 0=NO)</td>\n",
       "      <td>NaN</td>\n",
       "    </tr>\n",
       "    <tr>\n",
       "      <th>24</th>\n",
       "      <td>FLAG_WORK_PHONE</td>\n",
       "      <td>Did client provide home phone (1=YES, 0=NO)</td>\n",
       "      <td>NaN</td>\n",
       "    </tr>\n",
       "    <tr>\n",
       "      <th>25</th>\n",
       "      <td>FLAG_CONT_MOBILE</td>\n",
       "      <td>Was mobile phone reachable (1=YES, 0=NO)</td>\n",
       "      <td>NaN</td>\n",
       "    </tr>\n",
       "    <tr>\n",
       "      <th>26</th>\n",
       "      <td>FLAG_PHONE</td>\n",
       "      <td>Did client provide home phone (1=YES, 0=NO)</td>\n",
       "      <td>NaN</td>\n",
       "    </tr>\n",
       "    <tr>\n",
       "      <th>27</th>\n",
       "      <td>FLAG_EMAIL</td>\n",
       "      <td>Did client provide email (1=YES, 0=NO)</td>\n",
       "      <td>NaN</td>\n",
       "    </tr>\n",
       "    <tr>\n",
       "      <th>28</th>\n",
       "      <td>OCCUPATION_TYPE</td>\n",
       "      <td>What kind of occupation does the client have</td>\n",
       "      <td>NaN</td>\n",
       "    </tr>\n",
       "    <tr>\n",
       "      <th>29</th>\n",
       "      <td>CNT_FAM_MEMBERS</td>\n",
       "      <td>How many family members does client have</td>\n",
       "      <td>NaN</td>\n",
       "    </tr>\n",
       "    <tr>\n",
       "      <th>30</th>\n",
       "      <td>REGION_RATING_CLIENT</td>\n",
       "      <td>Our rating of the region where client lives (1,2,3)</td>\n",
       "      <td>NaN</td>\n",
       "    </tr>\n",
       "    <tr>\n",
       "      <th>31</th>\n",
       "      <td>REGION_RATING_CLIENT_W_CITY</td>\n",
       "      <td>Our rating of the region where client lives with taking city into account (1,2,3)</td>\n",
       "      <td>NaN</td>\n",
       "    </tr>\n",
       "    <tr>\n",
       "      <th>32</th>\n",
       "      <td>WEEKDAY_APPR_PROCESS_START</td>\n",
       "      <td>On which day of the week did the client apply for the loan</td>\n",
       "      <td>NaN</td>\n",
       "    </tr>\n",
       "    <tr>\n",
       "      <th>33</th>\n",
       "      <td>HOUR_APPR_PROCESS_START</td>\n",
       "      <td>Approximately at what hour did the client apply for the loan</td>\n",
       "      <td>rounded</td>\n",
       "    </tr>\n",
       "    <tr>\n",
       "      <th>34</th>\n",
       "      <td>REG_REGION_NOT_LIVE_REGION</td>\n",
       "      <td>Flag if client's permanent address does not match contact address (1=different, 0=same, at region level)</td>\n",
       "      <td>NaN</td>\n",
       "    </tr>\n",
       "    <tr>\n",
       "      <th>35</th>\n",
       "      <td>REG_REGION_NOT_WORK_REGION</td>\n",
       "      <td>Flag if client's permanent address does not match work address (1=different, 0=same, at region level)</td>\n",
       "      <td>NaN</td>\n",
       "    </tr>\n",
       "    <tr>\n",
       "      <th>36</th>\n",
       "      <td>LIVE_REGION_NOT_WORK_REGION</td>\n",
       "      <td>Flag if client's contact address does not match work address (1=different, 0=same, at region level)</td>\n",
       "      <td>NaN</td>\n",
       "    </tr>\n",
       "    <tr>\n",
       "      <th>37</th>\n",
       "      <td>REG_CITY_NOT_LIVE_CITY</td>\n",
       "      <td>Flag if client's permanent address does not match contact address (1=different, 0=same, at city level)</td>\n",
       "      <td>NaN</td>\n",
       "    </tr>\n",
       "    <tr>\n",
       "      <th>38</th>\n",
       "      <td>REG_CITY_NOT_WORK_CITY</td>\n",
       "      <td>Flag if client's permanent address does not match work address (1=different, 0=same, at city level)</td>\n",
       "      <td>NaN</td>\n",
       "    </tr>\n",
       "    <tr>\n",
       "      <th>39</th>\n",
       "      <td>LIVE_CITY_NOT_WORK_CITY</td>\n",
       "      <td>Flag if client's contact address does not match work address (1=different, 0=same, at city level)</td>\n",
       "      <td>NaN</td>\n",
       "    </tr>\n",
       "    <tr>\n",
       "      <th>40</th>\n",
       "      <td>ORGANIZATION_TYPE</td>\n",
       "      <td>Type of organization where client works</td>\n",
       "      <td>NaN</td>\n",
       "    </tr>\n",
       "    <tr>\n",
       "      <th>41</th>\n",
       "      <td>EXT_SOURCE_1</td>\n",
       "      <td>Normalized score from external data source</td>\n",
       "      <td>normalized</td>\n",
       "    </tr>\n",
       "    <tr>\n",
       "      <th>42</th>\n",
       "      <td>EXT_SOURCE_2</td>\n",
       "      <td>Normalized score from external data source</td>\n",
       "      <td>normalized</td>\n",
       "    </tr>\n",
       "    <tr>\n",
       "      <th>43</th>\n",
       "      <td>EXT_SOURCE_3</td>\n",
       "      <td>Normalized score from external data source</td>\n",
       "      <td>normalized</td>\n",
       "    </tr>\n",
       "    <tr>\n",
       "      <th>44</th>\n",
       "      <td>APARTMENTS_AVG</td>\n",
       "      <td>Normalized information about building where the client lives, What is average (_AVG suffix), modus (_MODE suffix), median (_MEDI suffix) apartment size, common area, living area, age of building, number of elevators, number of entrances, state of the building, number of floor</td>\n",
       "      <td>normalized</td>\n",
       "    </tr>\n",
       "    <tr>\n",
       "      <th>45</th>\n",
       "      <td>BASEMENTAREA_AVG</td>\n",
       "      <td>Normalized information about building where the client lives, What is average (_AVG suffix), modus (_MODE suffix), median (_MEDI suffix) apartment size, common area, living area, age of building, number of elevators, number of entrances, state of the building, number of floor</td>\n",
       "      <td>normalized</td>\n",
       "    </tr>\n",
       "    <tr>\n",
       "      <th>46</th>\n",
       "      <td>YEARS_BEGINEXPLUATATION_AVG</td>\n",
       "      <td>Normalized information about building where the client lives, What is average (_AVG suffix), modus (_MODE suffix), median (_MEDI suffix) apartment size, common area, living area, age of building, number of elevators, number of entrances, state of the building, number of floor</td>\n",
       "      <td>normalized</td>\n",
       "    </tr>\n",
       "    <tr>\n",
       "      <th>47</th>\n",
       "      <td>YEARS_BUILD_AVG</td>\n",
       "      <td>Normalized information about building where the client lives, What is average (_AVG suffix), modus (_MODE suffix), median (_MEDI suffix) apartment size, common area, living area, age of building, number of elevators, number of entrances, state of the building, number of floor</td>\n",
       "      <td>normalized</td>\n",
       "    </tr>\n",
       "    <tr>\n",
       "      <th>48</th>\n",
       "      <td>COMMONAREA_AVG</td>\n",
       "      <td>Normalized information about building where the client lives, What is average (_AVG suffix), modus (_MODE suffix), median (_MEDI suffix) apartment size, common area, living area, age of building, number of elevators, number of entrances, state of the building, number of floor</td>\n",
       "      <td>normalized</td>\n",
       "    </tr>\n",
       "    <tr>\n",
       "      <th>49</th>\n",
       "      <td>ELEVATORS_AVG</td>\n",
       "      <td>Normalized information about building where the client lives, What is average (_AVG suffix), modus (_MODE suffix), median (_MEDI suffix) apartment size, common area, living area, age of building, number of elevators, number of entrances, state of the building, number of floor</td>\n",
       "      <td>normalized</td>\n",
       "    </tr>\n",
       "    <tr>\n",
       "      <th>50</th>\n",
       "      <td>ENTRANCES_AVG</td>\n",
       "      <td>Normalized information about building where the client lives, What is average (_AVG suffix), modus (_MODE suffix), median (_MEDI suffix) apartment size, common area, living area, age of building, number of elevators, number of entrances, state of the building, number of floor</td>\n",
       "      <td>normalized</td>\n",
       "    </tr>\n",
       "    <tr>\n",
       "      <th>51</th>\n",
       "      <td>FLOORSMAX_AVG</td>\n",
       "      <td>Normalized information about building where the client lives, What is average (_AVG suffix), modus (_MODE suffix), median (_MEDI suffix) apartment size, common area, living area, age of building, number of elevators, number of entrances, state of the building, number of floor</td>\n",
       "      <td>normalized</td>\n",
       "    </tr>\n",
       "    <tr>\n",
       "      <th>52</th>\n",
       "      <td>FLOORSMIN_AVG</td>\n",
       "      <td>Normalized information about building where the client lives, What is average (_AVG suffix), modus (_MODE suffix), median (_MEDI suffix) apartment size, common area, living area, age of building, number of elevators, number of entrances, state of the building, number of floor</td>\n",
       "      <td>normalized</td>\n",
       "    </tr>\n",
       "    <tr>\n",
       "      <th>53</th>\n",
       "      <td>LANDAREA_AVG</td>\n",
       "      <td>Normalized information about building where the client lives, What is average (_AVG suffix), modus (_MODE suffix), median (_MEDI suffix) apartment size, common area, living area, age of building, number of elevators, number of entrances, state of the building, number of floor</td>\n",
       "      <td>normalized</td>\n",
       "    </tr>\n",
       "    <tr>\n",
       "      <th>54</th>\n",
       "      <td>LIVINGAPARTMENTS_AVG</td>\n",
       "      <td>Normalized information about building where the client lives, What is average (_AVG suffix), modus (_MODE suffix), median (_MEDI suffix) apartment size, common area, living area, age of building, number of elevators, number of entrances, state of the building, number of floor</td>\n",
       "      <td>normalized</td>\n",
       "    </tr>\n",
       "    <tr>\n",
       "      <th>55</th>\n",
       "      <td>LIVINGAREA_AVG</td>\n",
       "      <td>Normalized information about building where the client lives, What is average (_AVG suffix), modus (_MODE suffix), median (_MEDI suffix) apartment size, common area, living area, age of building, number of elevators, number of entrances, state of the building, number of floor</td>\n",
       "      <td>normalized</td>\n",
       "    </tr>\n",
       "    <tr>\n",
       "      <th>56</th>\n",
       "      <td>NONLIVINGAPARTMENTS_AVG</td>\n",
       "      <td>Normalized information about building where the client lives, What is average (_AVG suffix), modus (_MODE suffix), median (_MEDI suffix) apartment size, common area, living area, age of building, number of elevators, number of entrances, state of the building, number of floor</td>\n",
       "      <td>normalized</td>\n",
       "    </tr>\n",
       "    <tr>\n",
       "      <th>57</th>\n",
       "      <td>NONLIVINGAREA_AVG</td>\n",
       "      <td>Normalized information about building where the client lives, What is average (_AVG suffix), modus (_MODE suffix), median (_MEDI suffix) apartment size, common area, living area, age of building, number of elevators, number of entrances, state of the building, number of floor</td>\n",
       "      <td>normalized</td>\n",
       "    </tr>\n",
       "    <tr>\n",
       "      <th>58</th>\n",
       "      <td>APARTMENTS_MODE</td>\n",
       "      <td>Normalized information about building where the client lives, What is average (_AVG suffix), modus (_MODE suffix), median (_MEDI suffix) apartment size, common area, living area, age of building, number of elevators, number of entrances, state of the building, number of floor</td>\n",
       "      <td>normalized</td>\n",
       "    </tr>\n",
       "    <tr>\n",
       "      <th>59</th>\n",
       "      <td>BASEMENTAREA_MODE</td>\n",
       "      <td>Normalized information about building where the client lives, What is average (_AVG suffix), modus (_MODE suffix), median (_MEDI suffix) apartment size, common area, living area, age of building, number of elevators, number of entrances, state of the building, number of floor</td>\n",
       "      <td>normalized</td>\n",
       "    </tr>\n",
       "    <tr>\n",
       "      <th>60</th>\n",
       "      <td>YEARS_BEGINEXPLUATATION_MODE</td>\n",
       "      <td>Normalized information about building where the client lives, What is average (_AVG suffix), modus (_MODE suffix), median (_MEDI suffix) apartment size, common area, living area, age of building, number of elevators, number of entrances, state of the building, number of floor</td>\n",
       "      <td>normalized</td>\n",
       "    </tr>\n",
       "    <tr>\n",
       "      <th>61</th>\n",
       "      <td>YEARS_BUILD_MODE</td>\n",
       "      <td>Normalized information about building where the client lives, What is average (_AVG suffix), modus (_MODE suffix), median (_MEDI suffix) apartment size, common area, living area, age of building, number of elevators, number of entrances, state of the building, number of floor</td>\n",
       "      <td>normalized</td>\n",
       "    </tr>\n",
       "    <tr>\n",
       "      <th>62</th>\n",
       "      <td>COMMONAREA_MODE</td>\n",
       "      <td>Normalized information about building where the client lives, What is average (_AVG suffix), modus (_MODE suffix), median (_MEDI suffix) apartment size, common area, living area, age of building, number of elevators, number of entrances, state of the building, number of floor</td>\n",
       "      <td>normalized</td>\n",
       "    </tr>\n",
       "    <tr>\n",
       "      <th>63</th>\n",
       "      <td>ELEVATORS_MODE</td>\n",
       "      <td>Normalized information about building where the client lives, What is average (_AVG suffix), modus (_MODE suffix), median (_MEDI suffix) apartment size, common area, living area, age of building, number of elevators, number of entrances, state of the building, number of floor</td>\n",
       "      <td>normalized</td>\n",
       "    </tr>\n",
       "    <tr>\n",
       "      <th>64</th>\n",
       "      <td>ENTRANCES_MODE</td>\n",
       "      <td>Normalized information about building where the client lives, What is average (_AVG suffix), modus (_MODE suffix), median (_MEDI suffix) apartment size, common area, living area, age of building, number of elevators, number of entrances, state of the building, number of floor</td>\n",
       "      <td>normalized</td>\n",
       "    </tr>\n",
       "    <tr>\n",
       "      <th>65</th>\n",
       "      <td>FLOORSMAX_MODE</td>\n",
       "      <td>Normalized information about building where the client lives, What is average (_AVG suffix), modus (_MODE suffix), median (_MEDI suffix) apartment size, common area, living area, age of building, number of elevators, number of entrances, state of the building, number of floor</td>\n",
       "      <td>normalized</td>\n",
       "    </tr>\n",
       "    <tr>\n",
       "      <th>66</th>\n",
       "      <td>FLOORSMIN_MODE</td>\n",
       "      <td>Normalized information about building where the client lives, What is average (_AVG suffix), modus (_MODE suffix), median (_MEDI suffix) apartment size, common area, living area, age of building, number of elevators, number of entrances, state of the building, number of floor</td>\n",
       "      <td>normalized</td>\n",
       "    </tr>\n",
       "    <tr>\n",
       "      <th>67</th>\n",
       "      <td>LANDAREA_MODE</td>\n",
       "      <td>Normalized information about building where the client lives, What is average (_AVG suffix), modus (_MODE suffix), median (_MEDI suffix) apartment size, common area, living area, age of building, number of elevators, number of entrances, state of the building, number of floor</td>\n",
       "      <td>normalized</td>\n",
       "    </tr>\n",
       "    <tr>\n",
       "      <th>68</th>\n",
       "      <td>LIVINGAPARTMENTS_MODE</td>\n",
       "      <td>Normalized information about building where the client lives, What is average (_AVG suffix), modus (_MODE suffix), median (_MEDI suffix) apartment size, common area, living area, age of building, number of elevators, number of entrances, state of the building, number of floor</td>\n",
       "      <td>normalized</td>\n",
       "    </tr>\n",
       "    <tr>\n",
       "      <th>69</th>\n",
       "      <td>LIVINGAREA_MODE</td>\n",
       "      <td>Normalized information about building where the client lives, What is average (_AVG suffix), modus (_MODE suffix), median (_MEDI suffix) apartment size, common area, living area, age of building, number of elevators, number of entrances, state of the building, number of floor</td>\n",
       "      <td>normalized</td>\n",
       "    </tr>\n",
       "    <tr>\n",
       "      <th>70</th>\n",
       "      <td>NONLIVINGAPARTMENTS_MODE</td>\n",
       "      <td>Normalized information about building where the client lives, What is average (_AVG suffix), modus (_MODE suffix), median (_MEDI suffix) apartment size, common area, living area, age of building, number of elevators, number of entrances, state of the building, number of floor</td>\n",
       "      <td>normalized</td>\n",
       "    </tr>\n",
       "    <tr>\n",
       "      <th>71</th>\n",
       "      <td>NONLIVINGAREA_MODE</td>\n",
       "      <td>Normalized information about building where the client lives, What is average (_AVG suffix), modus (_MODE suffix), median (_MEDI suffix) apartment size, common area, living area, age of building, number of elevators, number of entrances, state of the building, number of floor</td>\n",
       "      <td>normalized</td>\n",
       "    </tr>\n",
       "    <tr>\n",
       "      <th>72</th>\n",
       "      <td>APARTMENTS_MEDI</td>\n",
       "      <td>Normalized information about building where the client lives, What is average (_AVG suffix), modus (_MODE suffix), median (_MEDI suffix) apartment size, common area, living area, age of building, number of elevators, number of entrances, state of the building, number of floor</td>\n",
       "      <td>normalized</td>\n",
       "    </tr>\n",
       "    <tr>\n",
       "      <th>73</th>\n",
       "      <td>BASEMENTAREA_MEDI</td>\n",
       "      <td>Normalized information about building where the client lives, What is average (_AVG suffix), modus (_MODE suffix), median (_MEDI suffix) apartment size, common area, living area, age of building, number of elevators, number of entrances, state of the building, number of floor</td>\n",
       "      <td>normalized</td>\n",
       "    </tr>\n",
       "    <tr>\n",
       "      <th>74</th>\n",
       "      <td>YEARS_BEGINEXPLUATATION_MEDI</td>\n",
       "      <td>Normalized information about building where the client lives, What is average (_AVG suffix), modus (_MODE suffix), median (_MEDI suffix) apartment size, common area, living area, age of building, number of elevators, number of entrances, state of the building, number of floor</td>\n",
       "      <td>normalized</td>\n",
       "    </tr>\n",
       "    <tr>\n",
       "      <th>75</th>\n",
       "      <td>YEARS_BUILD_MEDI</td>\n",
       "      <td>Normalized information about building where the client lives, What is average (_AVG suffix), modus (_MODE suffix), median (_MEDI suffix) apartment size, common area, living area, age of building, number of elevators, number of entrances, state of the building, number of floor</td>\n",
       "      <td>normalized</td>\n",
       "    </tr>\n",
       "    <tr>\n",
       "      <th>76</th>\n",
       "      <td>COMMONAREA_MEDI</td>\n",
       "      <td>Normalized information about building where the client lives, What is average (_AVG suffix), modus (_MODE suffix), median (_MEDI suffix) apartment size, common area, living area, age of building, number of elevators, number of entrances, state of the building, number of floor</td>\n",
       "      <td>normalized</td>\n",
       "    </tr>\n",
       "    <tr>\n",
       "      <th>77</th>\n",
       "      <td>ELEVATORS_MEDI</td>\n",
       "      <td>Normalized information about building where the client lives, What is average (_AVG suffix), modus (_MODE suffix), median (_MEDI suffix) apartment size, common area, living area, age of building, number of elevators, number of entrances, state of the building, number of floor</td>\n",
       "      <td>normalized</td>\n",
       "    </tr>\n",
       "    <tr>\n",
       "      <th>78</th>\n",
       "      <td>ENTRANCES_MEDI</td>\n",
       "      <td>Normalized information about building where the client lives, What is average (_AVG suffix), modus (_MODE suffix), median (_MEDI suffix) apartment size, common area, living area, age of building, number of elevators, number of entrances, state of the building, number of floor</td>\n",
       "      <td>normalized</td>\n",
       "    </tr>\n",
       "    <tr>\n",
       "      <th>79</th>\n",
       "      <td>FLOORSMAX_MEDI</td>\n",
       "      <td>Normalized information about building where the client lives, What is average (_AVG suffix), modus (_MODE suffix), median (_MEDI suffix) apartment size, common area, living area, age of building, number of elevators, number of entrances, state of the building, number of floor</td>\n",
       "      <td>normalized</td>\n",
       "    </tr>\n",
       "    <tr>\n",
       "      <th>80</th>\n",
       "      <td>FLOORSMIN_MEDI</td>\n",
       "      <td>Normalized information about building where the client lives, What is average (_AVG suffix), modus (_MODE suffix), median (_MEDI suffix) apartment size, common area, living area, age of building, number of elevators, number of entrances, state of the building, number of floor</td>\n",
       "      <td>normalized</td>\n",
       "    </tr>\n",
       "    <tr>\n",
       "      <th>81</th>\n",
       "      <td>LANDAREA_MEDI</td>\n",
       "      <td>Normalized information about building where the client lives, What is average (_AVG suffix), modus (_MODE suffix), median (_MEDI suffix) apartment size, common area, living area, age of building, number of elevators, number of entrances, state of the building, number of floor</td>\n",
       "      <td>normalized</td>\n",
       "    </tr>\n",
       "    <tr>\n",
       "      <th>82</th>\n",
       "      <td>LIVINGAPARTMENTS_MEDI</td>\n",
       "      <td>Normalized information about building where the client lives, What is average (_AVG suffix), modus (_MODE suffix), median (_MEDI suffix) apartment size, common area, living area, age of building, number of elevators, number of entrances, state of the building, number of floor</td>\n",
       "      <td>normalized</td>\n",
       "    </tr>\n",
       "    <tr>\n",
       "      <th>83</th>\n",
       "      <td>LIVINGAREA_MEDI</td>\n",
       "      <td>Normalized information about building where the client lives, What is average (_AVG suffix), modus (_MODE suffix), median (_MEDI suffix) apartment size, common area, living area, age of building, number of elevators, number of entrances, state of the building, number of floor</td>\n",
       "      <td>normalized</td>\n",
       "    </tr>\n",
       "    <tr>\n",
       "      <th>84</th>\n",
       "      <td>NONLIVINGAPARTMENTS_MEDI</td>\n",
       "      <td>Normalized information about building where the client lives, What is average (_AVG suffix), modus (_MODE suffix), median (_MEDI suffix) apartment size, common area, living area, age of building, number of elevators, number of entrances, state of the building, number of floor</td>\n",
       "      <td>normalized</td>\n",
       "    </tr>\n",
       "    <tr>\n",
       "      <th>85</th>\n",
       "      <td>NONLIVINGAREA_MEDI</td>\n",
       "      <td>Normalized information about building where the client lives, What is average (_AVG suffix), modus (_MODE suffix), median (_MEDI suffix) apartment size, common area, living area, age of building, number of elevators, number of entrances, state of the building, number of floor</td>\n",
       "      <td>normalized</td>\n",
       "    </tr>\n",
       "    <tr>\n",
       "      <th>86</th>\n",
       "      <td>FONDKAPREMONT_MODE</td>\n",
       "      <td>Normalized information about building where the client lives, What is average (_AVG suffix), modus (_MODE suffix), median (_MEDI suffix) apartment size, common area, living area, age of building, number of elevators, number of entrances, state of the building, number of floor</td>\n",
       "      <td>normalized</td>\n",
       "    </tr>\n",
       "    <tr>\n",
       "      <th>87</th>\n",
       "      <td>HOUSETYPE_MODE</td>\n",
       "      <td>Normalized information about building where the client lives, What is average (_AVG suffix), modus (_MODE suffix), median (_MEDI suffix) apartment size, common area, living area, age of building, number of elevators, number of entrances, state of the building, number of floor</td>\n",
       "      <td>normalized</td>\n",
       "    </tr>\n",
       "    <tr>\n",
       "      <th>88</th>\n",
       "      <td>TOTALAREA_MODE</td>\n",
       "      <td>Normalized information about building where the client lives, What is average (_AVG suffix), modus (_MODE suffix), median (_MEDI suffix) apartment size, common area, living area, age of building, number of elevators, number of entrances, state of the building, number of floor</td>\n",
       "      <td>normalized</td>\n",
       "    </tr>\n",
       "    <tr>\n",
       "      <th>89</th>\n",
       "      <td>WALLSMATERIAL_MODE</td>\n",
       "      <td>Normalized information about building where the client lives, What is average (_AVG suffix), modus (_MODE suffix), median (_MEDI suffix) apartment size, common area, living area, age of building, number of elevators, number of entrances, state of the building, number of floor</td>\n",
       "      <td>normalized</td>\n",
       "    </tr>\n",
       "    <tr>\n",
       "      <th>90</th>\n",
       "      <td>EMERGENCYSTATE_MODE</td>\n",
       "      <td>Normalized information about building where the client lives, What is average (_AVG suffix), modus (_MODE suffix), median (_MEDI suffix) apartment size, common area, living area, age of building, number of elevators, number of entrances, state of the building, number of floor</td>\n",
       "      <td>normalized</td>\n",
       "    </tr>\n",
       "    <tr>\n",
       "      <th>91</th>\n",
       "      <td>OBS_30_CNT_SOCIAL_CIRCLE</td>\n",
       "      <td>How many observation of client's social surroundings with observable 30 DPD (days past due) default</td>\n",
       "      <td>NaN</td>\n",
       "    </tr>\n",
       "    <tr>\n",
       "      <th>92</th>\n",
       "      <td>DEF_30_CNT_SOCIAL_CIRCLE</td>\n",
       "      <td>How many observation of client's social surroundings defaulted on 30 DPD (days past due)</td>\n",
       "      <td>NaN</td>\n",
       "    </tr>\n",
       "    <tr>\n",
       "      <th>93</th>\n",
       "      <td>OBS_60_CNT_SOCIAL_CIRCLE</td>\n",
       "      <td>How many observation of client's social surroundings with observable 60 DPD (days past due) default</td>\n",
       "      <td>NaN</td>\n",
       "    </tr>\n",
       "    <tr>\n",
       "      <th>94</th>\n",
       "      <td>DEF_60_CNT_SOCIAL_CIRCLE</td>\n",
       "      <td>How many observation of client's social surroundings defaulted on 60 (days past due) DPD</td>\n",
       "      <td>NaN</td>\n",
       "    </tr>\n",
       "    <tr>\n",
       "      <th>95</th>\n",
       "      <td>DAYS_LAST_PHONE_CHANGE</td>\n",
       "      <td>How many days before application did client change phone</td>\n",
       "      <td>NaN</td>\n",
       "    </tr>\n",
       "    <tr>\n",
       "      <th>96</th>\n",
       "      <td>FLAG_DOCUMENT_2</td>\n",
       "      <td>Did client provide document 2</td>\n",
       "      <td>NaN</td>\n",
       "    </tr>\n",
       "    <tr>\n",
       "      <th>97</th>\n",
       "      <td>FLAG_DOCUMENT_3</td>\n",
       "      <td>Did client provide document 3</td>\n",
       "      <td>NaN</td>\n",
       "    </tr>\n",
       "    <tr>\n",
       "      <th>98</th>\n",
       "      <td>FLAG_DOCUMENT_4</td>\n",
       "      <td>Did client provide document 4</td>\n",
       "      <td>NaN</td>\n",
       "    </tr>\n",
       "    <tr>\n",
       "      <th>99</th>\n",
       "      <td>FLAG_DOCUMENT_5</td>\n",
       "      <td>Did client provide document 5</td>\n",
       "      <td>NaN</td>\n",
       "    </tr>\n",
       "    <tr>\n",
       "      <th>100</th>\n",
       "      <td>FLAG_DOCUMENT_6</td>\n",
       "      <td>Did client provide document 6</td>\n",
       "      <td>NaN</td>\n",
       "    </tr>\n",
       "    <tr>\n",
       "      <th>101</th>\n",
       "      <td>FLAG_DOCUMENT_7</td>\n",
       "      <td>Did client provide document 7</td>\n",
       "      <td>NaN</td>\n",
       "    </tr>\n",
       "    <tr>\n",
       "      <th>102</th>\n",
       "      <td>FLAG_DOCUMENT_8</td>\n",
       "      <td>Did client provide document 8</td>\n",
       "      <td>NaN</td>\n",
       "    </tr>\n",
       "    <tr>\n",
       "      <th>103</th>\n",
       "      <td>FLAG_DOCUMENT_9</td>\n",
       "      <td>Did client provide document 9</td>\n",
       "      <td>NaN</td>\n",
       "    </tr>\n",
       "    <tr>\n",
       "      <th>104</th>\n",
       "      <td>FLAG_DOCUMENT_10</td>\n",
       "      <td>Did client provide document 10</td>\n",
       "      <td>NaN</td>\n",
       "    </tr>\n",
       "    <tr>\n",
       "      <th>105</th>\n",
       "      <td>FLAG_DOCUMENT_11</td>\n",
       "      <td>Did client provide document 11</td>\n",
       "      <td>NaN</td>\n",
       "    </tr>\n",
       "    <tr>\n",
       "      <th>106</th>\n",
       "      <td>FLAG_DOCUMENT_12</td>\n",
       "      <td>Did client provide document 12</td>\n",
       "      <td>NaN</td>\n",
       "    </tr>\n",
       "    <tr>\n",
       "      <th>107</th>\n",
       "      <td>FLAG_DOCUMENT_13</td>\n",
       "      <td>Did client provide document 13</td>\n",
       "      <td>NaN</td>\n",
       "    </tr>\n",
       "    <tr>\n",
       "      <th>108</th>\n",
       "      <td>FLAG_DOCUMENT_14</td>\n",
       "      <td>Did client provide document 14</td>\n",
       "      <td>NaN</td>\n",
       "    </tr>\n",
       "    <tr>\n",
       "      <th>109</th>\n",
       "      <td>FLAG_DOCUMENT_15</td>\n",
       "      <td>Did client provide document 15</td>\n",
       "      <td>NaN</td>\n",
       "    </tr>\n",
       "    <tr>\n",
       "      <th>110</th>\n",
       "      <td>FLAG_DOCUMENT_16</td>\n",
       "      <td>Did client provide document 16</td>\n",
       "      <td>NaN</td>\n",
       "    </tr>\n",
       "    <tr>\n",
       "      <th>111</th>\n",
       "      <td>FLAG_DOCUMENT_17</td>\n",
       "      <td>Did client provide document 17</td>\n",
       "      <td>NaN</td>\n",
       "    </tr>\n",
       "    <tr>\n",
       "      <th>112</th>\n",
       "      <td>FLAG_DOCUMENT_18</td>\n",
       "      <td>Did client provide document 18</td>\n",
       "      <td>NaN</td>\n",
       "    </tr>\n",
       "    <tr>\n",
       "      <th>113</th>\n",
       "      <td>FLAG_DOCUMENT_19</td>\n",
       "      <td>Did client provide document 19</td>\n",
       "      <td>NaN</td>\n",
       "    </tr>\n",
       "    <tr>\n",
       "      <th>114</th>\n",
       "      <td>FLAG_DOCUMENT_20</td>\n",
       "      <td>Did client provide document 20</td>\n",
       "      <td>NaN</td>\n",
       "    </tr>\n",
       "    <tr>\n",
       "      <th>115</th>\n",
       "      <td>FLAG_DOCUMENT_21</td>\n",
       "      <td>Did client provide document 21</td>\n",
       "      <td>NaN</td>\n",
       "    </tr>\n",
       "    <tr>\n",
       "      <th>116</th>\n",
       "      <td>AMT_REQ_CREDIT_BUREAU_HOUR</td>\n",
       "      <td>Number of enquiries to Credit Bureau about the client one hour before application</td>\n",
       "      <td>NaN</td>\n",
       "    </tr>\n",
       "    <tr>\n",
       "      <th>117</th>\n",
       "      <td>AMT_REQ_CREDIT_BUREAU_DAY</td>\n",
       "      <td>Number of enquiries to Credit Bureau about the client one day before application (excluding one hour before application)</td>\n",
       "      <td>NaN</td>\n",
       "    </tr>\n",
       "    <tr>\n",
       "      <th>118</th>\n",
       "      <td>AMT_REQ_CREDIT_BUREAU_WEEK</td>\n",
       "      <td>Number of enquiries to Credit Bureau about the client one week before application (excluding one day before application)</td>\n",
       "      <td>NaN</td>\n",
       "    </tr>\n",
       "    <tr>\n",
       "      <th>119</th>\n",
       "      <td>AMT_REQ_CREDIT_BUREAU_MON</td>\n",
       "      <td>Number of enquiries to Credit Bureau about the client one month before application (excluding one week before application)</td>\n",
       "      <td>NaN</td>\n",
       "    </tr>\n",
       "    <tr>\n",
       "      <th>120</th>\n",
       "      <td>AMT_REQ_CREDIT_BUREAU_QRT</td>\n",
       "      <td>Number of enquiries to Credit Bureau about the client 3 month before application (excluding one month before application)</td>\n",
       "      <td>NaN</td>\n",
       "    </tr>\n",
       "    <tr>\n",
       "      <th>121</th>\n",
       "      <td>AMT_REQ_CREDIT_BUREAU_YEAR</td>\n",
       "      <td>Number of enquiries to Credit Bureau about the client one day year (excluding last 3 months before application)</td>\n",
       "      <td>NaN</td>\n",
       "    </tr>\n",
       "  </tbody>\n",
       "</table>\n",
       "</div>"
      ],
      "text/plain": [
       "                              Row  \\\n",
       "0                      SK_ID_CURR   \n",
       "1                          TARGET   \n",
       "2              NAME_CONTRACT_TYPE   \n",
       "3                     CODE_GENDER   \n",
       "4                    FLAG_OWN_CAR   \n",
       "5                 FLAG_OWN_REALTY   \n",
       "6                    CNT_CHILDREN   \n",
       "7                AMT_INCOME_TOTAL   \n",
       "8                      AMT_CREDIT   \n",
       "9                     AMT_ANNUITY   \n",
       "10                AMT_GOODS_PRICE   \n",
       "11                NAME_TYPE_SUITE   \n",
       "12               NAME_INCOME_TYPE   \n",
       "13            NAME_EDUCATION_TYPE   \n",
       "14             NAME_FAMILY_STATUS   \n",
       "15              NAME_HOUSING_TYPE   \n",
       "16     REGION_POPULATION_RELATIVE   \n",
       "17                     DAYS_BIRTH   \n",
       "18                  DAYS_EMPLOYED   \n",
       "19              DAYS_REGISTRATION   \n",
       "20                DAYS_ID_PUBLISH   \n",
       "21                    OWN_CAR_AGE   \n",
       "22                     FLAG_MOBIL   \n",
       "23                 FLAG_EMP_PHONE   \n",
       "24                FLAG_WORK_PHONE   \n",
       "25               FLAG_CONT_MOBILE   \n",
       "26                     FLAG_PHONE   \n",
       "27                     FLAG_EMAIL   \n",
       "28                OCCUPATION_TYPE   \n",
       "29                CNT_FAM_MEMBERS   \n",
       "30           REGION_RATING_CLIENT   \n",
       "31    REGION_RATING_CLIENT_W_CITY   \n",
       "32     WEEKDAY_APPR_PROCESS_START   \n",
       "33        HOUR_APPR_PROCESS_START   \n",
       "34     REG_REGION_NOT_LIVE_REGION   \n",
       "35     REG_REGION_NOT_WORK_REGION   \n",
       "36    LIVE_REGION_NOT_WORK_REGION   \n",
       "37         REG_CITY_NOT_LIVE_CITY   \n",
       "38         REG_CITY_NOT_WORK_CITY   \n",
       "39        LIVE_CITY_NOT_WORK_CITY   \n",
       "40              ORGANIZATION_TYPE   \n",
       "41                   EXT_SOURCE_1   \n",
       "42                   EXT_SOURCE_2   \n",
       "43                   EXT_SOURCE_3   \n",
       "44                 APARTMENTS_AVG   \n",
       "45               BASEMENTAREA_AVG   \n",
       "46    YEARS_BEGINEXPLUATATION_AVG   \n",
       "47                YEARS_BUILD_AVG   \n",
       "48                 COMMONAREA_AVG   \n",
       "49                  ELEVATORS_AVG   \n",
       "50                  ENTRANCES_AVG   \n",
       "51                  FLOORSMAX_AVG   \n",
       "52                  FLOORSMIN_AVG   \n",
       "53                   LANDAREA_AVG   \n",
       "54           LIVINGAPARTMENTS_AVG   \n",
       "55                 LIVINGAREA_AVG   \n",
       "56        NONLIVINGAPARTMENTS_AVG   \n",
       "57              NONLIVINGAREA_AVG   \n",
       "58                APARTMENTS_MODE   \n",
       "59              BASEMENTAREA_MODE   \n",
       "60   YEARS_BEGINEXPLUATATION_MODE   \n",
       "61               YEARS_BUILD_MODE   \n",
       "62                COMMONAREA_MODE   \n",
       "63                 ELEVATORS_MODE   \n",
       "64                 ENTRANCES_MODE   \n",
       "65                 FLOORSMAX_MODE   \n",
       "66                 FLOORSMIN_MODE   \n",
       "67                  LANDAREA_MODE   \n",
       "68          LIVINGAPARTMENTS_MODE   \n",
       "69                LIVINGAREA_MODE   \n",
       "70       NONLIVINGAPARTMENTS_MODE   \n",
       "71             NONLIVINGAREA_MODE   \n",
       "72                APARTMENTS_MEDI   \n",
       "73              BASEMENTAREA_MEDI   \n",
       "74   YEARS_BEGINEXPLUATATION_MEDI   \n",
       "75               YEARS_BUILD_MEDI   \n",
       "76                COMMONAREA_MEDI   \n",
       "77                 ELEVATORS_MEDI   \n",
       "78                 ENTRANCES_MEDI   \n",
       "79                 FLOORSMAX_MEDI   \n",
       "80                 FLOORSMIN_MEDI   \n",
       "81                  LANDAREA_MEDI   \n",
       "82          LIVINGAPARTMENTS_MEDI   \n",
       "83                LIVINGAREA_MEDI   \n",
       "84       NONLIVINGAPARTMENTS_MEDI   \n",
       "85             NONLIVINGAREA_MEDI   \n",
       "86             FONDKAPREMONT_MODE   \n",
       "87                 HOUSETYPE_MODE   \n",
       "88                 TOTALAREA_MODE   \n",
       "89             WALLSMATERIAL_MODE   \n",
       "90            EMERGENCYSTATE_MODE   \n",
       "91       OBS_30_CNT_SOCIAL_CIRCLE   \n",
       "92       DEF_30_CNT_SOCIAL_CIRCLE   \n",
       "93       OBS_60_CNT_SOCIAL_CIRCLE   \n",
       "94       DEF_60_CNT_SOCIAL_CIRCLE   \n",
       "95         DAYS_LAST_PHONE_CHANGE   \n",
       "96                FLAG_DOCUMENT_2   \n",
       "97                FLAG_DOCUMENT_3   \n",
       "98                FLAG_DOCUMENT_4   \n",
       "99                FLAG_DOCUMENT_5   \n",
       "100               FLAG_DOCUMENT_6   \n",
       "101               FLAG_DOCUMENT_7   \n",
       "102               FLAG_DOCUMENT_8   \n",
       "103               FLAG_DOCUMENT_9   \n",
       "104              FLAG_DOCUMENT_10   \n",
       "105              FLAG_DOCUMENT_11   \n",
       "106              FLAG_DOCUMENT_12   \n",
       "107              FLAG_DOCUMENT_13   \n",
       "108              FLAG_DOCUMENT_14   \n",
       "109              FLAG_DOCUMENT_15   \n",
       "110              FLAG_DOCUMENT_16   \n",
       "111              FLAG_DOCUMENT_17   \n",
       "112              FLAG_DOCUMENT_18   \n",
       "113              FLAG_DOCUMENT_19   \n",
       "114              FLAG_DOCUMENT_20   \n",
       "115              FLAG_DOCUMENT_21   \n",
       "116    AMT_REQ_CREDIT_BUREAU_HOUR   \n",
       "117     AMT_REQ_CREDIT_BUREAU_DAY   \n",
       "118    AMT_REQ_CREDIT_BUREAU_WEEK   \n",
       "119     AMT_REQ_CREDIT_BUREAU_MON   \n",
       "120     AMT_REQ_CREDIT_BUREAU_QRT   \n",
       "121    AMT_REQ_CREDIT_BUREAU_YEAR   \n",
       "\n",
       "                                                                                                                                                                                                                                                                              Description  \\\n",
       "0                                                                                                                                                                                                                                                                ID of loan in our sample   \n",
       "1                                                                                             Target variable (1 - client with payment difficulties: he/she had late payment more than X days on at least one of the first Y installments of the loan in our sample, 0 - all other cases)   \n",
       "2                                                                                                                                                                                                                                             Identification if loan is cash or revolving   \n",
       "3                                                                                                                                                                                                                                                                    Gender of the client   \n",
       "4                                                                                                                                                                                                                                                           Flag if the client owns a car   \n",
       "5                                                                                                                                                                                                                                                     Flag if client owns a house or flat   \n",
       "6                                                                                                                                                                                                                                                       Number of children the client has   \n",
       "7                                                                                                                                                                                                                                                                    Income of the client   \n",
       "8                                                                                                                                                                                                                                                               Credit amount of the loan   \n",
       "9                                                                                                                                                                                                                                                                            Loan annuity   \n",
       "10                                                                                                                                                                                                            For consumer loans it is the price of the goods for which the loan is given   \n",
       "11                                                                                                                                                                                                                          Who was accompanying client when he was applying for the loan   \n",
       "12                                                                                                                                                                                                                          Clients income type (businessman, working, maternity leave,\n",
       ")   \n",
       "13                                                                                                                                                                                                                                         Level of highest education the client achieved   \n",
       "14                                                                                                                                                                                                                                                            Family status of the client   \n",
       "15                                                                                                                                                                                                        What is the housing situation of the client (renting, living with parents, ...)   \n",
       "16                                                                                                                                                                     Normalized population of region where client lives (higher number means the client lives in more populated region)   \n",
       "17                                                                                                                                                                                                                                        Client's age in days at the time of application   \n",
       "18                                                                                                                                                                                                             How many days before the application the person started current employment   \n",
       "19                                                                                                                                                                                                                How many days before the application did client change his registration   \n",
       "20                                                                                                                                                                        How many days before the application did client change the identity document with which he applied for the loan   \n",
       "21                                                                                                                                                                                                                                                                    Age of client's car   \n",
       "22                                                                                                                                                                                                                                          Did client provide mobile phone (1=YES, 0=NO)   \n",
       "23                                                                                                                                                                                                                                            Did client provide work phone (1=YES, 0=NO)   \n",
       "24                                                                                                                                                                                                                                            Did client provide home phone (1=YES, 0=NO)   \n",
       "25                                                                                                                                                                                                                                               Was mobile phone reachable (1=YES, 0=NO)   \n",
       "26                                                                                                                                                                                                                                            Did client provide home phone (1=YES, 0=NO)   \n",
       "27                                                                                                                                                                                                                                                 Did client provide email (1=YES, 0=NO)   \n",
       "28                                                                                                                                                                                                                                           What kind of occupation does the client have   \n",
       "29                                                                                                                                                                                                                                               How many family members does client have   \n",
       "30                                                                                                                                                                                                                                    Our rating of the region where client lives (1,2,3)   \n",
       "31                                                                                                                                                                                                      Our rating of the region where client lives with taking city into account (1,2,3)   \n",
       "32                                                                                                                                                                                                                             On which day of the week did the client apply for the loan   \n",
       "33                                                                                                                                                                                                                           Approximately at what hour did the client apply for the loan   \n",
       "34                                                                                                                                                                               Flag if client's permanent address does not match contact address (1=different, 0=same, at region level)   \n",
       "35                                                                                                                                                                                  Flag if client's permanent address does not match work address (1=different, 0=same, at region level)   \n",
       "36                                                                                                                                                                                    Flag if client's contact address does not match work address (1=different, 0=same, at region level)   \n",
       "37                                                                                                                                                                                 Flag if client's permanent address does not match contact address (1=different, 0=same, at city level)   \n",
       "38                                                                                                                                                                                    Flag if client's permanent address does not match work address (1=different, 0=same, at city level)   \n",
       "39                                                                                                                                                                                      Flag if client's contact address does not match work address (1=different, 0=same, at city level)   \n",
       "40                                                                                                                                                                                                                                                Type of organization where client works   \n",
       "41                                                                                                                                                                                                                                             Normalized score from external data source   \n",
       "42                                                                                                                                                                                                                                             Normalized score from external data source   \n",
       "43                                                                                                                                                                                                                                             Normalized score from external data source   \n",
       "44   Normalized information about building where the client lives, What is average (_AVG suffix), modus (_MODE suffix), median (_MEDI suffix) apartment size, common area, living area, age of building, number of elevators, number of entrances, state of the building, number of floor   \n",
       "45   Normalized information about building where the client lives, What is average (_AVG suffix), modus (_MODE suffix), median (_MEDI suffix) apartment size, common area, living area, age of building, number of elevators, number of entrances, state of the building, number of floor   \n",
       "46   Normalized information about building where the client lives, What is average (_AVG suffix), modus (_MODE suffix), median (_MEDI suffix) apartment size, common area, living area, age of building, number of elevators, number of entrances, state of the building, number of floor   \n",
       "47   Normalized information about building where the client lives, What is average (_AVG suffix), modus (_MODE suffix), median (_MEDI suffix) apartment size, common area, living area, age of building, number of elevators, number of entrances, state of the building, number of floor   \n",
       "48   Normalized information about building where the client lives, What is average (_AVG suffix), modus (_MODE suffix), median (_MEDI suffix) apartment size, common area, living area, age of building, number of elevators, number of entrances, state of the building, number of floor   \n",
       "49   Normalized information about building where the client lives, What is average (_AVG suffix), modus (_MODE suffix), median (_MEDI suffix) apartment size, common area, living area, age of building, number of elevators, number of entrances, state of the building, number of floor   \n",
       "50   Normalized information about building where the client lives, What is average (_AVG suffix), modus (_MODE suffix), median (_MEDI suffix) apartment size, common area, living area, age of building, number of elevators, number of entrances, state of the building, number of floor   \n",
       "51   Normalized information about building where the client lives, What is average (_AVG suffix), modus (_MODE suffix), median (_MEDI suffix) apartment size, common area, living area, age of building, number of elevators, number of entrances, state of the building, number of floor   \n",
       "52   Normalized information about building where the client lives, What is average (_AVG suffix), modus (_MODE suffix), median (_MEDI suffix) apartment size, common area, living area, age of building, number of elevators, number of entrances, state of the building, number of floor   \n",
       "53   Normalized information about building where the client lives, What is average (_AVG suffix), modus (_MODE suffix), median (_MEDI suffix) apartment size, common area, living area, age of building, number of elevators, number of entrances, state of the building, number of floor   \n",
       "54   Normalized information about building where the client lives, What is average (_AVG suffix), modus (_MODE suffix), median (_MEDI suffix) apartment size, common area, living area, age of building, number of elevators, number of entrances, state of the building, number of floor   \n",
       "55   Normalized information about building where the client lives, What is average (_AVG suffix), modus (_MODE suffix), median (_MEDI suffix) apartment size, common area, living area, age of building, number of elevators, number of entrances, state of the building, number of floor   \n",
       "56   Normalized information about building where the client lives, What is average (_AVG suffix), modus (_MODE suffix), median (_MEDI suffix) apartment size, common area, living area, age of building, number of elevators, number of entrances, state of the building, number of floor   \n",
       "57   Normalized information about building where the client lives, What is average (_AVG suffix), modus (_MODE suffix), median (_MEDI suffix) apartment size, common area, living area, age of building, number of elevators, number of entrances, state of the building, number of floor   \n",
       "58   Normalized information about building where the client lives, What is average (_AVG suffix), modus (_MODE suffix), median (_MEDI suffix) apartment size, common area, living area, age of building, number of elevators, number of entrances, state of the building, number of floor   \n",
       "59   Normalized information about building where the client lives, What is average (_AVG suffix), modus (_MODE suffix), median (_MEDI suffix) apartment size, common area, living area, age of building, number of elevators, number of entrances, state of the building, number of floor   \n",
       "60   Normalized information about building where the client lives, What is average (_AVG suffix), modus (_MODE suffix), median (_MEDI suffix) apartment size, common area, living area, age of building, number of elevators, number of entrances, state of the building, number of floor   \n",
       "61   Normalized information about building where the client lives, What is average (_AVG suffix), modus (_MODE suffix), median (_MEDI suffix) apartment size, common area, living area, age of building, number of elevators, number of entrances, state of the building, number of floor   \n",
       "62   Normalized information about building where the client lives, What is average (_AVG suffix), modus (_MODE suffix), median (_MEDI suffix) apartment size, common area, living area, age of building, number of elevators, number of entrances, state of the building, number of floor   \n",
       "63   Normalized information about building where the client lives, What is average (_AVG suffix), modus (_MODE suffix), median (_MEDI suffix) apartment size, common area, living area, age of building, number of elevators, number of entrances, state of the building, number of floor   \n",
       "64   Normalized information about building where the client lives, What is average (_AVG suffix), modus (_MODE suffix), median (_MEDI suffix) apartment size, common area, living area, age of building, number of elevators, number of entrances, state of the building, number of floor   \n",
       "65   Normalized information about building where the client lives, What is average (_AVG suffix), modus (_MODE suffix), median (_MEDI suffix) apartment size, common area, living area, age of building, number of elevators, number of entrances, state of the building, number of floor   \n",
       "66   Normalized information about building where the client lives, What is average (_AVG suffix), modus (_MODE suffix), median (_MEDI suffix) apartment size, common area, living area, age of building, number of elevators, number of entrances, state of the building, number of floor   \n",
       "67   Normalized information about building where the client lives, What is average (_AVG suffix), modus (_MODE suffix), median (_MEDI suffix) apartment size, common area, living area, age of building, number of elevators, number of entrances, state of the building, number of floor   \n",
       "68   Normalized information about building where the client lives, What is average (_AVG suffix), modus (_MODE suffix), median (_MEDI suffix) apartment size, common area, living area, age of building, number of elevators, number of entrances, state of the building, number of floor   \n",
       "69   Normalized information about building where the client lives, What is average (_AVG suffix), modus (_MODE suffix), median (_MEDI suffix) apartment size, common area, living area, age of building, number of elevators, number of entrances, state of the building, number of floor   \n",
       "70   Normalized information about building where the client lives, What is average (_AVG suffix), modus (_MODE suffix), median (_MEDI suffix) apartment size, common area, living area, age of building, number of elevators, number of entrances, state of the building, number of floor   \n",
       "71   Normalized information about building where the client lives, What is average (_AVG suffix), modus (_MODE suffix), median (_MEDI suffix) apartment size, common area, living area, age of building, number of elevators, number of entrances, state of the building, number of floor   \n",
       "72   Normalized information about building where the client lives, What is average (_AVG suffix), modus (_MODE suffix), median (_MEDI suffix) apartment size, common area, living area, age of building, number of elevators, number of entrances, state of the building, number of floor   \n",
       "73   Normalized information about building where the client lives, What is average (_AVG suffix), modus (_MODE suffix), median (_MEDI suffix) apartment size, common area, living area, age of building, number of elevators, number of entrances, state of the building, number of floor   \n",
       "74   Normalized information about building where the client lives, What is average (_AVG suffix), modus (_MODE suffix), median (_MEDI suffix) apartment size, common area, living area, age of building, number of elevators, number of entrances, state of the building, number of floor   \n",
       "75   Normalized information about building where the client lives, What is average (_AVG suffix), modus (_MODE suffix), median (_MEDI suffix) apartment size, common area, living area, age of building, number of elevators, number of entrances, state of the building, number of floor   \n",
       "76   Normalized information about building where the client lives, What is average (_AVG suffix), modus (_MODE suffix), median (_MEDI suffix) apartment size, common area, living area, age of building, number of elevators, number of entrances, state of the building, number of floor   \n",
       "77   Normalized information about building where the client lives, What is average (_AVG suffix), modus (_MODE suffix), median (_MEDI suffix) apartment size, common area, living area, age of building, number of elevators, number of entrances, state of the building, number of floor   \n",
       "78   Normalized information about building where the client lives, What is average (_AVG suffix), modus (_MODE suffix), median (_MEDI suffix) apartment size, common area, living area, age of building, number of elevators, number of entrances, state of the building, number of floor   \n",
       "79   Normalized information about building where the client lives, What is average (_AVG suffix), modus (_MODE suffix), median (_MEDI suffix) apartment size, common area, living area, age of building, number of elevators, number of entrances, state of the building, number of floor   \n",
       "80   Normalized information about building where the client lives, What is average (_AVG suffix), modus (_MODE suffix), median (_MEDI suffix) apartment size, common area, living area, age of building, number of elevators, number of entrances, state of the building, number of floor   \n",
       "81   Normalized information about building where the client lives, What is average (_AVG suffix), modus (_MODE suffix), median (_MEDI suffix) apartment size, common area, living area, age of building, number of elevators, number of entrances, state of the building, number of floor   \n",
       "82   Normalized information about building where the client lives, What is average (_AVG suffix), modus (_MODE suffix), median (_MEDI suffix) apartment size, common area, living area, age of building, number of elevators, number of entrances, state of the building, number of floor   \n",
       "83   Normalized information about building where the client lives, What is average (_AVG suffix), modus (_MODE suffix), median (_MEDI suffix) apartment size, common area, living area, age of building, number of elevators, number of entrances, state of the building, number of floor   \n",
       "84   Normalized information about building where the client lives, What is average (_AVG suffix), modus (_MODE suffix), median (_MEDI suffix) apartment size, common area, living area, age of building, number of elevators, number of entrances, state of the building, number of floor   \n",
       "85   Normalized information about building where the client lives, What is average (_AVG suffix), modus (_MODE suffix), median (_MEDI suffix) apartment size, common area, living area, age of building, number of elevators, number of entrances, state of the building, number of floor   \n",
       "86   Normalized information about building where the client lives, What is average (_AVG suffix), modus (_MODE suffix), median (_MEDI suffix) apartment size, common area, living area, age of building, number of elevators, number of entrances, state of the building, number of floor   \n",
       "87   Normalized information about building where the client lives, What is average (_AVG suffix), modus (_MODE suffix), median (_MEDI suffix) apartment size, common area, living area, age of building, number of elevators, number of entrances, state of the building, number of floor   \n",
       "88   Normalized information about building where the client lives, What is average (_AVG suffix), modus (_MODE suffix), median (_MEDI suffix) apartment size, common area, living area, age of building, number of elevators, number of entrances, state of the building, number of floor   \n",
       "89   Normalized information about building where the client lives, What is average (_AVG suffix), modus (_MODE suffix), median (_MEDI suffix) apartment size, common area, living area, age of building, number of elevators, number of entrances, state of the building, number of floor   \n",
       "90   Normalized information about building where the client lives, What is average (_AVG suffix), modus (_MODE suffix), median (_MEDI suffix) apartment size, common area, living area, age of building, number of elevators, number of entrances, state of the building, number of floor   \n",
       "91                                                                                                                                                                                    How many observation of client's social surroundings with observable 30 DPD (days past due) default   \n",
       "92                                                                                                                                                                                              How many observation of client's social surroundings defaulted on 30 DPD (days past due)    \n",
       "93                                                                                                                                                                                    How many observation of client's social surroundings with observable 60 DPD (days past due) default   \n",
       "94                                                                                                                                                                                               How many observation of client's social surroundings defaulted on 60 (days past due) DPD   \n",
       "95                                                                                                                                                                                                                               How many days before application did client change phone   \n",
       "96                                                                                                                                                                                                                                                          Did client provide document 2   \n",
       "97                                                                                                                                                                                                                                                          Did client provide document 3   \n",
       "98                                                                                                                                                                                                                                                          Did client provide document 4   \n",
       "99                                                                                                                                                                                                                                                          Did client provide document 5   \n",
       "100                                                                                                                                                                                                                                                         Did client provide document 6   \n",
       "101                                                                                                                                                                                                                                                         Did client provide document 7   \n",
       "102                                                                                                                                                                                                                                                         Did client provide document 8   \n",
       "103                                                                                                                                                                                                                                                         Did client provide document 9   \n",
       "104                                                                                                                                                                                                                                                        Did client provide document 10   \n",
       "105                                                                                                                                                                                                                                                        Did client provide document 11   \n",
       "106                                                                                                                                                                                                                                                        Did client provide document 12   \n",
       "107                                                                                                                                                                                                                                                        Did client provide document 13   \n",
       "108                                                                                                                                                                                                                                                        Did client provide document 14   \n",
       "109                                                                                                                                                                                                                                                        Did client provide document 15   \n",
       "110                                                                                                                                                                                                                                                        Did client provide document 16   \n",
       "111                                                                                                                                                                                                                                                        Did client provide document 17   \n",
       "112                                                                                                                                                                                                                                                        Did client provide document 18   \n",
       "113                                                                                                                                                                                                                                                        Did client provide document 19   \n",
       "114                                                                                                                                                                                                                                                        Did client provide document 20   \n",
       "115                                                                                                                                                                                                                                                        Did client provide document 21   \n",
       "116                                                                                                                                                                                                     Number of enquiries to Credit Bureau about the client one hour before application   \n",
       "117                                                                                                                                                              Number of enquiries to Credit Bureau about the client one day before application (excluding one hour before application)   \n",
       "118                                                                                                                                                              Number of enquiries to Credit Bureau about the client one week before application (excluding one day before application)   \n",
       "119                                                                                                                                                            Number of enquiries to Credit Bureau about the client one month before application (excluding one week before application)   \n",
       "120                                                                                                                                                             Number of enquiries to Credit Bureau about the client 3 month before application (excluding one month before application)   \n",
       "121                                                                                                                                                                       Number of enquiries to Credit Bureau about the client one day year (excluding last 3 months before application)   \n",
       "\n",
       "                                   Special  \n",
       "0                                      NaN  \n",
       "1                                      NaN  \n",
       "2                                      NaN  \n",
       "3                                      NaN  \n",
       "4                                      NaN  \n",
       "5                                      NaN  \n",
       "6                                      NaN  \n",
       "7                                      NaN  \n",
       "8                                      NaN  \n",
       "9                                      NaN  \n",
       "10                                     NaN  \n",
       "11                                     NaN  \n",
       "12                                     NaN  \n",
       "13                                     NaN  \n",
       "14                                     NaN  \n",
       "15                                     NaN  \n",
       "16                             normalized   \n",
       "17   time only relative to the application  \n",
       "18   time only relative to the application  \n",
       "19   time only relative to the application  \n",
       "20   time only relative to the application  \n",
       "21                                     NaN  \n",
       "22                                     NaN  \n",
       "23                                     NaN  \n",
       "24                                     NaN  \n",
       "25                                     NaN  \n",
       "26                                     NaN  \n",
       "27                                     NaN  \n",
       "28                                     NaN  \n",
       "29                                     NaN  \n",
       "30                                     NaN  \n",
       "31                                     NaN  \n",
       "32                                     NaN  \n",
       "33                                 rounded  \n",
       "34                                     NaN  \n",
       "35                                     NaN  \n",
       "36                                     NaN  \n",
       "37                                     NaN  \n",
       "38                                     NaN  \n",
       "39                                     NaN  \n",
       "40                                     NaN  \n",
       "41                              normalized  \n",
       "42                              normalized  \n",
       "43                              normalized  \n",
       "44                              normalized  \n",
       "45                              normalized  \n",
       "46                              normalized  \n",
       "47                              normalized  \n",
       "48                              normalized  \n",
       "49                              normalized  \n",
       "50                              normalized  \n",
       "51                              normalized  \n",
       "52                              normalized  \n",
       "53                              normalized  \n",
       "54                              normalized  \n",
       "55                              normalized  \n",
       "56                              normalized  \n",
       "57                              normalized  \n",
       "58                              normalized  \n",
       "59                              normalized  \n",
       "60                              normalized  \n",
       "61                              normalized  \n",
       "62                              normalized  \n",
       "63                              normalized  \n",
       "64                              normalized  \n",
       "65                              normalized  \n",
       "66                              normalized  \n",
       "67                              normalized  \n",
       "68                              normalized  \n",
       "69                              normalized  \n",
       "70                              normalized  \n",
       "71                              normalized  \n",
       "72                              normalized  \n",
       "73                              normalized  \n",
       "74                              normalized  \n",
       "75                              normalized  \n",
       "76                              normalized  \n",
       "77                              normalized  \n",
       "78                              normalized  \n",
       "79                              normalized  \n",
       "80                              normalized  \n",
       "81                              normalized  \n",
       "82                              normalized  \n",
       "83                              normalized  \n",
       "84                              normalized  \n",
       "85                              normalized  \n",
       "86                              normalized  \n",
       "87                              normalized  \n",
       "88                              normalized  \n",
       "89                              normalized  \n",
       "90                              normalized  \n",
       "91                                     NaN  \n",
       "92                                     NaN  \n",
       "93                                     NaN  \n",
       "94                                     NaN  \n",
       "95                                     NaN  \n",
       "96                                     NaN  \n",
       "97                                     NaN  \n",
       "98                                     NaN  \n",
       "99                                     NaN  \n",
       "100                                    NaN  \n",
       "101                                    NaN  \n",
       "102                                    NaN  \n",
       "103                                    NaN  \n",
       "104                                    NaN  \n",
       "105                                    NaN  \n",
       "106                                    NaN  \n",
       "107                                    NaN  \n",
       "108                                    NaN  \n",
       "109                                    NaN  \n",
       "110                                    NaN  \n",
       "111                                    NaN  \n",
       "112                                    NaN  \n",
       "113                                    NaN  \n",
       "114                                    NaN  \n",
       "115                                    NaN  \n",
       "116                                    NaN  \n",
       "117                                    NaN  \n",
       "118                                    NaN  \n",
       "119                                    NaN  \n",
       "120                                    NaN  \n",
       "121                                    NaN  "
      ]
     },
     "metadata": {},
     "output_type": "display_data"
    }
   ],
   "source": [
    "pd.set_option('max_colwidth', None)\n",
    "pd.set_option('max_rows', None)\n",
    "\n",
    "display(HomeCredit_columns_description.loc[HomeCredit_columns_description.Table == 'application_{train|test}.csv', ['Row', 'Description', 'Special']])\n",
    "\n",
    "pd.reset_option('max_rows')"
   ]
  },
  {
   "cell_type": "markdown",
   "id": "cc51b1d0",
   "metadata": {},
   "source": [
    "## Categorical variables"
   ]
  },
  {
   "cell_type": "markdown",
   "id": "c56f6883",
   "metadata": {},
   "source": [
    "### Feature alanysis"
   ]
  },
  {
   "cell_type": "code",
   "execution_count": 14,
   "id": "a0212d63",
   "metadata": {
    "scrolled": false
   },
   "outputs": [
    {
     "data": {
      "text/html": [
       "<div>\n",
       "<style scoped>\n",
       "    .dataframe tbody tr th:only-of-type {\n",
       "        vertical-align: middle;\n",
       "    }\n",
       "\n",
       "    .dataframe tbody tr th {\n",
       "        vertical-align: top;\n",
       "    }\n",
       "\n",
       "    .dataframe thead th {\n",
       "        text-align: right;\n",
       "    }\n",
       "</style>\n",
       "<table border=\"1\" class=\"dataframe\">\n",
       "  <thead>\n",
       "    <tr style=\"text-align: right;\">\n",
       "      <th></th>\n",
       "      <th>count</th>\n",
       "      <th>unique</th>\n",
       "      <th>top</th>\n",
       "      <th>freq</th>\n",
       "      <th>missing</th>\n",
       "      <th>freq%top</th>\n",
       "    </tr>\n",
       "  </thead>\n",
       "  <tbody>\n",
       "    <tr>\n",
       "      <th>NAME_CONTRACT_TYPE</th>\n",
       "      <td>0</td>\n",
       "      <td>2</td>\n",
       "      <td>Cash loans</td>\n",
       "      <td>278232</td>\n",
       "      <td>0.000</td>\n",
       "      <td>90.478715</td>\n",
       "    </tr>\n",
       "    <tr>\n",
       "      <th>CODE_GENDER</th>\n",
       "      <td>0</td>\n",
       "      <td>3</td>\n",
       "      <td>F</td>\n",
       "      <td>202448</td>\n",
       "      <td>0.000</td>\n",
       "      <td>65.834393</td>\n",
       "    </tr>\n",
       "    <tr>\n",
       "      <th>FLAG_OWN_CAR</th>\n",
       "      <td>0</td>\n",
       "      <td>2</td>\n",
       "      <td>N</td>\n",
       "      <td>202924</td>\n",
       "      <td>0.000</td>\n",
       "      <td>65.989184</td>\n",
       "    </tr>\n",
       "    <tr>\n",
       "      <th>FLAG_OWN_REALTY</th>\n",
       "      <td>0</td>\n",
       "      <td>2</td>\n",
       "      <td>Y</td>\n",
       "      <td>213312</td>\n",
       "      <td>0.000</td>\n",
       "      <td>69.367275</td>\n",
       "    </tr>\n",
       "    <tr>\n",
       "      <th>NAME_TYPE_SUITE</th>\n",
       "      <td>1292</td>\n",
       "      <td>7</td>\n",
       "      <td>Unaccompanied</td>\n",
       "      <td>248526</td>\n",
       "      <td>0.420</td>\n",
       "      <td>80.818572</td>\n",
       "    </tr>\n",
       "    <tr>\n",
       "      <th>NAME_INCOME_TYPE</th>\n",
       "      <td>0</td>\n",
       "      <td>8</td>\n",
       "      <td>Working</td>\n",
       "      <td>158774</td>\n",
       "      <td>0.000</td>\n",
       "      <td>51.631974</td>\n",
       "    </tr>\n",
       "    <tr>\n",
       "      <th>NAME_EDUCATION_TYPE</th>\n",
       "      <td>0</td>\n",
       "      <td>5</td>\n",
       "      <td>Secondary / secondary special</td>\n",
       "      <td>218391</td>\n",
       "      <td>0.000</td>\n",
       "      <td>71.018923</td>\n",
       "    </tr>\n",
       "    <tr>\n",
       "      <th>NAME_FAMILY_STATUS</th>\n",
       "      <td>0</td>\n",
       "      <td>6</td>\n",
       "      <td>Married</td>\n",
       "      <td>196432</td>\n",
       "      <td>0.000</td>\n",
       "      <td>63.87804</td>\n",
       "    </tr>\n",
       "    <tr>\n",
       "      <th>NAME_HOUSING_TYPE</th>\n",
       "      <td>0</td>\n",
       "      <td>6</td>\n",
       "      <td>House / apartment</td>\n",
       "      <td>272868</td>\n",
       "      <td>0.000</td>\n",
       "      <td>88.734387</td>\n",
       "    </tr>\n",
       "    <tr>\n",
       "      <th>OCCUPATION_TYPE</th>\n",
       "      <td>96391</td>\n",
       "      <td>18</td>\n",
       "      <td>Laborers</td>\n",
       "      <td>55186</td>\n",
       "      <td>31.346</td>\n",
       "      <td>17.946025</td>\n",
       "    </tr>\n",
       "    <tr>\n",
       "      <th>WEEKDAY_APPR_PROCESS_START</th>\n",
       "      <td>0</td>\n",
       "      <td>7</td>\n",
       "      <td>TUESDAY</td>\n",
       "      <td>53901</td>\n",
       "      <td>0.000</td>\n",
       "      <td>17.528153</td>\n",
       "    </tr>\n",
       "    <tr>\n",
       "      <th>ORGANIZATION_TYPE</th>\n",
       "      <td>0</td>\n",
       "      <td>58</td>\n",
       "      <td>Business Entity Type 3</td>\n",
       "      <td>67992</td>\n",
       "      <td>0.000</td>\n",
       "      <td>22.110429</td>\n",
       "    </tr>\n",
       "    <tr>\n",
       "      <th>FONDKAPREMONT_MODE</th>\n",
       "      <td>210295</td>\n",
       "      <td>4</td>\n",
       "      <td>reg oper account</td>\n",
       "      <td>73830</td>\n",
       "      <td>68.386</td>\n",
       "      <td>24.008897</td>\n",
       "    </tr>\n",
       "    <tr>\n",
       "      <th>HOUSETYPE_MODE</th>\n",
       "      <td>154297</td>\n",
       "      <td>3</td>\n",
       "      <td>block of flats</td>\n",
       "      <td>150503</td>\n",
       "      <td>50.176</td>\n",
       "      <td>48.942314</td>\n",
       "    </tr>\n",
       "    <tr>\n",
       "      <th>WALLSMATERIAL_MODE</th>\n",
       "      <td>156341</td>\n",
       "      <td>7</td>\n",
       "      <td>Panel</td>\n",
       "      <td>66040</td>\n",
       "      <td>50.841</td>\n",
       "      <td>21.475655</td>\n",
       "    </tr>\n",
       "    <tr>\n",
       "      <th>EMERGENCYSTATE_MODE</th>\n",
       "      <td>145755</td>\n",
       "      <td>2</td>\n",
       "      <td>No</td>\n",
       "      <td>159428</td>\n",
       "      <td>47.398</td>\n",
       "      <td>51.844649</td>\n",
       "    </tr>\n",
       "  </tbody>\n",
       "</table>\n",
       "</div>"
      ],
      "text/plain": [
       "                             count unique                            top  \\\n",
       "NAME_CONTRACT_TYPE               0      2                     Cash loans   \n",
       "CODE_GENDER                      0      3                              F   \n",
       "FLAG_OWN_CAR                     0      2                              N   \n",
       "FLAG_OWN_REALTY                  0      2                              Y   \n",
       "NAME_TYPE_SUITE               1292      7                  Unaccompanied   \n",
       "NAME_INCOME_TYPE                 0      8                        Working   \n",
       "NAME_EDUCATION_TYPE              0      5  Secondary / secondary special   \n",
       "NAME_FAMILY_STATUS               0      6                        Married   \n",
       "NAME_HOUSING_TYPE                0      6              House / apartment   \n",
       "OCCUPATION_TYPE              96391     18                       Laborers   \n",
       "WEEKDAY_APPR_PROCESS_START       0      7                        TUESDAY   \n",
       "ORGANIZATION_TYPE                0     58         Business Entity Type 3   \n",
       "FONDKAPREMONT_MODE          210295      4               reg oper account   \n",
       "HOUSETYPE_MODE              154297      3                 block of flats   \n",
       "WALLSMATERIAL_MODE          156341      7                          Panel   \n",
       "EMERGENCYSTATE_MODE         145755      2                             No   \n",
       "\n",
       "                              freq  missing   freq%top  \n",
       "NAME_CONTRACT_TYPE          278232    0.000  90.478715  \n",
       "CODE_GENDER                 202448    0.000  65.834393  \n",
       "FLAG_OWN_CAR                202924    0.000  65.989184  \n",
       "FLAG_OWN_REALTY             213312    0.000  69.367275  \n",
       "NAME_TYPE_SUITE             248526    0.420  80.818572  \n",
       "NAME_INCOME_TYPE            158774    0.000  51.631974  \n",
       "NAME_EDUCATION_TYPE         218391    0.000  71.018923  \n",
       "NAME_FAMILY_STATUS          196432    0.000   63.87804  \n",
       "NAME_HOUSING_TYPE           272868    0.000  88.734387  \n",
       "OCCUPATION_TYPE              55186   31.346  17.946025  \n",
       "WEEKDAY_APPR_PROCESS_START   53901    0.000  17.528153  \n",
       "ORGANIZATION_TYPE            67992    0.000  22.110429  \n",
       "FONDKAPREMONT_MODE           73830   68.386  24.008897  \n",
       "HOUSETYPE_MODE              150503   50.176  48.942314  \n",
       "WALLSMATERIAL_MODE           66040   50.841  21.475655  \n",
       "EMERGENCYSTATE_MODE         159428   47.398  51.844649  "
      ]
     },
     "metadata": {},
     "output_type": "display_data"
    }
   ],
   "source": [
    "# appli_tr.describe() # 106 columns, hard to follow\n",
    "test = appli_tr.describe(include=object).transpose()\n",
    "# test['missing'] = (test['count'] / appli_tr.shape[0] * 100).transform(round) # transform(round(3)) raises an error\n",
    "test['missing'] = ((1-test['count'] / appli_tr.shape[0]) * 100).transform(lambda x: x.round(3))\n",
    "test['freq%top'] = test.freq / appli_tr.shape[0] * 100\n",
    "test['count'] = appli_tr.shape[0] - test['count']\n",
    "\n",
    "display(test)"
   ]
  },
  {
   "cell_type": "code",
   "execution_count": 15,
   "id": "8ad2dadf",
   "metadata": {},
   "outputs": [],
   "source": [
    "selectcol = appli_tr.select_dtypes(include=object)\n",
    "selectcol = selectcol.fillna('missing_value')\n",
    "selectcol['SK_ID_CURR'] = appli_tr['SK_ID_CURR']\n",
    "selectcol['TARGET'] = appli_tr['TARGET']"
   ]
  },
  {
   "cell_type": "code",
   "execution_count": 16,
   "id": "3874b1e8",
   "metadata": {
    "scrolled": false
   },
   "outputs": [],
   "source": [
    "# FIXED THE BUG removed default value (which is a big database and memory-consuming). Now I must enter the my_df name every time I call the function\n",
    "# # WARNING: if I don't put the same function every time, the notbook rises an error! That happens because parameter my_df stores the link to the object Dataframe. Instead of looking every time for the object we have a saved dataframe under the name selectcol\n",
    "\n",
    "def find_most_risky(my_col, my_df, show=True):\n",
    "    if show:\n",
    "        print(appli_tr[my_col].value_counts(dropna=False))\n",
    "\n",
    "    test = my_df.groupby(['TARGET', my_col])['SK_ID_CURR'].agg('size').unstack().fillna(0)\n",
    "\n",
    "    test1 = pd.DataFrame() # which proportion of every value has failed the credit \n",
    "    for col in test: # how high chances are that a given person with a given value will fail the credit\n",
    "#         print(col)\n",
    "        test1[col] = test[col] / test[col].sum() * 100  # aggregate my mean instead\n",
    "    test1 = test1.transpose().sort_values(1, ascending=False)\n",
    "    test1['proportion'] = [(my_df[my_col] == value).mean() * 100 for value in test1.index]\n",
    "    test1 = test1.sort_values('proportion', ascending=False)\n",
    "#     test1 = test1.sort_values(1, ascending=False)\n",
    "    \n",
    "    if test1.shape[0] > 2:\n",
    "        print(test1[1].max() / (test1[1].min() + 0.00001), 'times varies the probability to fail')\n",
    "        print(test1[1].max() / test1.iloc[0, 1], 'times the highest probability is higher than the most frequent one.')\n",
    "    \n",
    "    print('ratio of fail for second major class to fail for the major one is', test1.iloc[1, 1] / test1.iloc[0, 1])\n",
    "    print('ratio of fail for the major class to fail for second major one is', test1.iloc[0, 1] / test1.iloc[1, 1])\n",
    "    if show:\n",
    "        display(test1)\n",
    "    return test1#.reset_index()"
   ]
  },
  {
   "cell_type": "markdown",
   "id": "e46ae833",
   "metadata": {},
   "source": [
    "For every categorical column, I calculate how many percents of loaners are failed their loan for every available value. That allows to estimate is there's a difference, and approximately estimate how strong this difference is. In other words, how strong is the impact of this feature on target, regardless other features.\n",
    "\n",
    "It doesn't take into account the interactions between variables. Like, that that the a1&b1 is good, a2&b2 is good, but a2&b1 is bad, a1b2 is bad. Like a saddle point. But alltogether over \"a\" or \"b\", you only see no difference in probability."
   ]
  },
  {
   "cell_type": "markdown",
   "id": "e49d335d",
   "metadata": {},
   "source": [
    "With the high impact features (that I will see at the step of Shap values explication), I will try to replace these columns with the probability of find 1 and see whether the model performance decreases.\n",
    "About low impact values, with low shap values, I will delete these values and see whether, and how much, the performance drops."
   ]
  },
  {
   "cell_type": "code",
   "execution_count": 17,
   "id": "14c4320c",
   "metadata": {
    "scrolled": false
   },
   "outputs": [
    {
     "name": "stdout",
     "output_type": "stream",
     "text": [
      "No     159428\n",
      "NaN    145755\n",
      "Yes      2328\n",
      "Name: EMERGENCYSTATE_MODE, dtype: int64\n",
      "1.3753283914169894 times varies the probability to fail\n",
      "1.3753303660734624 times the highest probability is higher than the most frequent one.\n",
      "ratio of fail for second major class to fail for the major one is 1.329630923037425\n",
      "ratio of fail for the major class to fail for second major one is 0.7520884048902743\n"
     ]
    },
    {
     "data": {
      "text/html": [
       "<div>\n",
       "<style scoped>\n",
       "    .dataframe tbody tr th:only-of-type {\n",
       "        vertical-align: middle;\n",
       "    }\n",
       "\n",
       "    .dataframe tbody tr th {\n",
       "        vertical-align: top;\n",
       "    }\n",
       "\n",
       "    .dataframe thead th {\n",
       "        text-align: right;\n",
       "    }\n",
       "</style>\n",
       "<table border=\"1\" class=\"dataframe\">\n",
       "  <thead>\n",
       "    <tr style=\"text-align: right;\">\n",
       "      <th>TARGET</th>\n",
       "      <th>0</th>\n",
       "      <th>1</th>\n",
       "      <th>proportion</th>\n",
       "    </tr>\n",
       "  </thead>\n",
       "  <tbody>\n",
       "    <tr>\n",
       "      <th>No</th>\n",
       "      <td>93.035100</td>\n",
       "      <td>6.964900</td>\n",
       "      <td>51.844649</td>\n",
       "    </tr>\n",
       "    <tr>\n",
       "      <th>missing_value</th>\n",
       "      <td>90.739254</td>\n",
       "      <td>9.260746</td>\n",
       "      <td>47.398304</td>\n",
       "    </tr>\n",
       "    <tr>\n",
       "      <th>Yes</th>\n",
       "      <td>90.420962</td>\n",
       "      <td>9.579038</td>\n",
       "      <td>0.757046</td>\n",
       "    </tr>\n",
       "  </tbody>\n",
       "</table>\n",
       "</div>"
      ],
      "text/plain": [
       "TARGET                 0         1  proportion\n",
       "No             93.035100  6.964900   51.844649\n",
       "missing_value  90.739254  9.260746   47.398304\n",
       "Yes            90.420962  9.579038    0.757046"
      ]
     },
     "metadata": {},
     "output_type": "display_data"
    },
    {
     "data": {
      "text/html": [
       "<div>\n",
       "<style scoped>\n",
       "    .dataframe tbody tr th:only-of-type {\n",
       "        vertical-align: middle;\n",
       "    }\n",
       "\n",
       "    .dataframe tbody tr th {\n",
       "        vertical-align: top;\n",
       "    }\n",
       "\n",
       "    .dataframe thead th {\n",
       "        text-align: right;\n",
       "    }\n",
       "</style>\n",
       "<table border=\"1\" class=\"dataframe\">\n",
       "  <thead>\n",
       "    <tr style=\"text-align: right;\">\n",
       "      <th>TARGET</th>\n",
       "      <th>0</th>\n",
       "      <th>1</th>\n",
       "      <th>proportion</th>\n",
       "    </tr>\n",
       "  </thead>\n",
       "  <tbody>\n",
       "    <tr>\n",
       "      <th>No</th>\n",
       "      <td>93.035100</td>\n",
       "      <td>6.964900</td>\n",
       "      <td>51.844649</td>\n",
       "    </tr>\n",
       "    <tr>\n",
       "      <th>missing_value</th>\n",
       "      <td>90.739254</td>\n",
       "      <td>9.260746</td>\n",
       "      <td>47.398304</td>\n",
       "    </tr>\n",
       "    <tr>\n",
       "      <th>Yes</th>\n",
       "      <td>90.420962</td>\n",
       "      <td>9.579038</td>\n",
       "      <td>0.757046</td>\n",
       "    </tr>\n",
       "  </tbody>\n",
       "</table>\n",
       "</div>"
      ],
      "text/plain": [
       "TARGET                 0         1  proportion\n",
       "No             93.035100  6.964900   51.844649\n",
       "missing_value  90.739254  9.260746   47.398304\n",
       "Yes            90.420962  9.579038    0.757046"
      ]
     },
     "execution_count": 17,
     "metadata": {},
     "output_type": "execute_result"
    }
   ],
   "source": [
    "# find_most_risky('NAME_CONTRACT_TYPE', selectcol) # cash 8.3, revolving 5.4\n",
    "# find_most_risky('CODE_GENDER', selectcol) # F 7.0, M 10.1, XNA equals NaN 0 (0 out of 4 people)\n",
    "# find_most_risky('FLAG_OWN_CAR', selectcol)\n",
    "# find_most_risky('FLAG_OWN_REALTY', selectcol) # No 8.32 Yes 7.96\n",
    "# find_most_risky('NAME_TYPE_SUITE', selectcol) # NaN 5.4(min), Other_B 9.8 (max value)\n",
    "# find_most_risky('NAME_INCOME_TYPE', selectcol) # Businessman 0(min value), maternity leave 40 (max value), unemployed 36.4\n",
    "# find_most_risky('NAME_EDUCATION_TYPE', selectcol) # correlation, but not linear: monotonic, but not proportional! academic 1.8, lower secondary 10.9\n",
    "# find_most_risky('NAME_FAMILY_STATUS', selectcol) # widow 5.8(min), civil marriage 9.9(max), single 9.8, unknown = NaN 0 (0 out of 2)\n",
    "# find_most_risky('NAME_HOUSING_TYPE', selectcol) # office appartment 6.5(min), rented apartment 12.3 (max value), with parents 11.7\n",
    "# find_most_risky('OCCUPATION_TYPE', selectcol) # 19 DIMENSIONS! accountants 4.8(min), low-skill Laborers 17.1 (max value)\n",
    "# find_most_risky('WEEKDAY_APPR_PROCESS_START', selectcol) # Mon7.75(min), Sat7.78, Sun7.92, Tue8.35(max). delete?\n",
    "# find_most_risky('ORGANIZATION_TYPE', selectcol) # 58 DIMENSIONS! tradeType4 3.12(min), transportType3 15.75(max)\n",
    "# find_most_risky('FONDKAPREMONT_MODE', selectcol) # orgSpecAcc 5.8 (min), unknown 8.6 (max), \"not specified\" means NaN 7.5\n",
    "# find_most_risky('HOUSETYPE_MODE', selectcol) # blockOfFLats 6.9, specificHousing 10.1(max), NaN 9.15\n",
    "# find_most_risky('WALLSMATERIAL_MODE', selectcol) # Monolithic 4.72(min), wooden 9.69, unknown 9.12\n",
    "find_most_risky('EMERGENCYSTATE_MODE', selectcol) # No 7.0, Yes 9.57, NaN 9.26"
   ]
  },
  {
   "cell_type": "markdown",
   "id": "3180a008",
   "metadata": {},
   "source": [
    "How do I take decision based on what \"find the most risky\" function shows:\n",
    "- If some values have high risks (above 20%), it may worth to include this variable anyway. Look individually.\n",
    "- Is the distribution of the values balanced? If at least 20% is in a class other than the major, Iconsider it \"balanced\". In other words, if at least 2 classes have the proportion above 20% or, it's balanced. Then, if the ratio (maximal probability of fail class)/(minimal probability of fail class) is 1.5 or higher, I KEEP THIS FEATURE.\n",
    "- Otherwise, the distribution is imbalanced. If there's only 1 class above 20% occurence.\n",
    "- Then I use a grid, created more or less arbitrarily:\n",
    "    - if the minor class is above 10% proportion, increase in fail probability should be at least 75%.\n",
    "    - if the minor class is above 5%, the increase in probability should be at least 100% (probability 2 times higher)\n",
    "    - if the minor class is above 2%, the increase in probability should be at least 100% (probability 3 times higher) \n",
    "    - if the minor class is above 1%, the increase in probability should be at least 200% (probability 4 times higher)\n",
    "This is an approximate guideline. If I see individual cases that suggest it worth keep the variable, I will keep it."
   ]
  },
  {
   "cell_type": "markdown",
   "id": "6268324f",
   "metadata": {
    "scrolled": true
   },
   "source": [
    "- NAME_CONTRACT_TYPE: cash 8.3, revolving 5.4 (9.5%) DROP THIS FEATURE? the fail risk for the minor class doesn't increase, but decrease. On the other hand, the ratio is significant, 1.52 times. I will keep it, but will also try the model without this feature. __UPD: apparently the performance is a bit lower without it, so I will keep it.__\n",
    "- CODE_GENDER: F 7.0, M 10.1, XNA equals NaN 0 (0 out of 4 people) REPLACE VALUE XNA. Redo the analysis. KEEP THIS FEATURE: balanced distribution, keep the variable.  -> feature engineering (combine with age, see section \"Integer values\")\n",
    "- FLAG_OWN_CAR: No 8.5, Yes 7.2(35%) DROP THIS FEATURE? the ratio is 1.17, according to my metrics I should drop it. well let's keep it but I suggest to compare to try without it as well. __UPD: apparently the performance is a bit lower without it, so I will keep it.__\n",
    "- FLAG_OWN_REALTY: No 8.32 Yes 7.96(35%) DROP THIS FEATURE? yes. balanced distribution, but ratio only 1.05\n",
    "- NAME_TYPE_SUITE: NaN 5.4(min), Other_B 9.8 (max value) DROP THIS FEATURE? yes. distribution is almost balanced. The chance of fail is actually not increasing forthe second major class, but decreasing. Though not a lot, less than 10%. The most risky group is 1.2 times higher than the major group, but the proportion of those people is tiny.\n",
    "- NAME_INCOME_TYPE: Businessman 0(min value), maternity leave 40 (max value), unemployed 36.4 DROP THIS FEATURE? no! we have the categories Maternity_leave with 40% risk of fail (0.1% cases) and Unemployed with 36.4% (0.7%)\n",
    "- NAME_EDUCATION_TYPE: keep this feature: balanced distribution, second major class is 60% from the major one to fail.\n",
    "- NAME_FAMILY_STATUS: widow 5.8(min), civil marriage 9.9(max), single 9.8, unknown = NaN 0 (0 out of 2)  DROP THIS FEATURE? the ratio is 1.17, according to my metrics I should drop it. well let's keep it but I suggest to compare to try without it as well. __UPD: no effect on the success of the model. We can drop it.__\n",
    "- NAME_HOUSING_TYPE: office appartment 6.5(min), rented apartment 12.3 (max value), with parents 11.7  DROP THIS FEATURE? the best is to modify this variable:\n",
    "    - With parents(11.7) or rented(12.3) = A, others = B. Maybe office appartment (6.6%) = C\n",
    "        but this will lead to overfitting of the model.\n",
    "    but it's worth keeping - the metrics indicate variable is valuable. I will keep it, but will also try the model without this feature. __UPD: apparently the performance is a bit lower without it, so I will keep it.__\n",
    "- OCCUPATION_TYPE: 19 DIMENSIONS! accountants 4.8(min), low-skill Laborers 17.1 (max value)  DROP THIS FEATURE? one of the approaches is to modify the values: \n",
    "    - name \"low-skill laborers\" (17%) \"low-skill laborers and unemployed\",\n",
    "    - group Drivers, Waiters/barmen staff, Security staff, Laborers, Cooking staff, Sales staff, Cleaning staff (11.2-9.6)\n",
    "    - group the rest (7.8-6.15)\n",
    "    - Accountants (4.8%)  \n",
    "But that may cause model overfitting: because we group variables based on target\n",
    "- WEEKDAY_APPR_PROCESS_START: DROP THIS FEATURE? certainly yes: the difference is minor\n",
    "- ORGANIZATION_TYPE: 58 DIMENSIONS! tradeType4 3.12(min), transportType3 15.75(max) DROP THIS FEATURE? one :\n",
    "    - put separately 1st 3 (16 - 12.5)\n",
    "    - group next 4 (11.7 - 11.1)\n",
    "    - group next 12 (10.6 - 8.9)\n",
    "    - group next 24 (8.6 - 6.4)\n",
    "    - group last 15 (6.1- 3.1)  \n",
    "But that may cause model overfitting: because we group variables based on target\n",
    "- FONDKAPREMONT_MODE: orgSpecAcc 5.8 (min), unknown 8.6 (max), DROP THIS FEATURE? balanced distribution, the difference is slightly above the metric. I would suggest to drop it, but also compare the results with this metric and without it. __UPD: no effect on the success of the model. We can drop it.__\n",
    "- HOUSETYPE_MODE: blockOfFLats 6.9, specificHousing 10.1(max), NaN 9.15 DROP THIS FEATURE? well it doesn't fit in the metric. According to my metrics I should drop it. well let's keep it but I suggest to compare to try without it as well. __UPD: no effect on the success of the model. We can drop it.__\n",
    "- WALLSMATERIAL_MODE: well it doesn't fit in the metric. According to my metrics I should drop it. well let's keep it but I suggest to compare to try without it as well. __UPD: no effect on the success of the model. We can drop it.__\n",
    "- EMERGENCYSTATE_MODE: well it doesn't fit in the metric. According to my metrics I should drop it. well let's keep it but I suggest to compare to try without it as well. __UPD: apparently the performance is a bit lower without it, so I will keep it.__ Maybe it's because there are only 2 values, Yes and No, it's like a flag?"
   ]
  },
  {
   "cell_type": "markdown",
   "id": "272458e1",
   "metadata": {},
   "source": [
    "### Function for replacement of categorical variable to the proportion of fails, given the value"
   ]
  },
  {
   "cell_type": "markdown",
   "id": "28293ee2",
   "metadata": {},
   "source": [
    "The purpose is to reduce dimensions. The potential drawback is that the train test split will be not homogenous, which will create the biased probabilities/weights of fail. But it worth trying, because it allows to reduce the dimension of 'OCCUPATION_TYPE' from 19 to 1 and 'ORGANIZTION_TYPE' from 58 to 1.\n",
    "\n",
    "I will apply this function after the exploration of numeric variables. Because each converted variable changes type from \"object\" to \"float\" and will bother on the float variables exploration step."
   ]
  },
  {
   "cell_type": "code",
   "execution_count": 18,
   "id": "1e292d9e",
   "metadata": {},
   "outputs": [],
   "source": [
    "def category_to_fail_proportion(my_df, my_series, fill=True): # my_series should be a string\n",
    "    probas_table = find_most_risky(my_series, my_df=my_df, show=False)\n",
    "    proba_series = my_df[my_series].transform(lambda x: probas_table.loc[x, 1]) # works faster than the \"for\" cycle with item and lines selection for every item\n",
    "    if fill:\n",
    "        proba_series = proba_series.fillna(probas_table.iloc[0, 1])\n",
    "    return proba_series#, probas_table\n"
   ]
  },
  {
   "cell_type": "markdown",
   "id": "5d788ac4",
   "metadata": {},
   "source": [
    "WARNING: I never can apply this function because it leads to overfitting of the model: it uses the target (y) for the calculation of the features (X).\n",
    "Though, this function can be applied, if during cross-validation the probabilities are withdrawn only from train set and then imputed in test set as is."
   ]
  },
  {
   "cell_type": "markdown",
   "id": "506b5739",
   "metadata": {},
   "source": [
    "### Values imputing strategy: Cautious strategy\n",
    "The strategy is not the same for filling the train set and the test set:\n",
    "- For the test set, if we don't know the value, we shall use the most \"risky\" variant: the value that gives the highest rate of positive target.\n",
    "- For the train set, we know the traget. So, if the target is negative, no need to set the parameter to the \"most risky\" category. I will assign it to the a category (more on that later), if the number of missing values is below the limit (let's say arbitrarily, 5%) and to a standalone \"unknown\" category, if the number of missing values is above this limit.\n",
    "- How to choose a category: we already know the target value. So, for the positive target we give the \"most risky\" value to the unknown. For the negative target, we give the most frequent value, doesn't matter what's the risk (can be the most risky, the least, or somewhere in the middle, we just take the most frequent).\n",
    "- The drawback of such a distiction on the category: we risk to overfit our model. But, we will overfit it in a lopsided way: the model will tend to give more importance on the imputed features to lead to positive target. But this drawback plays on our side at the end of the game: as on test set we impute the \"most risky\" value every time, the model will give more false negatives, but will be much less likely to let pass the false positives. That means, we can explain the refuse to a client based on the features that were not provided by the client, so the client knows what cells (s)he has to modify or fill.\n",
    "- How we detect \"the most risky\" category: by groupby-aggregation test. Look the correlation between positive target (credit fail) and different values. See the proportion of people who failed to pay their credit for every value. The value with the highest proportion of positive target is \"the most risky\" one.\n",
    "- How to store \"the most risky\" values: maybe as a dictionary. The key is the feature that we want to impute, the value is the most risky category.\n",
    "\n",
    "#### When to apply cautious strategy\n",
    "When we suppose that a false positive is significantly more costly to the bank than a false negative is. If it happens that the difference between the cost of false negative and false positive is insignificant for the bank, we can pass to simplified strategy.\n",
    "### Values imputing strategy: Simplified strategy\n",
    "Impute with \"the most risky\" value for test set and with the most frequent value for the train set.\n",
    "### Values imputing strategy: Simplest strategy\n",
    "Impute with the most frequent value for both train and test sets.\n",
    "### How to handle the values which are already imputed as \"unknown\", \"not specified\", \"XNA\" or similar\n",
    "When you look through unique values, you might notice that some categorical values are filled with \"unknown\", \"not_specified\", \"XNA\" or similar kinds of values. All that means \"NaN\", basically.\n",
    "The best of all would be to ask a confirmation on the business side, whether it's indeed smth like \"this info is lacking\", which equelas NaN.\n",
    "\n",
    "If it is so, the best is to delete these values/replace by \"NaN\", and then apply the standard algorithm, described before.\n",
    "\n",
    "Example: GENDER_CODE. Among 307511 applications, 4 applicants have \"XNA\" value. It's like \"nan\", just it's filled with text. So I will replace \"XNA\" with \"nan\", and then treat it along the general algorithm:\n",
    "    it's less than 5% NaNs, so impute \n",
    "    -with most risky for test set, \n",
    "    -with  most risky for train set positive target, \n",
    "    - with most frequent for train set negtive target.\n",
    "The most risky value from groupby-aggreagtion test is \"M\"."
   ]
  },
  {
   "cell_type": "markdown",
   "id": "0a5f8f6b",
   "metadata": {},
   "source": [
    "WARNING: I never can apply the \"Cautious strategy\" (neither \"Simplified strategy\") because it leads to overfitting of the model: it uses the target (y) for the calculation of the features (X).\n",
    "Though, both these strategies can be applied, if during cross-validation the probabilities are withdrawn only from train set and then imputed in test set as is."
   ]
  },
  {
   "cell_type": "markdown",
   "id": "2eb8b902",
   "metadata": {},
   "source": [
    "### Which imputing  and/or replacing strategy is better for each of missing categorical values"
   ]
  },
  {
   "cell_type": "markdown",
   "id": "49290bf2",
   "metadata": {},
   "source": [
    "CODE_GENDER: Unknown is the least failed category. With the simplest strategy we tend to rise the failure impact from 0 to 7.0. With cautious strategy - rise even higher, from 0 to 10.1. __Simplest__ strategy is closer to reality.\n",
    "_the proportion of NaNs is low, 0.001%, we can't take them into a separated category_\n",
    "\n",
    "NAME_TYPE_SUITE: Unknown is the least failed category. With the simplest strategy we tend to rise the failure impact from 5.4 to 8.2. With cautious strategy - rise even higher, from 5.4 to 9.8. __Simplest__ strategy is closer to reality.\n",
    "_the proportion of NaNs is low, 0.42%, we can't take them into a separated category_\n",
    "\n",
    "NAME_FAMILY_STATUS: Unknown is the least failed category. With the simplest strategy we tend to rise the failure impact from 0 to 7.56. With cautious strategy - rise even higher, from 0 to 9.94. __Simplest__ strategy is closer to reality.\n",
    "_the proportion of NaNs is low, 0.001%, we can't take them into a separated category_\n",
    "\n",
    "OCCUPATION_TYPE: With the simplest strategy we tend to rise the failure impact from 6.5 to 10.5 (most frequent group is Laborers). With cautious strategy - rise even higher, from 6.5 to 17.1. __Simplest__ strategy is closer to reality.\n",
    "_as the proportion of NaNs is higher than 5%, we can take them apart, and this is better than both simplest or cautious_\n",
    "\n",
    "FONDKAPREMONT_MODE: With the simplest strategy we tend to bring down the failure impact from 8.6 to 7.0 (most frequent group is reg oper account). With cautious strategy - bring down less, from 8.6 to 7.5. __Cautious__ strategy is closer to reality.\n",
    "Here, as we have the category \"not specified\", we can combine them. That would be equal to cautious strategy.\n",
    "Or, _as the proportion of NaNs is higher than 5%, we can take them apart. This solution will bring en extra dimension, so let's just replace \"not specified\" with NaN and combine with NaNs into a separate category._\n",
    "\n",
    "HOUSETYPE_MODE: With the simplest strategy we tend to bring down the failure impact from 9.15 to 7.0 (most frequent group is block of flats). With cautious strategy - to rise the failure from 9.15 to 10.1. __Cautious__ strategy is closer to reality.\n",
    "Here, as we have the category \"not specified\", we can combine them. That would be equal to cautious strategy.\n",
    "_as the proportion of NaNs is higher than 5%, we can take them apart. This solution will bring en extra dimension._\n",
    "\n",
    "WALLSMATERIAL_MODE: With the simplest strategy we tend to bring down the failure impact from 9.1 to 6.3 (most frequent group is panel). With cautious strategy - to rise the failure from 9.1 to 9.7. __Cautious__ strategy is closer to reality.\n",
    "_as the proportion of NaNs is higher than 5%, we can take them apart. This solution will bring en extra dimension._\n",
    "\n",
    "EMERGENCYSTATE_MODE: With the simplest strategy we tend to bring down the failure impact from 9.3 to 7.0 (most frequent group is No). With cautious strategy - to rise the failure from 9.3 to 9.6. __Cautious__ strategy is closer to reality.\n",
    "_as the proportion of NaNs is higher than 5%, we can take them apart. This solution will bring en extra dimension._"
   ]
  },
  {
   "cell_type": "code",
   "execution_count": 19,
   "id": "f9526a4b",
   "metadata": {
    "scrolled": true
   },
   "outputs": [
    {
     "data": {
      "text/plain": [
       "Index(['NAME_TYPE_SUITE', 'OCCUPATION_TYPE', 'FONDKAPREMONT_MODE',\n",
       "       'HOUSETYPE_MODE', 'WALLSMATERIAL_MODE', 'EMERGENCYSTATE_MODE'],\n",
       "      dtype='object')"
      ]
     },
     "execution_count": 19,
     "metadata": {},
     "output_type": "execute_result"
    }
   ],
   "source": [
    "appli_tr.select_dtypes(include=object).loc[:, appli_tr.isnull().any()].columns"
   ]
  },
  {
   "cell_type": "markdown",
   "id": "e6ccd566",
   "metadata": {},
   "source": [
    "At this step, I will replace all the missing values with simplest strategy, but I will choose the string to fill by different strategies: simplest where it's closer to reality, cautious where it's closer to reality."
   ]
  },
  {
   "cell_type": "code",
   "execution_count": 20,
   "id": "9d4b341a",
   "metadata": {},
   "outputs": [],
   "source": [
    "appli_tr.loc[appli_tr.CODE_GENDER == 'XNA', 'CODE_GENDER'] = 'F' # as most frequent: only 4 people of 307,511 have XNA value\n",
    "appli_tr.loc[appli_tr.NAME_FAMILY_STATUS == 'Unknown', 'NAME_FAMILY_STATUS'] = 'Single / not married' # only 2 people of 307,511 have Unknown value, and I don't want to create a new OneHotEncoded variable which has only 2 \"1\"s. why single: as \"default status\" or \"initial status\" of a person"
   ]
  },
  {
   "cell_type": "code",
   "execution_count": 21,
   "id": "829846a9",
   "metadata": {},
   "outputs": [],
   "source": [
    "appli_tr['NAME_TYPE_SUITE'] = appli_tr.NAME_TYPE_SUITE.fillna('Unaccompanied') # most frequent\n",
    "appli_tr['OCCUPATION_TYPE'] = appli_tr.OCCUPATION_TYPE.fillna('unknown') # new category\n",
    "appli_tr['FONDKAPREMONT_MODE'] = appli_tr.FONDKAPREMONT_MODE.fillna('not specified') # merged with \"not specified\", most frequent\n",
    "appli_tr['HOUSETYPE_MODE'] = appli_tr.HOUSETYPE_MODE.fillna('unknown') # new category\n",
    "appli_tr['WALLSMATERIAL_MODE'] = appli_tr.WALLSMATERIAL_MODE.fillna('Others') # most \"neutral\", when we don't know\n",
    "appli_tr['EMERGENCYSTATE_MODE'] = appli_tr.EMERGENCYSTATE_MODE.fillna('Yes') # we may expect the worst\n"
   ]
  },
  {
   "cell_type": "markdown",
   "id": "4a58e6e3",
   "metadata": {},
   "source": [
    "### Feature selection\n",
    "This is an iterative process, because I look at the results of shap explanation, and then check if the performance stays stable if I remove this value."
   ]
  },
  {
   "cell_type": "code",
   "execution_count": 22,
   "id": "7e49808f",
   "metadata": {},
   "outputs": [],
   "source": [
    "appli_tr = appli_tr.drop(['WEEKDAY_APPR_PROCESS_START', \n",
    "#                           'FLAG_OWN_CAR', \n",
    "                          'FLAG_OWN_REALTY',\n",
    "                          'NAME_TYPE_SUITE',\n",
    "                          'NAME_FAMILY_STATUS',\n",
    "#                           'ORGANIZATION_TYPE',\n",
    "                          'FONDKAPREMONT_MODE',\n",
    "#                           'HOUSETYPE_MODE',\n",
    "                          'WALLSMATERIAL_MODE',\n",
    "#                           'EMERGENCYSTATE_MODE' # has just 1 column\n",
    "                         ], axis=1)"
   ]
  },
  {
   "cell_type": "markdown",
   "id": "abba47f8",
   "metadata": {},
   "source": [
    "## Flags\n",
    "Let's look for the most risky category for each falag value. Flags are integers, but since they have finite numbers of values, I can apply to them \"find the most risky\" function, the same way that I did to categorial variables.\n",
    "\n",
    "This function will allow to see fast whether there's a correlation between the target and these integers with limited ans small number of values they can take.\n",
    "\n",
    "Eventually I can check in this same way even the integers that have more than 2 or 3 flag values.\n",
    "Like I checked the categorical having 58 values."
   ]
  },
  {
   "cell_type": "code",
   "execution_count": 23,
   "id": "3084549b",
   "metadata": {},
   "outputs": [],
   "source": [
    "# appli_tr.describe() # 106 columns, hard to follow\n",
    "test = appli_tr.describe(include=int).transpose()[6:].sort_values('std')\n",
    "# first 12 lines were finally deleted except FLAG_DOC_21\n",
    "# nothing is missing! if there are NaNs, the column datatype switches from int to float\n",
    "# display(test)"
   ]
  },
  {
   "cell_type": "markdown",
   "id": "086e65f3",
   "metadata": {},
   "source": [
    "We don't have missing values (because if you do, the column datatype will turn to float right away), so no need to impute"
   ]
  },
  {
   "cell_type": "code",
   "execution_count": 24,
   "id": "26900fbe",
   "metadata": {
    "scrolled": false
   },
   "outputs": [],
   "source": [
    "selectcol = appli_tr.select_dtypes(include=int)\n",
    "selectcol = selectcol.fillna(900_000)\n",
    "selectcol['SK_ID_CURR'] = appli_tr['SK_ID_CURR']\n",
    "selectcol['TARGET'] = appli_tr['TARGET']\n",
    "selectcol['CNT_FAM_MEMBERS'] = appli_tr['CNT_FAM_MEMBERS'].fillna(900_000)"
   ]
  },
  {
   "cell_type": "code",
   "execution_count": 25,
   "id": "93e3c25e",
   "metadata": {
    "scrolled": false
   },
   "outputs": [
    {
     "name": "stdout",
     "output_type": "stream",
     "text": [
      "2    226984\n",
      "3     48330\n",
      "1     32197\n",
      "Name: REGION_RATING_CLIENT, dtype: int64\n",
      "2.3033326451786196 times varies the probability to fail\n",
      "1.407363503997728 times the highest probability is higher than the most frequent one.\n",
      "ratio of fail for second major class to fail for the major one is 1.407363503997728\n",
      "ratio of fail for the major class to fail for second major one is 0.7105484810139103\n"
     ]
    },
    {
     "data": {
      "text/html": [
       "<div>\n",
       "<style scoped>\n",
       "    .dataframe tbody tr th:only-of-type {\n",
       "        vertical-align: middle;\n",
       "    }\n",
       "\n",
       "    .dataframe tbody tr th {\n",
       "        vertical-align: top;\n",
       "    }\n",
       "\n",
       "    .dataframe thead th {\n",
       "        text-align: right;\n",
       "    }\n",
       "</style>\n",
       "<table border=\"1\" class=\"dataframe\">\n",
       "  <thead>\n",
       "    <tr style=\"text-align: right;\">\n",
       "      <th>TARGET</th>\n",
       "      <th>0</th>\n",
       "      <th>1</th>\n",
       "      <th>proportion</th>\n",
       "    </tr>\n",
       "  </thead>\n",
       "  <tbody>\n",
       "    <tr>\n",
       "      <th>2</th>\n",
       "      <td>92.110898</td>\n",
       "      <td>7.889102</td>\n",
       "      <td>73.813294</td>\n",
       "    </tr>\n",
       "    <tr>\n",
       "      <th>3</th>\n",
       "      <td>88.897165</td>\n",
       "      <td>11.102835</td>\n",
       "      <td>15.716511</td>\n",
       "    </tr>\n",
       "    <tr>\n",
       "      <th>1</th>\n",
       "      <td>95.179675</td>\n",
       "      <td>4.820325</td>\n",
       "      <td>10.470195</td>\n",
       "    </tr>\n",
       "  </tbody>\n",
       "</table>\n",
       "</div>"
      ],
      "text/plain": [
       "TARGET          0          1  proportion\n",
       "2       92.110898   7.889102   73.813294\n",
       "3       88.897165  11.102835   15.716511\n",
       "1       95.179675   4.820325   10.470195"
      ]
     },
     "metadata": {},
     "output_type": "display_data"
    },
    {
     "name": "stdout",
     "output_type": "stream",
     "text": [
      "2    229484\n",
      "3     43860\n",
      "1     34167\n",
      "Name: REGION_RATING_CLIENT_W_CITY, dtype: int64\n",
      "2.355367469001958 times varies the probability to fail\n",
      "1.4400769898518853 times the highest probability is higher than the most frequent one.\n",
      "ratio of fail for second major class to fail for the major one is 1.4400769898518853\n",
      "ratio of fail for the major class to fail for second major one is 0.6944073178357304\n"
     ]
    },
    {
     "data": {
      "text/html": [
       "<div>\n",
       "<style scoped>\n",
       "    .dataframe tbody tr th:only-of-type {\n",
       "        vertical-align: middle;\n",
       "    }\n",
       "\n",
       "    .dataframe tbody tr th {\n",
       "        vertical-align: top;\n",
       "    }\n",
       "\n",
       "    .dataframe thead th {\n",
       "        text-align: right;\n",
       "    }\n",
       "</style>\n",
       "<table border=\"1\" class=\"dataframe\">\n",
       "  <thead>\n",
       "    <tr style=\"text-align: right;\">\n",
       "      <th>TARGET</th>\n",
       "      <th>0</th>\n",
       "      <th>1</th>\n",
       "      <th>proportion</th>\n",
       "    </tr>\n",
       "  </thead>\n",
       "  <tbody>\n",
       "    <tr>\n",
       "      <th>2</th>\n",
       "      <td>92.082237</td>\n",
       "      <td>7.917763</td>\n",
       "      <td>74.626274</td>\n",
       "    </tr>\n",
       "    <tr>\n",
       "      <th>3</th>\n",
       "      <td>88.597811</td>\n",
       "      <td>11.402189</td>\n",
       "      <td>14.262904</td>\n",
       "    </tr>\n",
       "    <tr>\n",
       "      <th>1</th>\n",
       "      <td>95.159072</td>\n",
       "      <td>4.840928</td>\n",
       "      <td>11.110822</td>\n",
       "    </tr>\n",
       "  </tbody>\n",
       "</table>\n",
       "</div>"
      ],
      "text/plain": [
       "TARGET          0          1  proportion\n",
       "2       92.082237   7.917763   74.626274\n",
       "3       88.597811  11.402189   14.262904\n",
       "1       95.159072   4.840928   11.110822"
      ]
     },
     "metadata": {},
     "output_type": "display_data"
    },
    {
     "data": {
      "text/html": [
       "<div>\n",
       "<style scoped>\n",
       "    .dataframe tbody tr th:only-of-type {\n",
       "        vertical-align: middle;\n",
       "    }\n",
       "\n",
       "    .dataframe tbody tr th {\n",
       "        vertical-align: top;\n",
       "    }\n",
       "\n",
       "    .dataframe thead th {\n",
       "        text-align: right;\n",
       "    }\n",
       "</style>\n",
       "<table border=\"1\" class=\"dataframe\">\n",
       "  <thead>\n",
       "    <tr style=\"text-align: right;\">\n",
       "      <th>TARGET</th>\n",
       "      <th>0</th>\n",
       "      <th>1</th>\n",
       "      <th>proportion</th>\n",
       "    </tr>\n",
       "  </thead>\n",
       "  <tbody>\n",
       "    <tr>\n",
       "      <th>2</th>\n",
       "      <td>92.082237</td>\n",
       "      <td>7.917763</td>\n",
       "      <td>74.626274</td>\n",
       "    </tr>\n",
       "    <tr>\n",
       "      <th>3</th>\n",
       "      <td>88.597811</td>\n",
       "      <td>11.402189</td>\n",
       "      <td>14.262904</td>\n",
       "    </tr>\n",
       "    <tr>\n",
       "      <th>1</th>\n",
       "      <td>95.159072</td>\n",
       "      <td>4.840928</td>\n",
       "      <td>11.110822</td>\n",
       "    </tr>\n",
       "  </tbody>\n",
       "</table>\n",
       "</div>"
      ],
      "text/plain": [
       "TARGET          0          1  proportion\n",
       "2       92.082237   7.917763   74.626274\n",
       "3       88.597811  11.402189   14.262904\n",
       "1       95.159072   4.840928   11.110822"
      ]
     },
     "execution_count": 25,
     "metadata": {},
     "output_type": "execute_result"
    }
   ],
   "source": [
    "# find_most_risky('FLAG_MOBIL', selectcol) \n",
    "# find_most_risky('FLAG_EMP_PHONE', selectcol) \n",
    "# find_most_risky('FLAG_WORK_PHONE', selectcol)\n",
    "# find_most_risky('FLAG_CONT_MOBILE', selectcol)\n",
    "# find_most_risky('FLAG_PHONE', selectcol) \n",
    "# find_most_risky('FLAG_EMAIL', selectcol) \n",
    "\n",
    "find_most_risky('REGION_RATING_CLIENT', selectcol) # 11%, 7% and 4% fail. absolutely need to include.\n",
    "find_most_risky('REGION_RATING_CLIENT_W_CITY', selectcol) # the same. check if correlates with REGION_RATING_CLIENT\n",
    "\n",
    "# find_most_risky('REG_REGION_NOT_LIVE_REGION', selectcol) \n",
    "# find_most_risky('REG_REGION_NOT_WORK_REGION', selectcol) \n",
    "# find_most_risky('LIVE_REGION_NOT_WORK_REGION', selectcol) \n",
    "# find_most_risky('REG_CITY_NOT_LIVE_CITY', selectcol)\n",
    "# find_most_risky('REG_CITY_NOT_WORK_CITY', selectcol)\n",
    "# find_most_risky('LIVE_CITY_NOT_WORK_CITY', selectcol)\n",
    "\n",
    "# find_most_risky('FLAG_DOCUMENT_2', selectcol) # 30% fail with 1 (of 30 people), 8% fail with no \n",
    "# find_most_risky('FLAG_DOCUMENT_3', selectcol) # 8.8 vs 6.1 to fail. DROP THIS FEATURE? yes\n",
    "# find_most_risky('FLAG_DOCUMENT_4', selectcol) # 25 people have flag, target 0 of 25. it's like doc2 but inverse\n",
    "# find_most_risky('FLAG_DOCUMENT_5', selectcol) # 8.07 vs 8.0. DROP THIS FEATURE\n",
    "# find_most_risky('FLAG_DOCUMENT_6', selectcol) # 8.3 vs 5.56 to fail\n",
    "# find_most_risky('FLAG_DOCUMENT_7', selectcol) # 8.1 vs 5.1 to fail, 57 people have it. drop? no\n",
    "# find_most_risky('FLAG_DOCUMENT_8', selectcol) # 8.1 vs 7.3 to fail. 25,000 people have it. drop? no\n",
    "# find_most_risky('FLAG_DOCUMENT_9', selectcol) # 8.1 vs 6.1 to fail.  1200 people have it. drop? no\n",
    "# find_most_risky('FLAG_DOCUMENT_10', selectcol) # 7 people have flag, target 0 of 7. DROP THIS FEATURE\n",
    "# find_most_risky('FLAG_DOCUMENT_11', selectcol) # 8.1 vs 6.2 to fail, 1203 pepole have it. drop? no\n",
    "# find_most_risky('FLAG_DOCUMENT_12', selectcol)  # 2 people have flag, target 0 of 2. drop? no. but only 2 people\n",
    "# find_most_risky('FLAG_DOCUMENT_13', selectcol) # 8.1 (all) vs 2.7 (1200 people)\n",
    "# find_most_risky('FLAG_DOCUMENT_14', selectcol) # 8.1 vs 3.3 (903 people)\n",
    "# find_most_risky('FLAG_DOCUMENT_15', selectcol) # 8.1 vs 3.0 (372 people)\n",
    "# find_most_risky('FLAG_DOCUMENT_16', selectcol) # 8.1 vs 4.9 (3,000 people)\n",
    "# find_most_risky('FLAG_DOCUMENT_17', selectcol) # 8.1 vs 2.4 (82 people). drop? no. but there are few people\n",
    "# find_most_risky('FLAG_DOCUMENT_18', selectcol) # 8.1 vs 5.7 (2500 people)\n",
    "# find_most_risky('FLAG_DOCUMENT_19', selectcol) # 8.1 vs 6.55 (183 people). drop? no. but there are few people\n",
    "# find_most_risky('FLAG_DOCUMENT_20', selectcol) # 8.1 vs 8.3(156 people). DROP THIS FEATURE\n",
    "# find_most_risky('FLAG_DOCUMENT_21', selectcol) # 8.1 vs 13.6 (103 people)\n"
   ]
  },
  {
   "cell_type": "markdown",
   "id": "db3ec8cd",
   "metadata": {
    "scrolled": false
   },
   "source": [
    "- FLAG_MOBIL: 1 person without mobile, target 0. DROP THIS FEATURE? certainly yes\n",
    "- FLAG_EMP_PHONE: 8.6 vs 5.4 (55,000 people) KEEP\n",
    "- FLAG_WORK_PHONE: 9.6 vs 7.7(61,000 people) balanced distribution, the ratio is 1.25  __UPD: apparently the performance is a bit lower without it, so I will keep it.__\n",
    "- FLAG_CONT_MOBILE: 8.1 vs 7.8(574 people) imbalanced distribution, the ratio is 1.02 DROP THIS FEATURE? certainly yes\n",
    "- FLAG_PHONE: 8.5 vs 7.0 (86,000 people) balanced distribution, the ratio is 1.2 __UPD: apparently the performance is a bit lower without it, so I will keep it.__\n",
    "- FLAG_EMAIL:  8.1 vs 7.9 (17400 people) imbalanced distribution, the ratio is 1.02 DROP THIS FEATURE? certainly yes\n",
    "\n",
    "- REGION_RATING_CLIENT: 11%, 7% and 4% fail. this is an ordinal variable. With clear correlation! Must include.\n",
    "- REGION_RATING_CLIENT_W_CITY: 11%, 7% and 4% fail. check whether correlates with REGION_RATING_CLIENT  __correlates almost entirely, I drop REGION_RATING_CLIENT and keep REGION_RATING_CLIENT_W_CITY.__\n",
    "\n",
    "- REG_REGION_NOT_LIVE_REGION: 8.1 vs 9.3 (4500 people) imbalanced distribution, the ratio is 1.15 DROP? certainly yes\n",
    "- REG_REGION_NOT_WORK_REGION: 8.1 vs 8.9 (15,000 people) imbalanced distribution, the ratio is 1.10 DROP? certainly yes\n",
    "- LIVE_REGION_NOT_WORK_REGION: 8.1 vs 8.4 (12,000 people) imbalanced distribution, the ratio is 1.05 DROP? certainly yes\n",
    "- REG_CITY_NOT_LIVE_CITY: 7.7 vs 12.2 (24,000 people) less imbalanced distribution, the ratio is 1.58 KEEP\n",
    "- REG_CITY_NOT_WORK_CITY: 7.3 vs 10.6 (70,000 people) balanced distribution, the ratio is 1.3 DROP? \n",
    "- LIVE_CITY_NOT_WORK_CITY: 7.6 vs 10.0 (55,000 people) DROP? __UPD: apparently the performance is a bit lower without it, so I will keep it.__\n",
    "\n",
    "- FLAG_DOCUMENT_2: 30% fail with 1 (of 30 people), 8% fail with no KEEP\n",
    "- FLAG_DOCUMENT_3: 8.8 vs 6.1 to fail. balanced distribution, ratio 1.43 KEEP\n",
    "- FLAG_DOCUMENT_4: 25 people have flag, target 0 of 25. DROP THIS FEATURE? yes. it would be important if we were hunting the precision. __UPD: can drop__\n",
    "- FLAG_DOCUMENT_5:  imbalanced distribution, the ratio is 1.00 DROP THIS FEATURE? certainly yes\n",
    "- FLAG_DOCUMENT_6: 8.3 vs 5.56 to fail imbalanced distribution 10:1, the ratio is 0.66 DROP THIS FEATURE? yes. it would be important if we were hunting the precision. __UPD: apparently the performance is a bit lower without it, so I will keep it.__\n",
    "- FLAG_DOCUMENT_7: 8.1 for 0 vs 5.1 for 1 to fail, 57 people have 1. DROP THIS FEATURE? certainly yes. it would be important if we were hunting the precision. __UPD: can drop__\n",
    "- FLAG_DOCUMENT_8: 8.1 for 0 vs 7.3 for 1 to fail. 25,000 people have 1. imbalanced distribution 10:1, the ratio is 0.90 DROP THIS FEATURE? certainly yes. it would be important if we were hunting the precision.\n",
    "- FLAG_DOCUMENT_9: 8.1 vs 6.1 to fail.  1200 people have it. imbalanced distribution 100:1, the ratio is 0.76 (1.3 times lower for minor value) DROP THIS FEATURE? yes. it would be important if we were hunting the precision.\n",
    "- FLAG_DOCUMENT_10: 7 people have flag, target 0 of 7. DROP THIS FEATURE? yes. it would be important if we were hunting the precision. __UPD: can drop__\n",
    "- FLAG_DOCUMENT_11: imbalanced distribution 100:1, the ratio is 0.76 DROP THIS FEATURE? yes. it would be important if we were hunting the precision.\n",
    "- FLAG_DOCUMENT_12: 2 people have flag, target 0 of 2.  DROP THIS FEATURE? certainly yes. it would be important if we were hunting the precision.  __UPD: can drop__\n",
    "- FLAG_DOCUMENT_13: 8.1 for 0 (all) vs 2.7 for 1 (1200 people)  imbalanced distribution 300:1, the ratio is 0.34 (3 times lower for minor value) DROP THIS FEATURE? yes. it would be important if we were hunting the precision.  __UPD: apparently the performance is a bit lower without it, so I will keep it.__\n",
    "- FLAG_DOCUMENT_14: 8.1 for 0 vs 3.3 for 1 (903 people) imbalanced distribution 350:1, the ratio is 0.41 (2.5 times lower for minor value) DROP THIS FEATURE? yes. it would be important if we were hunting the precision.  __UPD: apparently the performance is a bit lower without it, so I will keep it.__\n",
    "- FLAG_DOCUMENT_15: 8.1 for 0 vs 3.0 for 1 (372 people) imbalanced distribution 800:1, the ratio is 0.36 (2.5 times lower for minor value) DROP THIS FEATURE? yes. it would be important if we were hunting the precision.  __UPD: can drop__\n",
    "\n",
    "\n",
    "- FLAG_DOCUMENT_16: 8.1 for 0 vs 4.9 for 1 (3,000 people)imbalanced distribution 100:1, the ratio is 0.6 (1.7 times lower for minor value) DROP THIS FEATURE? yes. it would be important if we were hunting the precision.  __UPD: apparently the performance is a bit lower without it, so I will keep it.__\n",
    "- FLAG_DOCUMENT_17: 8.1 for 0 vs 2.4 for 1 (82 people) imbalanced distribution 3,000:1, the ratio is 0.3 (3.3 times lower for minor value) DROP THIS FEATURE? yes. it would be important if we were hunting the precision.  __UPD: can drop__\n",
    "\n",
    "\n",
    "- FLAG_DOCUMENT_18: 8.1 vs 5.7 (2500 people) imbalanced distribution 100:1, the ratio is 0.7 (1.4 times lower for minor value) DROP THIS FEATURE? yes. it would be important if we were hunting the precision.  __UPD: can drop__\n",
    "- FLAG_DOCUMENT_19: 8.1 vs 6.55 (183 people). imbalanced distribution 2,000:1, the ratio is 0.8 (1.2 times lower for minor value) certainly drop.\n",
    "- FLAG_DOCUMENT_20: the ratio is 1.03. certainly drop\n",
    "- FLAG_DOCUMENT_21: 8.1 vs 13.6 (103 people) imbalanced distribution 3,000:1, the ratio is 1.68 (3 times lower for minor value) DROP THIS FEATURE? it doesn't fit in the metrics.  __UPD: apparently the performance is a bit lower without it, so I will keep it.__\n"
   ]
  },
  {
   "cell_type": "markdown",
   "id": "d24f3366",
   "metadata": {},
   "source": [
    "There is a tendencythat night applications have higher risk, maybe lunch applications too. Maybe people who feel their applications, are less likely to have a daytime job."
   ]
  },
  {
   "cell_type": "code",
   "execution_count": 26,
   "id": "b70697ed",
   "metadata": {
    "scrolled": true
   },
   "outputs": [
    {
     "data": {
      "text/html": [
       "<div>\n",
       "<style scoped>\n",
       "    .dataframe tbody tr th:only-of-type {\n",
       "        vertical-align: middle;\n",
       "    }\n",
       "\n",
       "    .dataframe tbody tr th {\n",
       "        vertical-align: top;\n",
       "    }\n",
       "\n",
       "    .dataframe thead th {\n",
       "        text-align: right;\n",
       "    }\n",
       "</style>\n",
       "<table border=\"1\" class=\"dataframe\">\n",
       "  <thead>\n",
       "    <tr style=\"text-align: right;\">\n",
       "      <th></th>\n",
       "      <th>RR_W_CITY1</th>\n",
       "      <th>RR_W_CITY2</th>\n",
       "      <th>RR_W_CITY3</th>\n",
       "    </tr>\n",
       "  </thead>\n",
       "  <tbody>\n",
       "    <tr>\n",
       "      <th>RR1</th>\n",
       "      <td>32197</td>\n",
       "      <td>0</td>\n",
       "      <td>0</td>\n",
       "    </tr>\n",
       "    <tr>\n",
       "      <th>RR2</th>\n",
       "      <td>1248</td>\n",
       "      <td>225736</td>\n",
       "      <td>0</td>\n",
       "    </tr>\n",
       "    <tr>\n",
       "      <th>RR3</th>\n",
       "      <td>722</td>\n",
       "      <td>3748</td>\n",
       "      <td>43860</td>\n",
       "    </tr>\n",
       "  </tbody>\n",
       "</table>\n",
       "</div>"
      ],
      "text/plain": [
       "     RR_W_CITY1  RR_W_CITY2  RR_W_CITY3\n",
       "RR1       32197           0           0\n",
       "RR2        1248      225736           0\n",
       "RR3         722        3748       43860"
      ]
     },
     "execution_count": 26,
     "metadata": {},
     "output_type": "execute_result"
    }
   ],
   "source": [
    "pd.DataFrame(confusion_matrix(selectcol.REGION_RATING_CLIENT, selectcol.REGION_RATING_CLIENT_W_CITY),\n",
    "            index=['RR1', 'RR2', 'RR3'], columns=['RR_W_CITY1', 'RR_W_CITY2', 'RR_W_CITY3'])"
   ]
  },
  {
   "cell_type": "markdown",
   "id": "c367f700",
   "metadata": {},
   "source": [
    "Highly correlated values. Let's just double-check that in the applications where REGION_RATING_CLIENT is higher (better?) than REGION_RATING_CLIENT_W_CITY, the proportion of credit fail is higher.\n",
    "\n",
    "Normally the smaller the number, the higher the rating. 1 is 4%, 2 is 7%, 3 is 11% of fail. It works for both REGION_RATING_CLIENT and REGION_RATING_CLIENT_W_CITY.\n",
    "\n",
    "In the lines where REGION is 3 but REGION_W_CITY is 2, the probability is closer to 2 than to 3 (8 is closer to 7 than to 11)"
   ]
  },
  {
   "cell_type": "code",
   "execution_count": 27,
   "id": "9dd2737c",
   "metadata": {
    "scrolled": false
   },
   "outputs": [
    {
     "data": {
      "text/html": [
       "<div>\n",
       "<style scoped>\n",
       "    .dataframe tbody tr th:only-of-type {\n",
       "        vertical-align: middle;\n",
       "    }\n",
       "\n",
       "    .dataframe tbody tr th {\n",
       "        vertical-align: top;\n",
       "    }\n",
       "\n",
       "    .dataframe thead th {\n",
       "        text-align: right;\n",
       "    }\n",
       "</style>\n",
       "<table border=\"1\" class=\"dataframe\">\n",
       "  <thead>\n",
       "    <tr style=\"text-align: right;\">\n",
       "      <th>TARGET</th>\n",
       "      <th>0</th>\n",
       "      <th>1</th>\n",
       "    </tr>\n",
       "  </thead>\n",
       "  <tbody>\n",
       "    <tr>\n",
       "      <th>(2, 3)</th>\n",
       "      <td>91.408751</td>\n",
       "      <td>8.591249</td>\n",
       "    </tr>\n",
       "    <tr>\n",
       "      <th>(1, 3)</th>\n",
       "      <td>94.044321</td>\n",
       "      <td>5.955679</td>\n",
       "    </tr>\n",
       "    <tr>\n",
       "      <th>(1, 2)</th>\n",
       "      <td>95.272436</td>\n",
       "      <td>4.727564</td>\n",
       "    </tr>\n",
       "    <tr>\n",
       "      <th>(2, 2)</th>\n",
       "      <td>NaN</td>\n",
       "      <td>NaN</td>\n",
       "    </tr>\n",
       "  </tbody>\n",
       "</table>\n",
       "</div>"
      ],
      "text/plain": [
       "TARGET          0         1\n",
       "(2, 3)  91.408751  8.591249\n",
       "(1, 3)  94.044321  5.955679\n",
       "(1, 2)  95.272436  4.727564\n",
       "(2, 2)        NaN       NaN"
      ]
     },
     "metadata": {},
     "output_type": "display_data"
    }
   ],
   "source": [
    "# find_most_risky('REGION_RATING_CLIENT')\n",
    "# find_most_risky('REGION_RATING_CLIENT_W_CITY')\n",
    "\n",
    "test_df = selectcol[selectcol.REGION_RATING_CLIENT > selectcol.REGION_RATING_CLIENT_W_CITY]\n",
    "# find_most_risky('REGION_RATING_CLIENT', test_df)\n",
    "# find_most_risky('REGION_RATING_CLIENT_W_CITY', test_df)\n",
    "\n",
    "test = test_df.groupby(['TARGET', \n",
    "                 'REGION_RATING_CLIENT', \n",
    "                 'REGION_RATING_CLIENT_W_CITY'])['SK_ID_CURR'].agg('count').unstack().unstack().fillna(0)\n",
    "\n",
    "test1 = pd.DataFrame() # which proportion of every value has failed the credit \n",
    "for col in test: # how high chances are that a given person with a given value will fail the credit\n",
    "    test1[col] = test[col] / test[col].sum() * 100\n",
    "test1 = test1.transpose().sort_values(1, ascending=False)\n",
    "display(test1)\n"
   ]
  },
  {
   "cell_type": "code",
   "execution_count": 28,
   "id": "0c58f25c",
   "metadata": {
    "scrolled": true
   },
   "outputs": [
    {
     "name": "stdout",
     "output_type": "stream",
     "text": [
      "4    226458\n",
      "6     43860\n",
      "2     32197\n",
      "5      3748\n",
      "3      1248\n",
      "Name: RATING_REGION, dtype: int64\n",
      "2.411847711980975 times varies the probability to fail\n",
      "1.4432490455005653 times the highest probability is higher than the most frequent one.\n",
      "ratio of fail for second major class to fail for the major one is 1.4432490455005653\n",
      "ratio of fail for the major class to fail for second major one is 0.6928811095476372\n"
     ]
    },
    {
     "data": {
      "text/html": [
       "<div>\n",
       "<style scoped>\n",
       "    .dataframe tbody tr th:only-of-type {\n",
       "        vertical-align: middle;\n",
       "    }\n",
       "\n",
       "    .dataframe tbody tr th {\n",
       "        vertical-align: top;\n",
       "    }\n",
       "\n",
       "    .dataframe thead th {\n",
       "        text-align: right;\n",
       "    }\n",
       "</style>\n",
       "<table border=\"1\" class=\"dataframe\">\n",
       "  <thead>\n",
       "    <tr style=\"text-align: right;\">\n",
       "      <th>TARGET</th>\n",
       "      <th>0</th>\n",
       "      <th>1</th>\n",
       "      <th>proportion</th>\n",
       "    </tr>\n",
       "  </thead>\n",
       "  <tbody>\n",
       "    <tr>\n",
       "      <th>4</th>\n",
       "      <td>92.099639</td>\n",
       "      <td>7.900361</td>\n",
       "      <td>73.642244</td>\n",
       "    </tr>\n",
       "    <tr>\n",
       "      <th>6</th>\n",
       "      <td>88.597811</td>\n",
       "      <td>11.402189</td>\n",
       "      <td>14.262904</td>\n",
       "    </tr>\n",
       "    <tr>\n",
       "      <th>2</th>\n",
       "      <td>95.179675</td>\n",
       "      <td>4.820325</td>\n",
       "      <td>10.470195</td>\n",
       "    </tr>\n",
       "    <tr>\n",
       "      <th>5</th>\n",
       "      <td>91.408751</td>\n",
       "      <td>8.591249</td>\n",
       "      <td>1.218818</td>\n",
       "    </tr>\n",
       "    <tr>\n",
       "      <th>3</th>\n",
       "      <td>95.272436</td>\n",
       "      <td>4.727564</td>\n",
       "      <td>0.405839</td>\n",
       "    </tr>\n",
       "  </tbody>\n",
       "</table>\n",
       "</div>"
      ],
      "text/plain": [
       "TARGET          0          1  proportion\n",
       "4       92.099639   7.900361   73.642244\n",
       "6       88.597811  11.402189   14.262904\n",
       "2       95.179675   4.820325   10.470195\n",
       "5       91.408751   8.591249    1.218818\n",
       "3       95.272436   4.727564    0.405839"
      ]
     },
     "metadata": {},
     "output_type": "display_data"
    },
    {
     "data": {
      "text/html": [
       "<div>\n",
       "<style scoped>\n",
       "    .dataframe tbody tr th:only-of-type {\n",
       "        vertical-align: middle;\n",
       "    }\n",
       "\n",
       "    .dataframe tbody tr th {\n",
       "        vertical-align: top;\n",
       "    }\n",
       "\n",
       "    .dataframe thead th {\n",
       "        text-align: right;\n",
       "    }\n",
       "</style>\n",
       "<table border=\"1\" class=\"dataframe\">\n",
       "  <thead>\n",
       "    <tr style=\"text-align: right;\">\n",
       "      <th>TARGET</th>\n",
       "      <th>0</th>\n",
       "      <th>1</th>\n",
       "      <th>proportion</th>\n",
       "    </tr>\n",
       "  </thead>\n",
       "  <tbody>\n",
       "    <tr>\n",
       "      <th>4</th>\n",
       "      <td>92.099639</td>\n",
       "      <td>7.900361</td>\n",
       "      <td>73.642244</td>\n",
       "    </tr>\n",
       "    <tr>\n",
       "      <th>6</th>\n",
       "      <td>88.597811</td>\n",
       "      <td>11.402189</td>\n",
       "      <td>14.262904</td>\n",
       "    </tr>\n",
       "    <tr>\n",
       "      <th>2</th>\n",
       "      <td>95.179675</td>\n",
       "      <td>4.820325</td>\n",
       "      <td>10.470195</td>\n",
       "    </tr>\n",
       "    <tr>\n",
       "      <th>5</th>\n",
       "      <td>91.408751</td>\n",
       "      <td>8.591249</td>\n",
       "      <td>1.218818</td>\n",
       "    </tr>\n",
       "    <tr>\n",
       "      <th>3</th>\n",
       "      <td>95.272436</td>\n",
       "      <td>4.727564</td>\n",
       "      <td>0.405839</td>\n",
       "    </tr>\n",
       "  </tbody>\n",
       "</table>\n",
       "</div>"
      ],
      "text/plain": [
       "TARGET          0          1  proportion\n",
       "4       92.099639   7.900361   73.642244\n",
       "6       88.597811  11.402189   14.262904\n",
       "2       95.179675   4.820325   10.470195\n",
       "5       91.408751   8.591249    1.218818\n",
       "3       95.272436   4.727564    0.405839"
      ]
     },
     "execution_count": 28,
     "metadata": {},
     "output_type": "execute_result"
    }
   ],
   "source": [
    "appli_tr['RATING_REGION'] = appli_tr.REGION_RATING_CLIENT + appli_tr.REGION_RATING_CLIENT_W_CITY\n",
    "find_most_risky('RATING_REGION', appli_tr)#, show=False)"
   ]
  },
  {
   "cell_type": "code",
   "execution_count": 29,
   "id": "abf0b694",
   "metadata": {},
   "outputs": [],
   "source": [
    "appli_tr.loc[appli_tr.CODE_GENDER == 'XNA', 'CODE_GENDER'] = 'F'\n",
    "\n",
    "\n",
    "appli_tr = appli_tr.drop(['FLAG_MOBIL', 'FLAG_CONT_MOBILE', 'FLAG_EMAIL',\n",
    "                          'REGION_RATING_CLIENT', \n",
    "#                           'REGION_RATING_CLIENT_W_CITY', \n",
    "                          'RATING_REGION',\n",
    "                          'REG_REGION_NOT_LIVE_REGION', 'REG_REGION_NOT_WORK_REGION', 'LIVE_REGION_NOT_WORK_REGION',\n",
    "                          \n",
    "                          'FLAG_DOCUMENT_7',\n",
    "                          'FLAG_DOCUMENT_8', \n",
    "#                           'FLAG_DOCUMENT_9', \n",
    "                          'FLAG_DOCUMENT_11', \n",
    "                          'FLAG_DOCUMENT_15',\n",
    "                          'FLAG_DOCUMENT_17',\n",
    "                          'FLAG_DOCUMENT_18',\n",
    "                          'FLAG_DOCUMENT_19',\n",
    "            'FLAG_DOCUMENT_4', 'FLAG_DOCUMENT_5', 'FLAG_DOCUMENT_10', 'FLAG_DOCUMENT_12', 'FLAG_DOCUMENT_20'], axis=1)\n"
   ]
  },
  {
   "cell_type": "markdown",
   "id": "639d543d",
   "metadata": {},
   "source": [
    "## Integer variables: analysis, feature selection, imputing values"
   ]
  },
  {
   "cell_type": "code",
   "execution_count": 30,
   "id": "052b9ad0",
   "metadata": {},
   "outputs": [
    {
     "data": {
      "text/html": [
       "<div>\n",
       "<style scoped>\n",
       "    .dataframe tbody tr th:only-of-type {\n",
       "        vertical-align: middle;\n",
       "    }\n",
       "\n",
       "    .dataframe tbody tr th {\n",
       "        vertical-align: top;\n",
       "    }\n",
       "\n",
       "    .dataframe thead th {\n",
       "        text-align: right;\n",
       "    }\n",
       "</style>\n",
       "<table border=\"1\" class=\"dataframe\">\n",
       "  <thead>\n",
       "    <tr style=\"text-align: right;\">\n",
       "      <th></th>\n",
       "      <th>count</th>\n",
       "      <th>mean</th>\n",
       "      <th>std</th>\n",
       "      <th>min</th>\n",
       "      <th>25%</th>\n",
       "      <th>50%</th>\n",
       "      <th>75%</th>\n",
       "      <th>max</th>\n",
       "    </tr>\n",
       "  </thead>\n",
       "  <tbody>\n",
       "    <tr>\n",
       "      <th>SK_ID_CURR</th>\n",
       "      <td>307511.0</td>\n",
       "      <td>278180.518577</td>\n",
       "      <td>102790.175348</td>\n",
       "      <td>100002.0</td>\n",
       "      <td>189145.5</td>\n",
       "      <td>278202.0</td>\n",
       "      <td>367142.5</td>\n",
       "      <td>456255.0</td>\n",
       "    </tr>\n",
       "    <tr>\n",
       "      <th>TARGET</th>\n",
       "      <td>307511.0</td>\n",
       "      <td>0.080729</td>\n",
       "      <td>0.272419</td>\n",
       "      <td>0.0</td>\n",
       "      <td>0.0</td>\n",
       "      <td>0.0</td>\n",
       "      <td>0.0</td>\n",
       "      <td>1.0</td>\n",
       "    </tr>\n",
       "    <tr>\n",
       "      <th>CNT_CHILDREN</th>\n",
       "      <td>307511.0</td>\n",
       "      <td>0.417052</td>\n",
       "      <td>0.722121</td>\n",
       "      <td>0.0</td>\n",
       "      <td>0.0</td>\n",
       "      <td>0.0</td>\n",
       "      <td>1.0</td>\n",
       "      <td>19.0</td>\n",
       "    </tr>\n",
       "    <tr>\n",
       "      <th>DAYS_BIRTH</th>\n",
       "      <td>307511.0</td>\n",
       "      <td>-16036.995067</td>\n",
       "      <td>4363.988632</td>\n",
       "      <td>-25229.0</td>\n",
       "      <td>-19682.0</td>\n",
       "      <td>-15750.0</td>\n",
       "      <td>-12413.0</td>\n",
       "      <td>-7489.0</td>\n",
       "    </tr>\n",
       "    <tr>\n",
       "      <th>DAYS_EMPLOYED</th>\n",
       "      <td>307511.0</td>\n",
       "      <td>63815.045904</td>\n",
       "      <td>141275.766519</td>\n",
       "      <td>-17912.0</td>\n",
       "      <td>-2760.0</td>\n",
       "      <td>-1213.0</td>\n",
       "      <td>-289.0</td>\n",
       "      <td>365243.0</td>\n",
       "    </tr>\n",
       "    <tr>\n",
       "      <th>DAYS_ID_PUBLISH</th>\n",
       "      <td>307511.0</td>\n",
       "      <td>-2994.202373</td>\n",
       "      <td>1509.450419</td>\n",
       "      <td>-7197.0</td>\n",
       "      <td>-4299.0</td>\n",
       "      <td>-3254.0</td>\n",
       "      <td>-1720.0</td>\n",
       "      <td>0.0</td>\n",
       "    </tr>\n",
       "  </tbody>\n",
       "</table>\n",
       "</div>"
      ],
      "text/plain": [
       "                    count           mean            std       min       25%  \\\n",
       "SK_ID_CURR       307511.0  278180.518577  102790.175348  100002.0  189145.5   \n",
       "TARGET           307511.0       0.080729       0.272419       0.0       0.0   \n",
       "CNT_CHILDREN     307511.0       0.417052       0.722121       0.0       0.0   \n",
       "DAYS_BIRTH       307511.0  -16036.995067    4363.988632  -25229.0  -19682.0   \n",
       "DAYS_EMPLOYED    307511.0   63815.045904  141275.766519  -17912.0   -2760.0   \n",
       "DAYS_ID_PUBLISH  307511.0   -2994.202373    1509.450419   -7197.0   -4299.0   \n",
       "\n",
       "                      50%       75%       max  \n",
       "SK_ID_CURR       278202.0  367142.5  456255.0  \n",
       "TARGET                0.0       0.0       1.0  \n",
       "CNT_CHILDREN          0.0       1.0      19.0  \n",
       "DAYS_BIRTH       -15750.0  -12413.0   -7489.0  \n",
       "DAYS_EMPLOYED     -1213.0    -289.0  365243.0  \n",
       "DAYS_ID_PUBLISH   -3254.0   -1720.0       0.0  "
      ]
     },
     "metadata": {},
     "output_type": "display_data"
    }
   ],
   "source": [
    "# appli_tr.describe() # 106 columns, hard to follow\n",
    "test = appli_tr.describe(include=int).transpose()[:6]\n",
    "# nothing is missing! if there are NaNs, the column datatype switches from int to float\n",
    "display(test)"
   ]
  },
  {
   "cell_type": "markdown",
   "id": "8557fbf5",
   "metadata": {},
   "source": [
    "In the column TARGET we see in the line \"mean\", that only 8% are positive target (loan fail). We have imbalanced classes."
   ]
  },
  {
   "cell_type": "code",
   "execution_count": 31,
   "id": "d82b7016",
   "metadata": {
    "scrolled": false
   },
   "outputs": [
    {
     "data": {
      "image/png": "[encoded data removed]",
      "text/plain": [
       "<Figure size 504x288 with 1 Axes>"
      ]
     },
     "metadata": {
      "needs_background": "light"
     },
     "output_type": "display_data"
    }
   ],
   "source": [
    "# we have already seen the proportion of classes from describe method of the DataFrame, column TARGET, line MEAN \n",
    "\n",
    "\n",
    "norm_target = appli_tr.TARGET.value_counts(normalize=True).mul(100).rename('percent').reset_index()\n",
    "\n",
    "plt.figure(figsize=(7,4))\n",
    "# ax = sns.barplot(x=norm_target.index, y=norm_target.values, data=norm_target)\n",
    "ax = sns.barplot(x='index', y='percent', data=norm_target)\n",
    "\n",
    "# annotate shows the values above the graphs\n",
    "# in the cycle, take every bar on the graph and write the value\n",
    "for patch in ax.patches:\n",
    "    percentage= '{:.1f}%'.format(patch.get_height())\n",
    "    ax.annotate(percentage, # text\n",
    "    (patch.get_x() + patch.get_width() / 2, patch.get_height()), # set x and y for the annotation\n",
    "    ha='center',\n",
    "    va='top',\n",
    "#     xytext=(0, 10), # with this line all the annotations are located in the same area, signatures overlap\n",
    "#     textcoords='offset_points', # shift from the coordinate\n",
    "    fontsize=14)"
   ]
  },
  {
   "cell_type": "markdown",
   "id": "c42c9de3",
   "metadata": {},
   "source": [
    "DAYS_EMPLOYED: How many days before the application the person started current employment"
   ]
  },
  {
   "cell_type": "markdown",
   "id": "c757c870",
   "metadata": {},
   "source": [
    "### CNT_CHILDREN (with impact of CNT_FAM_MEMBERS, CODE_GENDER and DAYS_BIRTH)"
   ]
  },
  {
   "cell_type": "code",
   "execution_count": 32,
   "id": "57ef09cc",
   "metadata": {
    "scrolled": false
   },
   "outputs": [],
   "source": [
    "# find_most_risky('CNT_CHILDREN', selectcol) \n",
    "# find_most_risky('CNT_FAM_MEMBERS', selectcol)\n",
    "# # # # selectcol['CNT_ADULTS'] = selectcol.CNT_FAM_MEMBERS - selectcol.CNT_CHILDREN\n",
    "# # # # find_most_risky('CNT_ADULTS', selectcol, show=False)"
   ]
  },
  {
   "cell_type": "markdown",
   "id": "5d054762",
   "metadata": {},
   "source": [
    "- CNT_CHILDREN: weak linear correlation up to 4 children. Outbreaks at 4 and 6. If we count \"more than 6\" as 1 category, the default rate is about 10%. Worth comparing with this feature and without. __UPD: can drop__\n",
    "- CNT_FAM_MEMBERS: the same linear correlation that was observed for CNT_CHILDREN is broken between 1 and 2, because 2 FAM_MEMBERS have low fail rate than 1. So it makes even less sense to include it. DROP\n",
    "- CNT_ADULTS: synthetic variable has only values 1 or 2, and no difference in fail rate. DROP"
   ]
  },
  {
   "cell_type": "code",
   "execution_count": 33,
   "id": "683bec59",
   "metadata": {},
   "outputs": [],
   "source": [
    "# appli_tr[appli_tr.CNT_FAM_MEMBERS.isna()].CNT_CHILDREN # both 0\n",
    "appli_tr['CNT_FAM_MEMBERS'] = appli_tr.CNT_FAM_MEMBERS.fillna(appli_tr.CNT_CHILDREN + 1).astype('int64')"
   ]
  },
  {
   "cell_type": "code",
   "execution_count": 34,
   "id": "849973a2",
   "metadata": {
    "scrolled": false
   },
   "outputs": [
    {
     "data": {
      "text/plain": [
       "0     67849\n",
       "1     10835\n",
       "2      2317\n",
       "3       265\n",
       "4        26\n",
       "5         5\n",
       "6         2\n",
       "19        2\n",
       "9         1\n",
       "14        1\n",
       "7         1\n",
       "Name: CNT_CHILDREN, dtype: int64"
      ]
     },
     "metadata": {},
     "output_type": "display_data"
    },
    {
     "data": {
      "text/plain": [
       "2    226207\n",
       "1     81304\n",
       "dtype: int64"
      ]
     },
     "execution_count": 34,
     "metadata": {},
     "output_type": "execute_result"
    }
   ],
   "source": [
    "# how many children has a single parent (or just a single person, not a parent)\n",
    "display(appli_tr[appli_tr.CNT_FAM_MEMBERS == appli_tr.CNT_CHILDREN + 1].CNT_CHILDREN.value_counts())\n",
    "# how many adults are considered to be a family? grandparents, siblings, are they taken into account?\n",
    "(appli_tr.CNT_FAM_MEMBERS - appli_tr.CNT_CHILDREN).value_counts(dropna=False) "
   ]
  },
  {
   "cell_type": "code",
   "execution_count": 35,
   "id": "415f3aa6",
   "metadata": {
    "scrolled": true
   },
   "outputs": [
    {
     "data": {
      "text/plain": [
       "11.55115511551155"
      ]
     },
     "execution_count": 35,
     "metadata": {},
     "output_type": "execute_result"
    }
   ],
   "source": [
    "appli_tr[(appli_tr.CNT_FAM_MEMBERS == appli_tr.CNT_CHILDREN + 1) & \n",
    "         (appli_tr.CNT_CHILDREN > 2)].TARGET.mean() * 100\n",
    "# being a single parent with 3 children doesn't rises the probability of a credit fail, compare to total mean 8.1"
   ]
  },
  {
   "cell_type": "code",
   "execution_count": 36,
   "id": "4920b902",
   "metadata": {},
   "outputs": [],
   "source": [
    "# sns.displot(data=appli_tr, x='CNT_FAM_MEMBERS', hue='TARGET', kind='kde', common_norm=False, bw_adjust=1.8) \n",
    "# sns.displot(data=appli_tr, x='CNT_CHILDREN', hue='TARGET', kind='kde', common_norm=False, bw_adjust=1.8)\n",
    "\n",
    "# I should find an easier readable graph, without these sharp peaks"
   ]
  },
  {
   "cell_type": "code",
   "execution_count": 37,
   "id": "27fd1edb",
   "metadata": {
    "scrolled": true
   },
   "outputs": [],
   "source": [
    "# appli_tr['CNT_ADULTS'] = appli_tr.CNT_FAM_MEMBERS - appli_tr.CNT_CHILDREN\n",
    "# sns.displot(data=appli_tr, x='CNT_CHILDREN', hue='TARGET', col='CNT_ADULTS', kind='kde', common_norm=False)\n",
    "# not an informative graph: sharp peaks, and I can't see whether any difference in heigth"
   ]
  },
  {
   "cell_type": "code",
   "execution_count": 38,
   "id": "c8949ce7",
   "metadata": {},
   "outputs": [],
   "source": [
    "# appli_tr['SINGLE_PARENT_CNT_CHILDREN'] = np.where(appli_tr.CNT_FAM_MEMBERS == appli_tr.CNT_CHILDREN + 1, appli_tr.CNT_CHILDREN, 0)\n",
    "# appli_tr['DOUBLE_PARENT_CNT_CHILDREN'] = np.where(appli_tr.CNT_FAM_MEMBERS == appli_tr.CNT_CHILDREN + 2, appli_tr.CNT_CHILDREN, 0)\n",
    "\n",
    "# similar to 'AGE_F' vs 'AGE_M' (see below), but I should find an easier readable graph, without these sharp peaks"
   ]
  },
  {
   "cell_type": "markdown",
   "id": "aac6080c",
   "metadata": {},
   "source": [
    "### DAYS_BIRTH (with impact of CODE_GENDER)"
   ]
  },
  {
   "cell_type": "code",
   "execution_count": 39,
   "id": "919dfd08",
   "metadata": {
    "scrolled": true
   },
   "outputs": [
    {
     "data": {
      "text/plain": [
       "<AxesSubplot:>"
      ]
     },
     "metadata": {},
     "output_type": "display_data"
    },
    {
     "data": {
      "image/png": "[encoded data removed]",
      "text/plain": [
       "<Figure size 432x288 with 1 Axes>"
      ]
     },
     "metadata": {
      "needs_background": "light"
     },
     "output_type": "display_data"
    }
   ],
   "source": [
    "# display(appli_tr.DAYS_BIRTH.hist()) # negative values\n",
    "appli_tr['DAYS_BIRTH'] = appli_tr.DAYS_BIRTH.abs() + 1\n",
    "appli_tr['YEARS_BIRTH'] = appli_tr.DAYS_BIRTH / 365.25\n",
    "display(appli_tr.YEARS_BIRTH.hist(bins=99)) # How many days before the application the person started current employment"
   ]
  },
  {
   "cell_type": "code",
   "execution_count": 40,
   "id": "cc7d9401",
   "metadata": {},
   "outputs": [
    {
     "data": {
      "text/plain": [
       "TARGET\n",
       "0    44.186657\n",
       "1    40.755176\n",
       "Name: YEARS_BIRTH, dtype: float64"
      ]
     },
     "metadata": {},
     "output_type": "display_data"
    },
    {
     "data": {
      "text/plain": [
       "TARGET\n",
       "0    43.471595\n",
       "1    39.104723\n",
       "Name: YEARS_BIRTH, dtype: float64"
      ]
     },
     "metadata": {},
     "output_type": "display_data"
    },
    {
     "data": {
      "text/plain": [
       "TARGET\n",
       "0    39.0\n",
       "1    28.0\n",
       "Name: YEARS_BIRTH, dtype: float64"
      ]
     },
     "metadata": {},
     "output_type": "display_data"
    }
   ],
   "source": [
    "display(appli_tr.groupby('TARGET')['YEARS_BIRTH'].mean())\n",
    "display(appli_tr.groupby('TARGET')['YEARS_BIRTH'].median())\n",
    "\n",
    "# the mode of age, the most frequent age\n",
    "# appli_tr.groupby('TARGET')['YEARS_BIRTH'].transform(lambda x: x.value_counts().index[0] )\n",
    "display(appli_tr.groupby('TARGET')['YEARS_BIRTH'].apply(lambda x: x.round().value_counts().index[0]))\n",
    "\n",
    "# if use transform instead of apply, it wil return the series, not the mode of every group\n",
    "# maybe apply acts on Series or on part of Series formed after groupby, while transform acts elementwise\n",
    "# appli_tr.groupby('TARGET')['YEARS_BIRTH'].transform(lambda x: x.round().value_counts().index[0])"
   ]
  },
  {
   "cell_type": "code",
   "execution_count": 41,
   "id": "e9d82bcc",
   "metadata": {
    "scrolled": true
   },
   "outputs": [
    {
     "data": {
      "text/plain": [
       "<seaborn.axisgrid.FacetGrid at 0x28fd32ce1f0>"
      ]
     },
     "execution_count": 41,
     "metadata": {},
     "output_type": "execute_result"
    },
    {
     "data": {
      "image/png": "[encoded data removed]",
      "text/plain": [
       "<Figure size 767x360 with 2 Axes>"
      ]
     },
     "metadata": {
      "needs_background": "light"
     },
     "output_type": "display_data"
    }
   ],
   "source": [
    "sns.displot(data=appli_tr, x='YEARS_BIRTH', hue='TARGET', col='CODE_GENDER', kind='kde', common_norm=False)"
   ]
  },
  {
   "cell_type": "code",
   "execution_count": 42,
   "id": "54f6fac1",
   "metadata": {
    "scrolled": false
   },
   "outputs": [
    {
     "data": {
      "text/plain": [
       "<seaborn.axisgrid.FacetGrid at 0x28f80784ee0>"
      ]
     },
     "execution_count": 42,
     "metadata": {},
     "output_type": "execute_result"
    },
    {
     "data": {
      "image/png": "[encoded data removed]",
      "text/plain": [
       "<Figure size 767x360 with 2 Axes>"
      ]
     },
     "metadata": {
      "needs_background": "light"
     },
     "output_type": "display_data"
    }
   ],
   "source": [
    "appli_tr['CNT_ADULTS'] = appli_tr.CNT_FAM_MEMBERS - appli_tr.CNT_CHILDREN\n",
    "sns.displot(data=appli_tr, x='YEARS_BIRTH', hue='TARGET', col='CNT_ADULTS', kind='kde', common_norm=False)\n",
    "# the peak for old single adult should correspond to the widow family status"
   ]
  },
  {
   "cell_type": "code",
   "execution_count": 43,
   "id": "e61624ec",
   "metadata": {},
   "outputs": [],
   "source": [
    "appli_tr['F_AGE'] = np.where(appli_tr.CODE_GENDER == 'F', appli_tr.DAYS_BIRTH, 0)\n",
    "appli_tr['M_AGE'] = np.where(appli_tr.CODE_GENDER == 'M', appli_tr.DAYS_BIRTH, 0)"
   ]
  },
  {
   "cell_type": "code",
   "execution_count": 44,
   "id": "0c07049a",
   "metadata": {},
   "outputs": [
    {
     "data": {
      "text/plain": [
       "<seaborn.axisgrid.FacetGrid at 0x28f8165a4c0>"
      ]
     },
     "execution_count": 44,
     "metadata": {},
     "output_type": "execute_result"
    },
    {
     "data": {
      "image/png": "[encoded data removed]",
      "text/plain": [
       "<Figure size 407x360 with 1 Axes>"
      ]
     },
     "metadata": {
      "needs_background": "light"
     },
     "output_type": "display_data"
    }
   ],
   "source": [
    "sns.displot(data=appli_tr, x='F_AGE', hue='TARGET', kind='kde', common_norm=False)"
   ]
  },
  {
   "cell_type": "code",
   "execution_count": 45,
   "id": "3afa9265",
   "metadata": {},
   "outputs": [
    {
     "data": {
      "text/plain": [
       "<seaborn.axisgrid.FacetGrid at 0x28f816dadc0>"
      ]
     },
     "execution_count": 45,
     "metadata": {},
     "output_type": "execute_result"
    },
    {
     "data": {
      "image/png": "[encoded data removed]",
      "text/plain": [
       "<Figure size 407x360 with 1 Axes>"
      ]
     },
     "metadata": {
      "needs_background": "light"
     },
     "output_type": "display_data"
    }
   ],
   "source": [
    "sns.displot(data=appli_tr, x='M_AGE', hue='TARGET', kind='kde', common_norm=False)"
   ]
  },
  {
   "cell_type": "markdown",
   "id": "794044d0",
   "metadata": {},
   "source": [
    "###  DAYS_EMPLOYED (with impact of DAYS_BIRTH and CODE_GENDER)"
   ]
  },
  {
   "cell_type": "code",
   "execution_count": 46,
   "id": "4b8037ff",
   "metadata": {
    "scrolled": false
   },
   "outputs": [
    {
     "data": {
      "text/plain": [
       "365243    55374\n",
       "Name: DAYS_EMPLOYED, dtype: int64"
      ]
     },
     "metadata": {},
     "output_type": "display_data"
    },
    {
     "data": {
      "text/plain": [
       "<AxesSubplot:>"
      ]
     },
     "metadata": {},
     "output_type": "display_data"
    },
    {
     "data": {
      "image/png": "[encoded data removed]",
      "text/plain": [
       "<Figure size 432x288 with 1 Axes>"
      ]
     },
     "metadata": {
      "needs_background": "light"
     },
     "output_type": "display_data"
    }
   ],
   "source": [
    "# display(appli_tr.DAYS_EMPLOYED.hist()) # a peak around 350,000\n",
    "display(appli_tr.loc[appli_tr.DAYS_EMPLOYED > 50_000, 'DAYS_EMPLOYED'].value_counts(dropna=False)) #365243 is 1,000 years\n",
    "\n",
    "appli_tr.loc[appli_tr.DAYS_EMPLOYED > 50_000, 'DAYS_EMPLOYED'] = np.nan # 50,000 days is 136.89 years\n",
    "# appli_tr.replace(365243, np.nan, inplace=True) # works as well\n",
    "appli_tr['DAYS_EMPLOYED'] = appli_tr.DAYS_EMPLOYED.abs() + 1\n",
    "\n",
    "display(appli_tr.DAYS_EMPLOYED.hist(bins=99)) # How many days before the application the person started current employment"
   ]
  },
  {
   "cell_type": "code",
   "execution_count": 47,
   "id": "8d7a50fc",
   "metadata": {},
   "outputs": [
    {
     "name": "stdout",
     "output_type": "stream",
     "text": [
      "8.072881945686495\n",
      "5.399646043269405\n",
      "2385.1693246132063\n",
      "1649.0\n",
      "201.0\n"
     ]
    },
    {
     "data": {
      "text/plain": [
       "TARGET\n",
       "0    225.0\n",
       "1    235.0\n",
       "Name: DAYS_EMPLOYED, dtype: float64"
      ]
     },
     "metadata": {},
     "output_type": "display_data"
    }
   ],
   "source": [
    "print(appli_tr.TARGET.mean() * 100)\n",
    "print(appli_tr[appli_tr.DAYS_EMPLOYED.isna()].TARGET.mean() * 100)\n",
    "print(appli_tr.DAYS_EMPLOYED.mean())\n",
    "print(appli_tr.DAYS_EMPLOYED.median())\n",
    "print(appli_tr.DAYS_EMPLOYED.value_counts().index[0])\n",
    "\n",
    "display(appli_tr.groupby('TARGET')['DAYS_EMPLOYED'].apply(lambda x: x.round().value_counts().index[0]))"
   ]
  },
  {
   "cell_type": "code",
   "execution_count": 48,
   "id": "e433539c",
   "metadata": {
    "scrolled": false
   },
   "outputs": [
    {
     "data": {
      "text/plain": [
       "<AxesSubplot:xlabel='DAYS_EMPLOYED', ylabel='Density'>"
      ]
     },
     "execution_count": 48,
     "metadata": {},
     "output_type": "execute_result"
    },
    {
     "data": {
      "image/png": "[encoded data removed]",
      "text/plain": [
       "<Figure size 720x360 with 1 Axes>"
      ]
     },
     "metadata": {
      "needs_background": "light"
     },
     "output_type": "display_data"
    }
   ],
   "source": [
    "fig, ax = plt.subplots(figsize=(10, 5))\n",
    "sns.kdeplot(ax=ax, data=appli_tr, x='DAYS_EMPLOYED', hue='TARGET', common_norm=False)"
   ]
  },
  {
   "cell_type": "code",
   "execution_count": 49,
   "id": "57d9e7e3",
   "metadata": {},
   "outputs": [],
   "source": [
    "# # # appli_tr['TEST_EMPLOYED0'] = appli_tr.DAYS_EMPLOYED.fillna(1)\n",
    "# # # appli_tr['TEST_EMPLOYED1'] = appli_tr.DAYS_EMPLOYED.fillna(appli_tr.DAYS_EMPLOYED.value_counts().index[0])\n",
    "# # # appli_tr['TEST_EMPLOYED2'] = appli_tr.DAYS_EMPLOYED.fillna(appli_tr.DAYS_EMPLOYED.median())\n",
    "# # # appli_tr['TEST_EMPLOYED3'] = appli_tr.DAYS_EMPLOYED.fillna(appli_tr.DAYS_EMPLOYED.mean())\n",
    "\n",
    "# # # fig, ax = plt.subplots(figsize=(10, 5))\n",
    "# # # display(sns.kdeplot(ax=ax, data=appli_tr, x='TEST_EMPLOYED0', hue='TARGET', common_norm=False))\n",
    "# # # display(sns.kdeplot(ax=ax, data=appli_tr, x='TEST_EMPLOYED1', hue='TARGET', common_norm=False))\n",
    "# # # display(sns.kdeplot(ax=ax, data=appli_tr, x='TEST_EMPLOYED2', hue='TARGET', common_norm=False))\n",
    "# # # display(sns.kdeplot(ax=ax, data=appli_tr, x='TEST_EMPLOYED3', hue='TARGET', common_norm=False))\n",
    "\n",
    "appli_tr['DAYS_EMPLOYED'] = appli_tr.DAYS_EMPLOYED.fillna(appli_tr.DAYS_EMPLOYED.mean())\n",
    "appli_tr['YEARS_EMPLOYED'] = appli_tr.DAYS_EMPLOYED / 365.25"
   ]
  },
  {
   "cell_type": "code",
   "execution_count": 50,
   "id": "b7ea34c1",
   "metadata": {},
   "outputs": [],
   "source": [
    "appli_ok = appli_tr[appli_tr.TARGET== 0]\n",
    "appli_fail = appli_tr[appli_tr.TARGET== 1]"
   ]
  },
  {
   "cell_type": "code",
   "execution_count": 51,
   "id": "074e9d09",
   "metadata": {},
   "outputs": [
    {
     "data": {
      "text/plain": [
       "Text(0.5, 6.79999999999999, 'Age, years')"
      ]
     },
     "execution_count": 51,
     "metadata": {},
     "output_type": "execute_result"
    },
    {
     "data": {
      "image/png": "[encoded data removed]",
      "text/plain": [
       "<Figure size 435.875x360 with 1 Axes>"
      ]
     },
     "metadata": {
      "needs_background": "light"
     },
     "output_type": "display_data"
    }
   ],
   "source": [
    "sns.displot(\n",
    "{   'target 0': appli_ok.YEARS_EMPLOYED / appli_ok.YEARS_BIRTH,\n",
    "    'target 1': appli_fail.YEARS_EMPLOYED / appli_fail.YEARS_BIRTH \n",
    "}, kind='kde', common_norm=False)\n",
    "plt.xlabel('Age, years')"
   ]
  },
  {
   "cell_type": "code",
   "execution_count": 52,
   "id": "79751a7b",
   "metadata": {
    "scrolled": true
   },
   "outputs": [
    {
     "data": {
      "text/plain": [
       "Text(0.5, 6.79999999999999, 'Age, years')"
      ]
     },
     "execution_count": 52,
     "metadata": {},
     "output_type": "execute_result"
    },
    {
     "data": {
      "image/png": "[encoded data removed]",
      "text/plain": [
       "<Figure size 435.875x360 with 1 Axes>"
      ]
     },
     "metadata": {
      "needs_background": "light"
     },
     "output_type": "display_data"
    }
   ],
   "source": [
    "# the difference between target 0 and target 1 seems to be less pronounced \n",
    "sns.displot(\n",
    "{   'target 0': appli_ok.YEARS_EMPLOYED / (appli_ok.YEARS_BIRTH - 16),\n",
    "    'target 1': appli_fail.YEARS_EMPLOYED / (appli_fail.YEARS_BIRTH - 16) \n",
    "}, kind='kde', common_norm=False)\n",
    "plt.xlabel('Age, years')\n",
    "\n",
    "# makes no sense to create synthetic variable DAYS_EMPLOYED / (DAYS_BIRTH - 5844) where 5844 days is 16 years"
   ]
  },
  {
   "cell_type": "markdown",
   "id": "b47998b9",
   "metadata": {},
   "source": [
    "I tested the synthetic features DAYS_EMPLOYED_PERC = DAYS_EMPLOYED / DAYS_BIRTH and DAYS_EMPLOYED_ADULT = DAYS_EMPLOYED / (DAYS_BIRTH - 5844) where 5844 days is 16 years. I tested the model with all these variables included.\n",
    "\n",
    "Later at the Shap verification of feature importances, I saw that the variables DAYS_EMPLOYED, DAYS_EMPLOYED_PERC and DAYS_EMPLOYED_ADULT are highly correlated (which is quite expected). That's why I can keep only one of these variables, and thus reduce the bad effect of the correlation.\n",
    "I will keep the proportion DAYS_EMPLOYED / DAYS_BIRTH, because it shows good distinction between the target curves, and doesn't have such a long trailing tail as original DAYS_EMPLOYED variable.\n"
   ]
  },
  {
   "cell_type": "code",
   "execution_count": 53,
   "id": "642566e8",
   "metadata": {},
   "outputs": [],
   "source": [
    "appli_tr['DAYS_EMPLOYED_PERC'] = appli_tr['DAYS_EMPLOYED'] / appli_tr['DAYS_BIRTH']"
   ]
  },
  {
   "cell_type": "markdown",
   "id": "1fc62396",
   "metadata": {},
   "source": [
    "###  DAYS_ID_PUBLISH (with impact of DAYS_BIRTH and CODE_GENDER)"
   ]
  },
  {
   "cell_type": "code",
   "execution_count": 54,
   "id": "60940af4",
   "metadata": {
    "scrolled": false
   },
   "outputs": [
    {
     "data": {
      "text/plain": [
       "<AxesSubplot:>"
      ]
     },
     "metadata": {},
     "output_type": "display_data"
    },
    {
     "data": {
      "image/png": "[encoded data removed]",
      "text/plain": [
       "<Figure size 432x288 with 1 Axes>"
      ]
     },
     "metadata": {
      "needs_background": "light"
     },
     "output_type": "display_data"
    }
   ],
   "source": [
    "# display(appli_tr.DAYS_ID_PUBLISH.hist()) # negative values\n",
    "appli_tr['DAYS_ID_PUBLISH'] = appli_tr.DAYS_ID_PUBLISH.abs() + 1\n",
    "display(appli_tr.DAYS_ID_PUBLISH.hist(bins=99)) # How many days before the application the person started current employment"
   ]
  },
  {
   "cell_type": "code",
   "execution_count": 55,
   "id": "9d86ad47",
   "metadata": {},
   "outputs": [
    {
     "data": {
      "text/plain": [
       "TARGET\n",
       "0    4054\n",
       "1    4034\n",
       "Name: DAYS_ID_PUBLISH, dtype: int64"
      ]
     },
     "metadata": {},
     "output_type": "display_data"
    },
    {
     "data": {
      "text/plain": [
       "TARGET\n",
       "0    3296.0\n",
       "1    2798.0\n",
       "Name: DAYS_ID_PUBLISH, dtype: float64"
      ]
     },
     "metadata": {},
     "output_type": "display_data"
    },
    {
     "data": {
      "text/plain": [
       "TARGET\n",
       "0    3018.219788\n",
       "1    2733.099617\n",
       "Name: DAYS_ID_PUBLISH, dtype: float64"
      ]
     },
     "metadata": {},
     "output_type": "display_data"
    }
   ],
   "source": [
    "display(appli_tr.groupby('TARGET')['DAYS_ID_PUBLISH'].apply(lambda x: x.round().value_counts().index[0]))\n",
    "display(appli_tr.groupby('TARGET')['DAYS_ID_PUBLISH'].apply(lambda x: x.median()))\n",
    "display(appli_tr.groupby('TARGET')['DAYS_ID_PUBLISH'].apply(lambda x: x.mean()))"
   ]
  },
  {
   "cell_type": "code",
   "execution_count": 56,
   "id": "43f27acc",
   "metadata": {
    "scrolled": false
   },
   "outputs": [
    {
     "data": {
      "text/plain": [
       "<AxesSubplot:xlabel='DAYS_ID_PUBLISH', ylabel='Density'>"
      ]
     },
     "execution_count": 56,
     "metadata": {},
     "output_type": "execute_result"
    },
    {
     "data": {
      "image/png": "[encoded data removed]",
      "text/plain": [
       "<Figure size 720x360 with 1 Axes>"
      ]
     },
     "metadata": {
      "needs_background": "light"
     },
     "output_type": "display_data"
    }
   ],
   "source": [
    "fig, ax = plt.subplots(figsize=(10, 5))\n",
    "sns.kdeplot(ax=ax, data=appli_tr, x='DAYS_ID_PUBLISH', hue='TARGET', common_norm=False)"
   ]
  },
  {
   "cell_type": "code",
   "execution_count": 57,
   "id": "ed02c36c",
   "metadata": {
    "scrolled": false
   },
   "outputs": [
    {
     "data": {
      "text/plain": [
       "<seaborn.axisgrid.FacetGrid at 0x28f81b8fc40>"
      ]
     },
     "execution_count": 57,
     "metadata": {},
     "output_type": "execute_result"
    },
    {
     "data": {
      "image/png": "[encoded data removed]",
      "text/plain": [
       "<Figure size 767x360 with 2 Axes>"
      ]
     },
     "metadata": {
      "needs_background": "light"
     },
     "output_type": "display_data"
    }
   ],
   "source": [
    "sns.displot(data=appli_tr, x='DAYS_ID_PUBLISH', col='CODE_GENDER', hue='TARGET', kind='kde', common_norm=False)"
   ]
  },
  {
   "cell_type": "markdown",
   "id": "3b19e8a6",
   "metadata": {},
   "source": [
    "###  DAYS_REGISTRATION (with impact of DAYS_BIRTH and CODE_GENDER)"
   ]
  },
  {
   "cell_type": "code",
   "execution_count": 72,
   "id": "8ab49eed",
   "metadata": {
    "scrolled": false
   },
   "outputs": [
    {
     "data": {
      "text/plain": [
       "<AxesSubplot:>"
      ]
     },
     "metadata": {},
     "output_type": "display_data"
    },
    {
     "data": {
      "image/png": "[encoded data removed]",
      "text/plain": [
       "<Figure size 432x288 with 1 Axes>"
      ]
     },
     "metadata": {
      "needs_background": "light"
     },
     "output_type": "display_data"
    }
   ],
   "source": [
    "# display(appli_tr.DAYS_REGISTRATION.hist()) # negative values\n",
    "appli_tr['DAYS_REGISTRATION'] = appli_tr.DAYS_REGISTRATION.abs() + 1\n",
    "display(appli_tr.DAYS_REGISTRATION.hist(bins=99)) # How many days before the application the person started current employment"
   ]
  },
  {
   "cell_type": "code",
   "execution_count": 73,
   "id": "44ca17d4",
   "metadata": {},
   "outputs": [
    {
     "data": {
      "text/plain": [
       "TARGET\n",
       "0    2.0\n",
       "1    2.0\n",
       "Name: DAYS_REGISTRATION, dtype: float64"
      ]
     },
     "metadata": {},
     "output_type": "display_data"
    },
    {
     "data": {
      "text/plain": [
       "TARGET\n",
       "0    4545.0\n",
       "1    4057.0\n",
       "Name: DAYS_REGISTRATION, dtype: float64"
      ]
     },
     "metadata": {},
     "output_type": "display_data"
    },
    {
     "data": {
      "text/plain": [
       "TARGET\n",
       "0    5030.941065\n",
       "1    4488.127009\n",
       "Name: DAYS_REGISTRATION, dtype: float64"
      ]
     },
     "metadata": {},
     "output_type": "display_data"
    }
   ],
   "source": [
    "display(appli_tr.groupby('TARGET')['DAYS_REGISTRATION'].apply(lambda x: x.round().value_counts().index[0]))\n",
    "display(appli_tr.groupby('TARGET')['DAYS_REGISTRATION'].apply(lambda x: x.median()))\n",
    "display(appli_tr.groupby('TARGET')['DAYS_REGISTRATION'].apply(lambda x: x.mean()))"
   ]
  },
  {
   "cell_type": "code",
   "execution_count": 74,
   "id": "138cf4fa",
   "metadata": {
    "scrolled": true
   },
   "outputs": [
    {
     "data": {
      "text/plain": [
       "<AxesSubplot:xlabel='DAYS_REGISTRATION', ylabel='Density'>"
      ]
     },
     "execution_count": 74,
     "metadata": {},
     "output_type": "execute_result"
    },
    {
     "data": {
      "image/png": "[encoded data removed]",
      "text/plain": [
       "<Figure size 720x360 with 1 Axes>"
      ]
     },
     "metadata": {
      "needs_background": "light"
     },
     "output_type": "display_data"
    }
   ],
   "source": [
    "fig, ax = plt.subplots(figsize=(10, 5))\n",
    "sns.kdeplot(ax=ax, data=appli_tr, x='DAYS_REGISTRATION', hue='TARGET', common_norm=False)"
   ]
  },
  {
   "cell_type": "code",
   "execution_count": 75,
   "id": "ddb15c4e",
   "metadata": {
    "scrolled": false
   },
   "outputs": [
    {
     "data": {
      "text/plain": [
       "<seaborn.axisgrid.FacetGrid at 0x28f80b0ca30>"
      ]
     },
     "execution_count": 75,
     "metadata": {},
     "output_type": "execute_result"
    },
    {
     "data": {
      "image/png": "[encoded data removed]",
      "text/plain": [
       "<Figure size 767x360 with 2 Axes>"
      ]
     },
     "metadata": {
      "needs_background": "light"
     },
     "output_type": "display_data"
    }
   ],
   "source": [
    "sns.displot(data=appli_tr, x='DAYS_REGISTRATION', col='CODE_GENDER', hue='TARGET', kind='kde', common_norm=False)"
   ]
  },
  {
   "cell_type": "markdown",
   "id": "d28636be",
   "metadata": {},
   "source": [
    "### HOUR_APPR_PROCESS_START"
   ]
  },
  {
   "cell_type": "code",
   "execution_count": 58,
   "id": "39b7727a",
   "metadata": {
    "scrolled": false
   },
   "outputs": [],
   "source": [
    "# find_most_risky('HOUR_APPR_PROCESS_START', selectcol)"
   ]
  },
  {
   "cell_type": "markdown",
   "id": "2a78f321",
   "metadata": {},
   "source": [
    "- HOUR_APPR_PROCESS_START: there is a correlation, but not linear. People who apply at night or early morning (10PM-7AM) fail their credits more often.\n",
    "But to transfer this 'circular' dependence into a linear one, we should 'shift the clock'. So that the night starts at 22 hours, not at 0 hours."
   ]
  },
  {
   "cell_type": "code",
   "execution_count": 59,
   "id": "30dd8caa",
   "metadata": {},
   "outputs": [],
   "source": [
    "appli_tr.loc[appli_tr.HOUR_APPR_PROCESS_START > 21, 'HOUR_APPR_PROCESS_START'] = appli_tr.HOUR_APPR_PROCESS_START - 24\n",
    "appli_tr['HOUR_APPR_PROCESS_START'] = appli_tr.HOUR_APPR_PROCESS_START + 2"
   ]
  },
  {
   "cell_type": "code",
   "execution_count": 77,
   "id": "c7feb166",
   "metadata": {
    "scrolled": true
   },
   "outputs": [
    {
     "data": {
      "text/plain": [
       "<seaborn.axisgrid.FacetGrid at 0x28f96a6b0d0>"
      ]
     },
     "execution_count": 77,
     "metadata": {},
     "output_type": "execute_result"
    },
    {
     "data": {
      "image/png": "[encoded data removed]",
      "text/plain": [
       "<Figure size 407x360 with 1 Axes>"
      ]
     },
     "metadata": {
      "needs_background": "light"
     },
     "output_type": "display_data"
    }
   ],
   "source": [
    "sns.displot(data=appli_tr, x='HOUR_APPR_PROCESS_START', hue='TARGET', kind='kde', common_norm=False, bw_adjust=1.7)\n",
    "# The graph still looks like the difference on the graphs is tiny. Maybe I will remove this feture at the final cleaning step."
   ]
  },
  {
   "cell_type": "markdown",
   "id": "adb07632",
   "metadata": {},
   "source": [
    "## Float variables: analysis, feature selection, imputing values"
   ]
  },
  {
   "cell_type": "code",
   "execution_count": 76,
   "id": "a220be3d",
   "metadata": {
    "scrolled": false
   },
   "outputs": [
    {
     "data": {
      "text/html": [
       "<div>\n",
       "<style scoped>\n",
       "    .dataframe tbody tr th:only-of-type {\n",
       "        vertical-align: middle;\n",
       "    }\n",
       "\n",
       "    .dataframe tbody tr th {\n",
       "        vertical-align: top;\n",
       "    }\n",
       "\n",
       "    .dataframe thead th {\n",
       "        text-align: right;\n",
       "    }\n",
       "</style>\n",
       "<table border=\"1\" class=\"dataframe\">\n",
       "  <thead>\n",
       "    <tr style=\"text-align: right;\">\n",
       "      <th></th>\n",
       "      <th>count</th>\n",
       "      <th>mean</th>\n",
       "      <th>std</th>\n",
       "      <th>min</th>\n",
       "      <th>25%</th>\n",
       "      <th>50%</th>\n",
       "      <th>75%</th>\n",
       "      <th>max</th>\n",
       "      <th>missing</th>\n",
       "    </tr>\n",
       "  </thead>\n",
       "  <tbody>\n",
       "    <tr>\n",
       "      <th>AMT_INCOME_TOTAL</th>\n",
       "      <td>0.0</td>\n",
       "      <td>168797.919297</td>\n",
       "      <td>237123.146279</td>\n",
       "      <td>2.565000e+04</td>\n",
       "      <td>112500.000000</td>\n",
       "      <td>147150.000000</td>\n",
       "      <td>202500.000000</td>\n",
       "      <td>1.170000e+08</td>\n",
       "      <td>0.000</td>\n",
       "    </tr>\n",
       "    <tr>\n",
       "      <th>AMT_CREDIT</th>\n",
       "      <td>0.0</td>\n",
       "      <td>599025.999706</td>\n",
       "      <td>402490.776996</td>\n",
       "      <td>4.500000e+04</td>\n",
       "      <td>270000.000000</td>\n",
       "      <td>513531.000000</td>\n",
       "      <td>808650.000000</td>\n",
       "      <td>4.050000e+06</td>\n",
       "      <td>0.000</td>\n",
       "    </tr>\n",
       "    <tr>\n",
       "      <th>AMT_ANNUITY</th>\n",
       "      <td>12.0</td>\n",
       "      <td>27108.573909</td>\n",
       "      <td>14493.737315</td>\n",
       "      <td>1.615500e+03</td>\n",
       "      <td>16524.000000</td>\n",
       "      <td>24903.000000</td>\n",
       "      <td>34596.000000</td>\n",
       "      <td>2.580255e+05</td>\n",
       "      <td>0.004</td>\n",
       "    </tr>\n",
       "    <tr>\n",
       "      <th>AMT_GOODS_PRICE</th>\n",
       "      <td>278.0</td>\n",
       "      <td>538396.207429</td>\n",
       "      <td>369446.460540</td>\n",
       "      <td>4.050000e+04</td>\n",
       "      <td>238500.000000</td>\n",
       "      <td>450000.000000</td>\n",
       "      <td>679500.000000</td>\n",
       "      <td>4.050000e+06</td>\n",
       "      <td>0.090</td>\n",
       "    </tr>\n",
       "    <tr>\n",
       "      <th>REGION_POPULATION_RELATIVE</th>\n",
       "      <td>0.0</td>\n",
       "      <td>0.020868</td>\n",
       "      <td>0.013831</td>\n",
       "      <td>2.900000e-04</td>\n",
       "      <td>0.010006</td>\n",
       "      <td>0.018850</td>\n",
       "      <td>0.028663</td>\n",
       "      <td>7.250800e-02</td>\n",
       "      <td>0.000</td>\n",
       "    </tr>\n",
       "    <tr>\n",
       "      <th>DAYS_EMPLOYED</th>\n",
       "      <td>0.0</td>\n",
       "      <td>2385.169325</td>\n",
       "      <td>2117.381973</td>\n",
       "      <td>1.000000e+00</td>\n",
       "      <td>934.000000</td>\n",
       "      <td>2220.000000</td>\n",
       "      <td>2761.000000</td>\n",
       "      <td>1.791300e+04</td>\n",
       "      <td>0.000</td>\n",
       "    </tr>\n",
       "    <tr>\n",
       "      <th>DAYS_REGISTRATION</th>\n",
       "      <td>0.0</td>\n",
       "      <td>4987.120328</td>\n",
       "      <td>3522.886321</td>\n",
       "      <td>1.000000e+00</td>\n",
       "      <td>2011.000000</td>\n",
       "      <td>4505.000000</td>\n",
       "      <td>7480.500000</td>\n",
       "      <td>2.467300e+04</td>\n",
       "      <td>0.000</td>\n",
       "    </tr>\n",
       "    <tr>\n",
       "      <th>OWN_CAR_AGE</th>\n",
       "      <td>202929.0</td>\n",
       "      <td>12.061091</td>\n",
       "      <td>11.944812</td>\n",
       "      <td>0.000000e+00</td>\n",
       "      <td>5.000000</td>\n",
       "      <td>9.000000</td>\n",
       "      <td>15.000000</td>\n",
       "      <td>9.100000e+01</td>\n",
       "      <td>65.991</td>\n",
       "    </tr>\n",
       "    <tr>\n",
       "      <th>EXT_SOURCE_1</th>\n",
       "      <td>173378.0</td>\n",
       "      <td>0.502130</td>\n",
       "      <td>0.211062</td>\n",
       "      <td>1.456813e-02</td>\n",
       "      <td>0.334007</td>\n",
       "      <td>0.505998</td>\n",
       "      <td>0.675053</td>\n",
       "      <td>9.626928e-01</td>\n",
       "      <td>56.381</td>\n",
       "    </tr>\n",
       "    <tr>\n",
       "      <th>EXT_SOURCE_2</th>\n",
       "      <td>660.0</td>\n",
       "      <td>0.514393</td>\n",
       "      <td>0.191060</td>\n",
       "      <td>8.173617e-08</td>\n",
       "      <td>0.392457</td>\n",
       "      <td>0.565961</td>\n",
       "      <td>0.663617</td>\n",
       "      <td>8.549997e-01</td>\n",
       "      <td>0.215</td>\n",
       "    </tr>\n",
       "    <tr>\n",
       "      <th>EXT_SOURCE_3</th>\n",
       "      <td>60965.0</td>\n",
       "      <td>0.510853</td>\n",
       "      <td>0.194844</td>\n",
       "      <td>5.272652e-04</td>\n",
       "      <td>0.370650</td>\n",
       "      <td>0.535276</td>\n",
       "      <td>0.669057</td>\n",
       "      <td>8.960095e-01</td>\n",
       "      <td>19.825</td>\n",
       "    </tr>\n",
       "  </tbody>\n",
       "</table>\n",
       "</div>"
      ],
      "text/plain": [
       "                               count           mean            std  \\\n",
       "AMT_INCOME_TOTAL                 0.0  168797.919297  237123.146279   \n",
       "AMT_CREDIT                       0.0  599025.999706  402490.776996   \n",
       "AMT_ANNUITY                     12.0   27108.573909   14493.737315   \n",
       "AMT_GOODS_PRICE                278.0  538396.207429  369446.460540   \n",
       "REGION_POPULATION_RELATIVE       0.0       0.020868       0.013831   \n",
       "DAYS_EMPLOYED                    0.0    2385.169325    2117.381973   \n",
       "DAYS_REGISTRATION                0.0    4987.120328    3522.886321   \n",
       "OWN_CAR_AGE                 202929.0      12.061091      11.944812   \n",
       "EXT_SOURCE_1                173378.0       0.502130       0.211062   \n",
       "EXT_SOURCE_2                   660.0       0.514393       0.191060   \n",
       "EXT_SOURCE_3                 60965.0       0.510853       0.194844   \n",
       "\n",
       "                                     min            25%            50%  \\\n",
       "AMT_INCOME_TOTAL            2.565000e+04  112500.000000  147150.000000   \n",
       "AMT_CREDIT                  4.500000e+04  270000.000000  513531.000000   \n",
       "AMT_ANNUITY                 1.615500e+03   16524.000000   24903.000000   \n",
       "AMT_GOODS_PRICE             4.050000e+04  238500.000000  450000.000000   \n",
       "REGION_POPULATION_RELATIVE  2.900000e-04       0.010006       0.018850   \n",
       "DAYS_EMPLOYED               1.000000e+00     934.000000    2220.000000   \n",
       "DAYS_REGISTRATION           1.000000e+00    2011.000000    4505.000000   \n",
       "OWN_CAR_AGE                 0.000000e+00       5.000000       9.000000   \n",
       "EXT_SOURCE_1                1.456813e-02       0.334007       0.505998   \n",
       "EXT_SOURCE_2                8.173617e-08       0.392457       0.565961   \n",
       "EXT_SOURCE_3                5.272652e-04       0.370650       0.535276   \n",
       "\n",
       "                                      75%           max  missing  \n",
       "AMT_INCOME_TOTAL            202500.000000  1.170000e+08    0.000  \n",
       "AMT_CREDIT                  808650.000000  4.050000e+06    0.000  \n",
       "AMT_ANNUITY                  34596.000000  2.580255e+05    0.004  \n",
       "AMT_GOODS_PRICE             679500.000000  4.050000e+06    0.090  \n",
       "REGION_POPULATION_RELATIVE       0.028663  7.250800e-02    0.000  \n",
       "DAYS_EMPLOYED                 2761.000000  1.791300e+04    0.000  \n",
       "DAYS_REGISTRATION             7480.500000  2.467300e+04    0.000  \n",
       "OWN_CAR_AGE                     15.000000  9.100000e+01   65.991  \n",
       "EXT_SOURCE_1                     0.675053  9.626928e-01   56.381  \n",
       "EXT_SOURCE_2                     0.663617  8.549997e-01    0.215  \n",
       "EXT_SOURCE_3                     0.669057  8.960095e-01   19.825  "
      ]
     },
     "metadata": {},
     "output_type": "display_data"
    },
    {
     "name": "stdout",
     "output_type": "stream",
     "text": [
      "68\n"
     ]
    }
   ],
   "source": [
    "# appli_tr.describe() # 106 columns, hard to follow\n",
    "test = appli_tr.describe(include=float).transpose()\n",
    "# test['missing'] = (test['count'] / appli_tr.shape[0] * 100).transform(round) # transform(round(3)) raises an error\n",
    "test['missing'] = ((1-test['count'] / appli_tr.shape[0]) * 100).transform(lambda x: x.round(3))\n",
    "test['count'] = appli_tr.shape[0] - test['count']\n",
    "\n",
    "display(test[:11])\n",
    "# display(test[-15:])\n",
    "print(test.shape[0])"
   ]
  },
  {
   "cell_type": "markdown",
   "id": "c15952b5",
   "metadata": {},
   "source": [
    "OWN_CAR_AGE, EXT_SOURCE_1, have more than half values NaNs. EXT_SOURCE_3 has 20% NaNs."
   ]
  },
  {
   "cell_type": "code",
   "execution_count": 87,
   "id": "8d3fb40e",
   "metadata": {
    "scrolled": true
   },
   "outputs": [
    {
     "data": {
      "text/plain": [
       "<AxesSubplot:>"
      ]
     },
     "execution_count": 87,
     "metadata": {},
     "output_type": "execute_result"
    },
    {
     "data": {
      "image/png": "[encoded data removed]",
      "text/plain": [
       "<Figure size 432x288 with 1 Axes>"
      ]
     },
     "metadata": {
      "needs_background": "light"
     },
     "output_type": "display_data"
    }
   ],
   "source": [
    "# appli_tr.AMT_INCOME_TOTAL.hist(bins=99) # exponential distribution\n",
    "# appli_tr.AMT_ANNUITY.hist(bins=99) # exponential distribution\n",
    "# appli_tr.AMT_CREDIT.hist(bins=99) # biased distribution \n",
    "# np.log(appli_tr.AMT_CREDIT).hist(bins=99) # not a normal distribution, but less skewed, almost symmetric \n",
    "# appli_tr.AMT_GOODS_PRICE.hist(bins=20) # biased distribution\n",
    "np.log(appli_tr.AMT_GOODS_PRICE).hist(bins=99) # not a normal distribution, but less skewed, almost symmetric \n",
    "# appli_tr.REGION_POPULATION_RELATIVE.hist(bins=20) # biased distribution\n",
    "# appli_tr.OWN_CAR_AGE.hist(bins=20) # strongly skewed, biased distribution.\n"
   ]
  },
  {
   "cell_type": "markdown",
   "id": "2637dd3c",
   "metadata": {},
   "source": [
    "__HOW TO USE THE GRAPHIC CELLS: IF YOU WANT TO SEE CERTAIN GRAPHIC? UNCOMMENT THE WHOLE CELL.__"
   ]
  },
  {
   "cell_type": "code",
   "execution_count": 81,
   "id": "cf95d3fb",
   "metadata": {
    "scrolled": false
   },
   "outputs": [
    {
     "data": {
      "text/plain": [
       "<seaborn.axisgrid.FacetGrid at 0x28fa69da7c0>"
      ]
     },
     "execution_count": 81,
     "metadata": {},
     "output_type": "execute_result"
    },
    {
     "data": {
      "image/png": "[encoded data removed]",
      "text/plain": [
       "<Figure size 435.875x360 with 1 Axes>"
      ]
     },
     "metadata": {
      "needs_background": "light"
     },
     "output_type": "display_data"
    }
   ],
   "source": [
    "# sns.displot({'target 0': appli_ok.AMT_CREDIT / appli_ok.AMT_INCOME_TOTAL,\n",
    "#     'target 1': appli_fail.AMT_CREDIT / appli_fail.AMT_INCOME_TOTAL},\n",
    "#     kind='kde', common_norm=False) \n",
    "\n",
    "# # graphs go aligned, very skewed graph. Logarithmization is needed"
   ]
  },
  {
   "cell_type": "code",
   "execution_count": 82,
   "id": "2fbaffcc",
   "metadata": {
    "scrolled": false
   },
   "outputs": [],
   "source": [
    "appli_tr['AMT_INCOME_TOTAL'] = np.log(appli_tr.AMT_INCOME_TOTAL)\n",
    "appli_tr['AMT_CREDIT'] = np.log(appli_tr.AMT_CREDIT)\n",
    "\n",
    "appli_tr['AMT_ANNUITY'] = np.log(appli_tr.AMT_ANNUITY)\n",
    "appli_tr['AMT_GOODS_PRICE'] = np.log(appli_tr.AMT_GOODS_PRICE)\n"
   ]
  },
  {
   "cell_type": "code",
   "execution_count": 105,
   "id": "fbaf7f44",
   "metadata": {},
   "outputs": [
    {
     "data": {
      "text/plain": [
       "<AxesSubplot:xlabel='AMT_GOODS_PRICE', ylabel='Density'>"
      ]
     },
     "execution_count": 105,
     "metadata": {},
     "output_type": "execute_result"
    },
    {
     "data": {
      "image/png": "[encoded data removed]",
      "text/plain": [
       "<Figure size 720x360 with 1 Axes>"
      ]
     },
     "metadata": {
      "needs_background": "light"
     },
     "output_type": "display_data"
    }
   ],
   "source": [
    "fig, ax = plt.subplots(figsize=(10, 5))\n",
    "\n",
    "# sns.kdeplot(ax=ax, data=appli_tr, x='AMT_INCOME_TOTAL', hue='TARGET', common_norm=False)\n",
    "# # no difference, just the sharpness\n",
    "\n",
    "# sns.kdeplot(ax=ax, data=appli_tr, x='AMT_CREDIT', hue='TARGET', common_norm=False)\n",
    "# # certainly different curves. more fails between 12.5 and 13.5\n",
    "\n",
    "# sns.kdeplot(ax=ax, data=appli_tr, x='AMT_ANNUITY', hue='TARGET', common_norm=False)\n",
    "# # slightly different curves. more fails between 10 and 10.5\n",
    "\n",
    "sns.kdeplot(ax=ax, data=appli_tr, x='AMT_GOODS_PRICE', hue='TARGET', common_norm=False)\n",
    "# certainly different curves. more fails around 13\n"
   ]
  },
  {
   "cell_type": "code",
   "execution_count": 107,
   "id": "58c5e315",
   "metadata": {
    "scrolled": false
   },
   "outputs": [
    {
     "data": {
      "text/plain": [
       "<seaborn.axisgrid.FacetGrid at 0x28f83b71640>"
      ]
     },
     "execution_count": 107,
     "metadata": {},
     "output_type": "execute_result"
    },
    {
     "data": {
      "image/png": "[encoded data removed]",
      "text/plain": [
       "<Figure size 435.875x360 with 1 Axes>"
      ]
     },
     "metadata": {
      "needs_background": "light"
     },
     "output_type": "display_data"
    }
   ],
   "source": [
    "appli_ok = appli_tr[appli_tr.TARGET== 0]\n",
    "appli_fail = appli_tr[appli_tr.TARGET== 1]\n",
    "\n",
    "# sns.displot({'target 0': appli_ok.AMT_INCOME_TOTAL / appli_ok.AMT_CREDIT,\n",
    "#     'target 1': appli_fail.AMT_INCOME_TOTAL / appli_fail.AMT_CREDIT},\n",
    "#     kind='kde', common_norm=False)\n",
    "\n",
    "# # graphics go aligned except the region 0.8-0.9.\n",
    "\n",
    "# sns.displot({'target 0': appli_ok.AMT_INCOME_TOTAL / appli_ok.AMT_ANNUITY,\n",
    "#     'target 1': appli_fail.AMT_INCOME_TOTAL / appli_fail.AMT_ANNUITY},\n",
    "#     kind='kde', common_norm=False)\n",
    "\n",
    "\n",
    "# # # graphics go aligned except the region 0.8-0.9. overall, there is no difference"
   ]
  },
  {
   "cell_type": "code",
   "execution_count": 102,
   "id": "a85c9082",
   "metadata": {
    "scrolled": false
   },
   "outputs": [],
   "source": [
    "appli_ok = appli_tr[appli_tr.TARGET== 0]\n",
    "appli_fail = appli_tr[appli_tr.TARGET== 1]\n",
    "\n",
    "# sns.displot({'target 0': appli_ok.AMT_CREDIT / appli_ok.AMT_INCOME_TOTAL,\n",
    "#     'target 1': appli_fail.AMT_CREDIT / appli_fail.AMT_INCOME_TOTAL},\n",
    "#     kind='kde', common_norm=False)\n",
    "\n",
    "# # graphics go aligned except the region 1.0-1.2\n",
    "\n",
    "# sns.displot({'target 0': appli_ok.AMT_ANNUITY / appli_ok.AMT_INCOME_TOTAL,\n",
    "#     'target 1': appli_fail.AMT_ANNUITY / appli_fail.AMT_INCOME_TOTAL},\n",
    "#     kind='kde', common_norm=False)\n",
    "\n",
    "\n",
    "# # graphics go aligned except the region 0.8-0.9. overall, the difference is tiny"
   ]
  },
  {
   "cell_type": "code",
   "execution_count": 97,
   "id": "3048bd12",
   "metadata": {
    "scrolled": false
   },
   "outputs": [
    {
     "data": {
      "text/plain": [
       "<seaborn.axisgrid.FacetGrid at 0x28f86be9550>"
      ]
     },
     "execution_count": 97,
     "metadata": {},
     "output_type": "execute_result"
    },
    {
     "data": {
      "image/png": "[encoded data removed]",
      "text/plain": [
       "<Figure size 435.875x360 with 1 Axes>"
      ]
     },
     "metadata": {
      "needs_background": "light"
     },
     "output_type": "display_data"
    }
   ],
   "source": [
    "appli_ok = appli_tr[appli_tr.TARGET== 0]\n",
    "appli_fail = appli_tr[appli_tr.TARGET== 1]\n",
    "\n",
    "# # # the shapes of the graphs for 0 and for 1 are quite similar, just the value fluctuations are not so sharp.\n",
    "# sns.displot({'target 0': appli_ok.AMT_INCOME_TOTAL / appli_ok.CNT_FAM_MEMBERS,\n",
    "#     'target 1': appli_fail.AMT_INCOME_TOTAL / appli_fail.CNT_FAM_MEMBERS},\n",
    "#     kind='kde', common_norm=False, bw_adjust=1.5)\n",
    "\n",
    "# # with the variable 'children' it's more complicated, because one should divide by zero and take a log of zero\n",
    "# # seaborn still does it though. but I guess the graphs are not precise\n",
    "\n",
    "# # # # the shapes of the graphs for 0 and for 1 are quite similar, just the value fluctuations are not so sharp.\n",
    "# sns.displot({'target 0': appli_ok.AMT_INCOME_TOTAL / (appli_ok.CNT_CHILDREN+1),\n",
    "#     'target 1': appli_fail.AMT_INCOME_TOTAL / (appli_fail.CNT_CHILDREN+1)},\n",
    "#     kind='kde', common_norm=False, bw_adjust=1.5)"
   ]
  },
  {
   "cell_type": "code",
   "execution_count": 104,
   "id": "2cb98545",
   "metadata": {
    "scrolled": true
   },
   "outputs": [
    {
     "data": {
      "text/plain": [
       "<seaborn.axisgrid.FacetGrid at 0x28f878127c0>"
      ]
     },
     "execution_count": 104,
     "metadata": {},
     "output_type": "execute_result"
    },
    {
     "data": {
      "image/png": "[encoded data removed]",
      "text/plain": [
       "<Figure size 435.875x360 with 1 Axes>"
      ]
     },
     "metadata": {
      "needs_background": "light"
     },
     "output_type": "display_data"
    }
   ],
   "source": [
    "# sns.displot({'target 0': (appli_ok.AMT_ANNUITY / appli_ok.AMT_CREDIT),\n",
    "#     'target 1': appli_fail.AMT_ANNUITY / appli_fail.AMT_CREDIT},\n",
    "#     kind='kde', common_norm=False)\n",
    "\n",
    "# # # the graphs are different, but less different than the source variables"
   ]
  },
  {
   "cell_type": "code",
   "execution_count": 106,
   "id": "9943a067",
   "metadata": {
    "scrolled": false
   },
   "outputs": [
    {
     "data": {
      "text/plain": [
       "<seaborn.axisgrid.FacetGrid at 0x28fa6a7e490>"
      ]
     },
     "execution_count": 106,
     "metadata": {},
     "output_type": "execute_result"
    },
    {
     "data": {
      "image/png": "[encoded data removed]",
      "text/plain": [
       "<Figure size 435.875x360 with 1 Axes>"
      ]
     },
     "metadata": {
      "needs_background": "light"
     },
     "output_type": "display_data"
    }
   ],
   "source": [
    "sns.displot({'target 0': (appli_ok.AMT_CREDIT / appli_ok.AMT_ANNUITY),\n",
    "    'target 1': appli_fail.AMT_CREDIT / appli_fail.AMT_ANNUITY},\n",
    "    kind='kde', common_norm=False)\n",
    "\n",
    "# here we see quite a good tendency: target 1 is higher at 1.2-1.3, tarket 0 is higher at 1.3-1.4"
   ]
  },
  {
   "cell_type": "markdown",
   "id": "54b10ca2",
   "metadata": {},
   "source": [
    "Below is the list of external source kernel variables, feature engineering.\n",
    "\n",
    "Only the last feature from the offered external source kernel looks promising - I see some differences on histograms."
   ]
  },
  {
   "cell_type": "code",
   "execution_count": null,
   "id": "9e0b2027",
   "metadata": {},
   "outputs": [],
   "source": [
    "# appli_tr['INCOME_CREDIT_PERC'] = appli_tr['AMT_INCOME_TOTAL'] / appli_tr['AMT_CREDIT'] # doesn't seem a good feature according kde plots.\n",
    "# appli_tr['INCOME_PER_PERSON'] = appli_tr['AMT_INCOME_TOTAL'] / appli_tr['CNT_FAM_MEMBERS'] # not a good feature according kde plots.\n",
    "# appli_tr['ANNUITY_INCOME_PERC'] = appli_tr['AMT_ANNUITY'] / appli_tr['AMT_INCOME_TOTAL'] # the difference is only because of the difference in the annuities\n",
    "# appli_tr['PAYMENT_RATE'] = appli_tr['AMT_ANNUITY'] / appli_tr['AMT_CREDIT'] # rather good feature, but the inverse is better, AMT_CREDIT / AMT_ANNUITY\n",
    "# better to inverse it and call 'the credit duration'"
   ]
  },
  {
   "cell_type": "code",
   "execution_count": null,
   "id": "ced4ae9d",
   "metadata": {},
   "outputs": [],
   "source": [
    "appli_tr['AMT_ANNUITY'] = appli_tr.AMT_ANNUITY.fillna(appli_tr.AMT_ANNUITY.median())\n",
    "appli_tr['AMT_GOODS_PRICE'] = appli_tr.AMT_GOODS_PRICE.fillna(appli_tr.AMT_GOODS_PRICE.median())\n",
    "\n",
    "print(appli_tr[appli_tr.DAYS_REGISTRATION != appli_tr.DAYS_REGISTRATION.transform(int)]['DAYS_REGISTRATION'])\n",
    "appli_tr['DAYS_REGISTRATION'] = appli_tr.DAYS_REGISTRATION.transform('int64')"
   ]
  },
  {
   "cell_type": "code",
   "execution_count": null,
   "id": "ea6db590",
   "metadata": {
    "scrolled": false
   },
   "outputs": [],
   "source": [
    "appli_tr['PAYMENT_RATE'] = appli_tr['AMT_ANNUITY'] / appli_tr['AMT_CREDIT']\n",
    "appli_tr['CREDIT TERM'] = appli_tr['AMT_CREDIT'] / appli_tr['AMT_ANNUITY']\n",
    "# appli_tr['CNT_ADULTS'] = appli_tr.CNT_FAM_MEMBERS - appli_tr.CNT_CHILDREN"
   ]
  },
  {
   "cell_type": "markdown",
   "id": "eef64477",
   "metadata": {},
   "source": [
    "I stopped here."
   ]
  },
  {
   "cell_type": "code",
   "execution_count": 109,
   "id": "54baac1d",
   "metadata": {
    "scrolled": true
   },
   "outputs": [
    {
     "data": {
      "text/plain": [
       "<AxesSubplot:xlabel='OWN_CAR_AGE', ylabel='Density'>"
      ]
     },
     "execution_count": 109,
     "metadata": {},
     "output_type": "execute_result"
    },
    {
     "data": {
      "image/png": "[encoded data removed]",
      "text/plain": [
       "<Figure size 720x360 with 1 Axes>"
      ]
     },
     "metadata": {
      "needs_background": "light"
     },
     "output_type": "display_data"
    }
   ],
   "source": [
    "fig, ax = plt.subplots(figsize=(10, 5))\n",
    "sns.kdeplot(ax=ax, data=appli_tr, x='OWN_CAR_AGE', hue='TARGET', common_norm=False)\n",
    "# in general the age of the target1 curve is higher than that of target 0 curve"
   ]
  },
  {
   "cell_type": "markdown",
   "id": "a4baf079",
   "metadata": {},
   "source": [
    "### Variables 'external source', how to impute"
   ]
  },
  {
   "cell_type": "code",
   "execution_count": null,
   "id": "cde39d3a",
   "metadata": {},
   "outputs": [],
   "source": [
    "# How many are failers\n",
    "print(appli_tr.TARGET.mean() * 100)\n",
    "print()\n",
    "# Given that the EXT_SOURCE is filled or NaN what is the chance to find a failer\n",
    "print(appli_tr[appli_tr.EXT_SOURCE_1.notna()].TARGET.mean() * 100)\n",
    "print(appli_tr[appli_tr.EXT_SOURCE_1.isna()].TARGET.mean() * 100)\n",
    "print()\n",
    "print(appli_tr[appli_tr.EXT_SOURCE_2.notna()].TARGET.mean() * 100)\n",
    "print(appli_tr[appli_tr.EXT_SOURCE_2.isna()].TARGET.mean() * 100)\n",
    "print()\n",
    "print(appli_tr[appli_tr.EXT_SOURCE_3.notna()].TARGET.mean() * 100)\n",
    "print(appli_tr[appli_tr.EXT_SOURCE_3.isna()].TARGET.mean() * 100)"
   ]
  },
  {
   "cell_type": "markdown",
   "id": "9ab469d5",
   "metadata": {},
   "source": [
    "There is some difference in failure rating between the clients with known values and NaNs, but not large one.\n",
    "Lack of source1 increase the fail risk 1.13 times, lack of source 2 decreases the fail risk 0.97 times, lack of source 3 increases the risk 1.19 times.\n",
    "\n",
    "What is the proportion of NaN for the failers and for the ok clients?"
   ]
  },
  {
   "cell_type": "code",
   "execution_count": null,
   "id": "40b1ab17",
   "metadata": {},
   "outputs": [],
   "source": [
    "# test= appli_tr.EXT_SOURCE_1.mode()\n",
    "# appli_tr.EXT_SOURCE_1.mode()[len(appli_tr.EXT_SOURCE_1.mode()) // 2]\n",
    "\n",
    "print(appli_tr.EXT_SOURCE_1.mode()[len(appli_tr.EXT_SOURCE_1.mode()) // 2])\n",
    "print(appli_tr.EXT_SOURCE_1.median() * 100)\n",
    "print(appli_tr.EXT_SOURCE_1.mean() * 100)\n",
    "print()\n",
    "print(appli_ok.EXT_SOURCE_1.mode()[len(appli_ok.EXT_SOURCE_1.mode()) // 2])\n",
    "print(appli_ok.EXT_SOURCE_1.median() * 100)\n",
    "print(appli_ok.EXT_SOURCE_1.mean() * 100)\n",
    "print()\n",
    "print(appli_fail.EXT_SOURCE_1.mode()[len(appli_fail.EXT_SOURCE_1.mode()) // 2])\n",
    "print(appli_fail.EXT_SOURCE_1.median() * 100)\n",
    "print(appli_fail.EXT_SOURCE_1.mean() * 100)"
   ]
  },
  {
   "cell_type": "markdown",
   "id": "366a4736",
   "metadata": {},
   "source": [
    "For the missing values in the source 1 a compromise solution is to fill the missing values by mean, which is the closest to the median and the mean of failers. Same thing for source 2 and source 3 (see graphs below)."
   ]
  },
  {
   "cell_type": "code",
   "execution_count": null,
   "id": "f36f681b",
   "metadata": {},
   "outputs": [],
   "source": [
    "appli_tr['EXT_SOURCE_1'] = appli_tr.EXT_SOURCE_1.fillna(appli_tr.EXT_SOURCE_1.mean())"
   ]
  },
  {
   "cell_type": "code",
   "execution_count": null,
   "id": "5b2f3fe5",
   "metadata": {
    "scrolled": true
   },
   "outputs": [],
   "source": [
    "# test= appli_tr.EXT_SOURCE_2.mode()\n",
    "# appli_tr.EXT_SOURCE_2.mode()[len(appli_tr.EXT_SOURCE_2.mode()) // 2]\n",
    "\n",
    "print(appli_tr.EXT_SOURCE_2.mode()[len(appli_tr.EXT_SOURCE_2.mode()) // 2])\n",
    "print(appli_tr.EXT_SOURCE_2.median() * 100)\n",
    "print(appli_tr.EXT_SOURCE_2.mean() * 100)\n",
    "print()\n",
    "print(appli_ok.EXT_SOURCE_2.mode()[len(appli_ok.EXT_SOURCE_2.mode()) // 2])\n",
    "print(appli_ok.EXT_SOURCE_2.median() * 100)\n",
    "print(appli_ok.EXT_SOURCE_2.mean() * 100)\n",
    "print()\n",
    "print(appli_fail.EXT_SOURCE_2.mode()[len(appli_fail.EXT_SOURCE_2.mode()) // 2])\n",
    "print(appli_fail.EXT_SOURCE_2.median() * 100)\n",
    "print(appli_fail.EXT_SOURCE_2.mean() * 100)"
   ]
  },
  {
   "cell_type": "code",
   "execution_count": null,
   "id": "8c92d2dc",
   "metadata": {
    "scrolled": true
   },
   "outputs": [],
   "source": [
    "appli_tr.EXT_SOURCE_2.mode()"
   ]
  },
  {
   "cell_type": "code",
   "execution_count": null,
   "id": "1e8bac98",
   "metadata": {
    "scrolled": true
   },
   "outputs": [],
   "source": [
    "appli_tr.EXT_SOURCE_2.hist(bins=50)"
   ]
  },
  {
   "cell_type": "code",
   "execution_count": null,
   "id": "f23d505c",
   "metadata": {},
   "outputs": [],
   "source": [
    "appli_tr['EXT_SOURCE_2'] = appli_tr.EXT_SOURCE_2.fillna(appli_tr.EXT_SOURCE_2.mode()[len(appli_tr.EXT_SOURCE_2.mode()) // 2])"
   ]
  },
  {
   "cell_type": "code",
   "execution_count": null,
   "id": "b2fdacd6",
   "metadata": {
    "scrolled": true
   },
   "outputs": [],
   "source": [
    "# test= appli_tr.EXT_SOURCE_3.mode()\n",
    "# appli_tr.EXT_SOURCE_3.mode()[len(appli_tr.EXT_SOURCE_3.mode()) // 2]\n",
    "\n",
    "print(appli_tr.EXT_SOURCE_3.mode()[len(appli_tr.EXT_SOURCE_3.mode()) // 2])\n",
    "print(appli_tr.EXT_SOURCE_3.median() * 100)\n",
    "print(appli_tr.EXT_SOURCE_3.mean() * 100)\n",
    "print()\n",
    "print(appli_ok.EXT_SOURCE_3.mode()[len(appli_ok.EXT_SOURCE_3.mode()) // 2])\n",
    "print(appli_ok.EXT_SOURCE_3.median() * 100)\n",
    "print(appli_ok.EXT_SOURCE_3.mean() * 100)\n",
    "print()\n",
    "print(appli_fail.EXT_SOURCE_3.mode()[len(appli_fail.EXT_SOURCE_3.mode()) // 2])\n",
    "print(appli_fail.EXT_SOURCE_3.median() * 100)\n",
    "print(appli_fail.EXT_SOURCE_3.mean() * 100)"
   ]
  },
  {
   "cell_type": "code",
   "execution_count": null,
   "id": "d3c9bb34",
   "metadata": {
    "scrolled": false
   },
   "outputs": [],
   "source": [
    "appli_tr.EXT_SOURCE_3.mode()"
   ]
  },
  {
   "cell_type": "code",
   "execution_count": null,
   "id": "fa6b3168",
   "metadata": {
    "scrolled": true
   },
   "outputs": [],
   "source": [
    "appli_tr.EXT_SOURCE_3.hist(bins=50)"
   ]
  },
  {
   "cell_type": "code",
   "execution_count": null,
   "id": "0ada49d2",
   "metadata": {},
   "outputs": [],
   "source": [
    "appli_tr['EXT_SOURCE_3'] = appli_tr.EXT_SOURCE_3.fillna(appli_tr.EXT_SOURCE_3.mean())"
   ]
  },
  {
   "cell_type": "code",
   "execution_count": null,
   "id": "3658a710",
   "metadata": {
    "scrolled": true
   },
   "outputs": [],
   "source": [
    "display(appli_tr.TOTALAREA_MODE.hist(bins=50))\n",
    "print(appli_tr.TOTALAREA_MODE.min())\n",
    "print(appli_tr.TOTALAREA_MODE.max())"
   ]
  },
  {
   "cell_type": "code",
   "execution_count": null,
   "id": "1f4f0a9a",
   "metadata": {
    "scrolled": false
   },
   "outputs": [],
   "source": [
    "display(appli_tr.DAYS_LAST_PHONE_CHANGE.hist(bins=50))\n",
    "print(appli_tr.DAYS_LAST_PHONE_CHANGE.min())\n",
    "print(appli_tr.DAYS_LAST_PHONE_CHANGE.max())\n",
    "# for being able to apply the log scale:\n",
    "appli_tr['DAYS_LAST_PHONE_CHANGE'] = appli_tr.DAYS_LAST_PHONE_CHANGE.abs() + 1\n",
    "print(appli_tr.DAYS_LAST_PHONE_CHANGE.min())"
   ]
  },
  {
   "cell_type": "code",
   "execution_count": null,
   "id": "ddaf5a3e",
   "metadata": {
    "scrolled": true
   },
   "outputs": [],
   "source": [
    "# display(appli_tr[appli_tr.TARGET == 0].DAYS_LAST_PHONE_CHANGE.hist(bins=50))\n",
    "display(appli_tr[appli_tr.TARGET == 1].DAYS_LAST_PHONE_CHANGE.hist(bins=30))"
   ]
  },
  {
   "cell_type": "code",
   "execution_count": null,
   "id": "efc8cf9c",
   "metadata": {
    "scrolled": true
   },
   "outputs": [],
   "source": [
    "display(appli_tr[appli_tr.TARGET == 0].OBS_30_CNT_SOCIAL_CIRCLE.hist(bins=50))\n",
    "# display(appli_tr[appli_tr.TARGET == 1].OBS_30_CNT_SOCIAL_CIRCLE.hist(bins=30))"
   ]
  },
  {
   "cell_type": "code",
   "execution_count": null,
   "id": "d3588ea3",
   "metadata": {
    "scrolled": false
   },
   "outputs": [],
   "source": [
    "# display(appli_tr[appli_tr.TARGET == 0].AMT_REQ_CREDIT_BUREAU_YEAR.hist(bins=50))\n",
    "display(appli_tr[appli_tr.TARGET == 1].AMT_REQ_CREDIT_BUREAU_YEAR.hist(bins=50))"
   ]
  },
  {
   "cell_type": "code",
   "execution_count": null,
   "id": "e208113a",
   "metadata": {
    "scrolled": false
   },
   "outputs": [],
   "source": [
    "sns.displot(data=appli_tr, x='DAYS_LAST_PHONE_CHANGE', hue='TARGET', kind='kde', log_scale=True, common_norm=False)\n",
    "# sns.displot(data=appli_tr, x='TOTALAREA_MODE', hue='TARGET', kind='kde', common_norm=False)\n"
   ]
  },
  {
   "cell_type": "markdown",
   "id": "95fadef7",
   "metadata": {},
   "source": [
    "- AMT_INCOME_TOTAL: log scale needed. SURPRISINGLY NO DIFFERENCE. delete this variable? no\n",
    "- AMT_CREDIT: log scale needed. different curves: more fails for mid-sized credits\n",
    "- AMT_ANNUITY: somewhat hire annuities increase the odds to fail, but these differences are minor. delete this variable?\n",
    "- AMT_GOODS_PRICE: log scale not required, but is better to reveal the tendency. there is a difference: people who take credits on goods of small sums have higher odds to fail. people who take high amounts, have higher odds to ok.\n",
    "- REGION_POPULATION_RELATIVE: higher odds of ok for more populated areas\n",
    "- DAYS_REGISTRATION : shorter registration - higher odds of fail. Minor difference, DELETE? yes\n",
    "- OWN_CAR_AGE : non-linear but important dependence, see the graph\n",
    "- DAYS_REGISTRATION: shorter registration - higher risk to fail\n",
    "- CNT_FAM_MEMBERS: don't see the difference on the graph, but I saw linear correlation up to 8 members at flags exploring.\n",
    "- EXT_SOURCE_1: LARGE DIFFERENCE! but a lot of missing numbers: 56% values are NANs.\n",
    "- EXT_SOURCE_2: LARGE DIFFERENCE! and it's almost fully filled: only 660 values are missing.\n",
    "- EXT_SOURCE_3: LARGE DIFFERENCE! but a lot of missing numbers: 20% values are NANs.  \n",
    "...  \n",
    "...\n",
    "- TOTALAREA_MODE: somewhat smaller totalarea means higher odds of fail. the differences seem minor though.\n",
    "- OBS_30_CNT_SOCIAL_CIRCLE and 60: angular plot, fail peak is much higher than ok peak. but when transform to log, the difference is less pronounced.\n",
    "- DEF_30_CNT_SOCIAL_CIRCLE and 60: there is no difference on kde plot, but distributins on histogramms look quite different.\n",
    "- DAYS_LAST_PHONE_CHANGE: there is somwhat dependance, but not linear. Negative values (negtive count of days), but some values are positive. does it mean that the client knows he is going to change a phone number soon?\n",
    "- no difference. delete?\n",
    "- AMT_REQ_CREDIT_BUREAU_HOUR, DAY, WEEK, MON: there is some diffrernce on kde plot, but not interesting. delete this variable?\n",
    "- AMT_REQ_CREDIT_BUREAU_QRT: LARGE DIFFRERENCE! the graph is angular, but the fail peak at 0 is much higher than the\n",
    "- AMT_REQ_CREDIT_BUREAU_YEAR: no difference again: kde graph is wiggly, the gistograms show similar distribution."
   ]
  },
  {
   "cell_type": "markdown",
   "id": "5c2898e2",
   "metadata": {},
   "source": [
    "For OBS_SOCIAL_CIRCLE, DEF_SOCIAL_CIRCLE, AMT_REQ_CREDIT_BUREAU_HOUR and DAY the distribution is similar except that for 0 target there are few high values, while for target 1 there are not. This is most probably due to higher total number of applications with target 0, just by normal probability distribution it has a longer tail trailing."
   ]
  },
  {
   "cell_type": "code",
   "execution_count": null,
   "id": "41acdd61",
   "metadata": {},
   "outputs": [],
   "source": [
    "print(appli_tr[appli_tr.OBS_30_CNT_SOCIAL_CIRCLE != appli_tr.OBS_60_CNT_SOCIAL_CIRCLE].shape) # 6000 out of 307,500. 2%\n",
    "print(appli_tr[appli_tr.DEF_30_CNT_SOCIAL_CIRCLE != appli_tr.DEF_60_CNT_SOCIAL_CIRCLE].shape) # 13000 out of 307,500. 4%\n",
    "\n",
    "# appli_tr = appli_tr.drop(['OBS_60_CNT_SOCIAL_CIRCLE', 'DEF_60_CNT_SOCIAL_CIRCLE'])\n",
    "# well maybe no. maybe exactly this information is crucial."
   ]
  },
  {
   "cell_type": "code",
   "execution_count": null,
   "id": "55239c5b",
   "metadata": {},
   "outputs": [],
   "source": [
    "appli_tr = appli_tr.drop(['AMT_REQ_CREDIT_BUREAU_HOUR', 'AMT_REQ_CREDIT_BUREAU_DAY',\n",
    "                         'AMT_REQ_CREDIT_BUREAU_WEEK', 'AMT_REQ_CREDIT_BUREAU_MON'], axis=1)\n"
   ]
  },
  {
   "cell_type": "code",
   "execution_count": null,
   "id": "55f2423c",
   "metadata": {
    "scrolled": false
   },
   "outputs": [],
   "source": [
    "# sns.displot(data=appli_tr, x='AMT_INCOME_TOTAL', hue='TARGET', kind='kde', common_norm=False, bw_adjust=1.5)\n",
    "# sns.displot(data=appli_tr, x='AMT_CREDIT', hue='TARGET', log_scale=True, kind='kde', common_norm=False, bw_adjust=1.5)\n",
    "# sns.displot(data=appli_tr, x='AMT_ANNUITY', hue='TARGET', kind='kde', log_scale=True, common_norm=False)#, bw_adjust=1.5)\n",
    "sns.displot(data=appli_tr, x='AMT_GOODS_PRICE', hue='TARGET', kind='kde', common_norm=False, bw_adjust=1.5)\n",
    "# sns.displot(data=appli_tr, x='REGION_POPULATION_RELATIVE', hue='TARGET', kind='kde', common_norm=False)\n",
    "# sns.displot(data=appli_tr, x='DAYS_REGISTRATION', hue='TARGET', kind='kde', common_norm=False)\n",
    "sns.displot(data=appli_tr, x='OWN_CAR_AGE', hue='TARGET', kind='kde', common_norm=False)\n",
    "# sns.displot(data=appli_tr, x='CNT_FAM_MEMBERS', hue='TARGET', kind='kde', common_norm=False)\n",
    "# sns.displot(data=appli_tr, x='EXT_SOURCE_1', hue='TARGET', kind='kde', common_norm=False)\n",
    "# sns.displot(data=appli_tr, x='EXT_SOURCE_2', hue='TARGET', kind='kde', common_norm=False)\n",
    "# sns.displot(data=appli_tr, x='EXT_SOURCE_3', hue='TARGET', kind='kde', common_norm=False)\n",
    "\n",
    "# sns.displot(data=appli_tr, x='TOTALAREA_MODE', hue='TARGET', kind='kde', common_norm=False)\n",
    "# sns.displot(data=appli_tr, x='OBS_30_CNT_SOCIAL_CIRCLE', hue='TARGET', kind='kde', common_norm=False)\n",
    "# sns.displot(data=appli_tr, x='OBS_60_CNT_SOCIAL_CIRCLE', hue='TARGET', kind='kde', common_norm=False)\n",
    "# sns.displot(data=appli_tr, x='DAYS_LAST_PHONE_CHANGE', hue='TARGET', kind='kde', log_scale=True, common_norm=False)\n",
    "# sns.displot(data=appli_tr, x='AMT_REQ_CREDIT_BUREAU_QRT', hue='TARGET', kind='kde', common_norm=False, bw_adjust=1.9)\n",
    "# sns.displot(data=appli_tr, x='AMT_REQ_CREDIT_BUREAU_YEAR', hue='TARGET', kind='kde', common_norm=False, bw_adjust=1.9)\n"
   ]
  },
  {
   "cell_type": "code",
   "execution_count": null,
   "id": "690bcc42",
   "metadata": {},
   "outputs": [],
   "source": [
    "appli_tr.OWN_CAR_AGE.mode()"
   ]
  },
  {
   "cell_type": "code",
   "execution_count": null,
   "id": "a2edd9c7",
   "metadata": {},
   "outputs": [],
   "source": [
    "appli_tr['AMT_GOODS_PRICE'] = appli_tr.AMT_GOODS_PRICE.fillna(appli_tr.AMT_GOODS_PRICE.median())\n",
    "appli_tr['OWN_CAR_AGE'] = appli_tr.OWN_CAR_AGE.fillna(appli_tr.OWN_CAR_AGE.median())\n",
    "appli_tr['TOTALAREA_MODE'] = appli_tr.TOTALAREA_MODE.fillna(appli_tr.TOTALAREA_MODE.median())\n",
    "appli_tr['DAYS_LAST_PHONE_CHANGE'] = appli_tr.DAYS_LAST_PHONE_CHANGE.fillna(appli_tr.DAYS_LAST_PHONE_CHANGE.median())\n",
    "appli_tr['AMT_REQ_CREDIT_BUREAU_QRT'] = appli_tr.AMT_REQ_CREDIT_BUREAU_QRT.fillna(appli_tr.AMT_REQ_CREDIT_BUREAU_QRT.median())"
   ]
  },
  {
   "cell_type": "markdown",
   "id": "abaa7d71",
   "metadata": {},
   "source": [
    "### Float variables describing client's dwelling "
   ]
  },
  {
   "cell_type": "code",
   "execution_count": null,
   "id": "251a7b5c",
   "metadata": {
    "scrolled": true
   },
   "outputs": [],
   "source": [
    "# float_cols = appli_tr.select_dtypes(include=float).columns # FLAG_DOCUMENT_1 doesn't exist, not in int, float or object\n",
    "# float_cols"
   ]
  },
  {
   "cell_type": "code",
   "execution_count": null,
   "id": "a6c80287",
   "metadata": {},
   "outputs": [],
   "source": [
    "len(['APARTMENTS_AVG', 'BASEMENTAREA_AVG', 'YEARS_BEGINEXPLUATATION_AVG',\n",
    "       'YEARS_BUILD_AVG', 'COMMONAREA_AVG', 'ELEVATORS_AVG', 'ENTRANCES_AVG',\n",
    "       'FLOORSMAX_AVG', 'FLOORSMIN_AVG', 'LANDAREA_AVG',\n",
    "       'LIVINGAPARTMENTS_AVG', 'LIVINGAREA_AVG', 'NONLIVINGAPARTMENTS_AVG',\n",
    "       'NONLIVINGAREA_AVG', 'APARTMENTS_MODE', 'BASEMENTAREA_MODE',\n",
    "       'YEARS_BEGINEXPLUATATION_MODE', 'YEARS_BUILD_MODE', 'COMMONAREA_MODE',\n",
    "       'ELEVATORS_MODE', 'ENTRANCES_MODE', 'FLOORSMAX_MODE', 'FLOORSMIN_MODE',\n",
    "       'LANDAREA_MODE', 'LIVINGAPARTMENTS_MODE', 'LIVINGAREA_MODE',\n",
    "       'NONLIVINGAPARTMENTS_MODE', 'NONLIVINGAREA_MODE', 'APARTMENTS_MEDI',\n",
    "       'BASEMENTAREA_MEDI', 'YEARS_BEGINEXPLUATATION_MEDI', 'YEARS_BUILD_MEDI',\n",
    "       'COMMONAREA_MEDI', 'ELEVATORS_MEDI', 'ENTRANCES_MEDI', 'FLOORSMAX_MEDI',\n",
    "       'FLOORSMIN_MEDI', 'LANDAREA_MEDI', 'LIVINGAPARTMENTS_MEDI',\n",
    "       'LIVINGAREA_MEDI', 'NONLIVINGAPARTMENTS_MEDI', 'NONLIVINGAREA_MEDI'])"
   ]
  },
  {
   "cell_type": "code",
   "execution_count": null,
   "id": "0bf85f03",
   "metadata": {},
   "outputs": [],
   "source": [
    "appli_tr = appli_tr.drop(['APARTMENTS_AVG', 'BASEMENTAREA_AVG', 'YEARS_BEGINEXPLUATATION_AVG',\n",
    "       'YEARS_BUILD_AVG', 'COMMONAREA_AVG', 'ELEVATORS_AVG', 'ENTRANCES_AVG',\n",
    "       'FLOORSMAX_AVG', 'FLOORSMIN_AVG', 'LANDAREA_AVG',\n",
    "       'LIVINGAPARTMENTS_AVG', 'LIVINGAREA_AVG', 'NONLIVINGAPARTMENTS_AVG',\n",
    "       'NONLIVINGAREA_AVG'], axis=1)\n"
   ]
  },
  {
   "cell_type": "code",
   "execution_count": null,
   "id": "2b5c7107",
   "metadata": {},
   "outputs": [],
   "source": [
    "appli_tr = appli_tr.drop(['APARTMENTS_MODE', 'BASEMENTAREA_MODE',\n",
    "       'YEARS_BEGINEXPLUATATION_MODE', 'YEARS_BUILD_MODE', 'COMMONAREA_MODE',\n",
    "       'ELEVATORS_MODE', 'ENTRANCES_MODE', 'FLOORSMAX_MODE', 'FLOORSMIN_MODE',\n",
    "       'LANDAREA_MODE', 'LIVINGAPARTMENTS_MODE', 'LIVINGAREA_MODE',\n",
    "       'NONLIVINGAPARTMENTS_MODE', 'NONLIVINGAREA_MODE'], axis=1)\n"
   ]
  },
  {
   "cell_type": "code",
   "execution_count": null,
   "id": "ee1d4dc0",
   "metadata": {},
   "outputs": [],
   "source": [
    "appli_tr = appli_tr.drop(['APARTMENTS_MEDI',\n",
    "       'BASEMENTAREA_MEDI', 'YEARS_BEGINEXPLUATATION_MEDI', 'YEARS_BUILD_MEDI',\n",
    "       'COMMONAREA_MEDI', 'ELEVATORS_MEDI', 'ENTRANCES_MEDI', 'FLOORSMAX_MEDI',\n",
    "       'FLOORSMIN_MEDI', 'LANDAREA_MEDI', 'LIVINGAPARTMENTS_MEDI',\n",
    "       'LIVINGAREA_MEDI', 'NONLIVINGAPARTMENTS_MEDI', 'NONLIVINGAREA_MEDI',\n",
    "                         \n",
    "                         'TOTALAREA_MODE'], axis=1)\n"
   ]
  },
  {
   "cell_type": "code",
   "execution_count": 61,
   "id": "349152ea",
   "metadata": {},
   "outputs": [],
   "source": [
    "# appli_tr = appli_tr.drop(['YEARS_EMPLOYED', 'YEARS_BIRTH'], axis=1)\n",
    "# appli_tr = appli_tr.drop(['CODE_GENDER', 'DAYS_BIRTH'], axis=1)\n",
    "# appli_tr = appli_tr.drop('DAYS_EMPLOYED', axis=1)\n",
    "# appli_tr = appli_tr.drop('HOUR_APPR_PROCESS_START', axis=1)\n",
    "# appli_tr = appli_tr.drop('CNT_CHILDREN', axis=1)"
   ]
  },
  {
   "cell_type": "code",
   "execution_count": null,
   "id": "eccc770b",
   "metadata": {
    "scrolled": false
   },
   "outputs": [],
   "source": [
    "# after the belowmentioned kind of test on all the following columns they were converted to int type:\n",
    "# appli_tr[appli_tr.OWN_CAR_AGE != appli_tr.OWN_CAR_AGE.transform(int)]['OWN_CAR_AGE']\n",
    "\n",
    "\n",
    "for col in ['CNT_FAM_MEMBERS', 'OWN_CAR_AGE', 'DAYS_LAST_PHONE_CHANGE',\n",
    "            'OBS_30_CNT_SOCIAL_CIRCLE', 'DEF_30_CNT_SOCIAL_CIRCLE',\n",
    "           'OBS_60_CNT_SOCIAL_CIRCLE', 'DEF_60_CNT_SOCIAL_CIRCLE',\n",
    "           'AMT_REQ_CREDIT_BUREAU_HOUR', 'AMT_REQ_CREDIT_BUREAU_DAY',\n",
    "           'AMT_REQ_CREDIT_BUREAU_WEEK', 'AMT_REQ_CREDIT_BUREAU_MON', \n",
    "            'AMT_REQ_CREDIT_BUREAU_QRT', 'AMT_REQ_CREDIT_BUREAU_YEAR']:\n",
    "    appli_tr[col] = appli_tr[col].fillna(appli_tr[col].median())#.astype(int)"
   ]
  },
  {
   "cell_type": "markdown",
   "id": "756823e0",
   "metadata": {},
   "source": [
    "# Conversion of some categorical features to numeric ones"
   ]
  },
  {
   "cell_type": "code",
   "execution_count": null,
   "id": "2c13a2e2",
   "metadata": {},
   "outputs": [],
   "source": [
    "selectcol = appli_tr.select_dtypes(include='object')\n",
    "selectcol_full = selectcol.fillna('unknown')\n",
    "selectcol_full['SK_ID_CURR'] = appli_tr['SK_ID_CURR']\n",
    "selectcol_full['TARGET'] = appli_tr['TARGET']\n",
    "\n",
    "# appli_tr['OCCUPATION_TYPE'] = category_to_fail_proportion(selectcol_full, 'OCCUPATION_TYPE')\n",
    "# appli_tr['ORGANIZATION_TYPE'] = category_to_fail_proportion(selectcol_full, 'ORGANIZATION_TYPE')\n",
    "\n",
    "appli_tr['NAME_TYPE_SUITE'] = category_to_fail_proportion(selectcol_full, 'NAME_TYPE_SUITE')\n",
    "appli_tr['NAME_HOUSING_TYPE'] = category_to_fail_proportion(selectcol_full, 'NAME_HOUSING_TYPE')\n",
    "appli_tr['FONDKAPREMONT_MODE'] = category_to_fail_proportion(selectcol_full, 'FONDKAPREMONT_MODE')\n",
    "appli_tr['HOUSETYPE_MODE'] = category_to_fail_proportion(selectcol_full, 'HOUSETYPE_MODE')\n",
    "appli_tr['WALLSMATERIAL_MODE'] = category_to_fail_proportion(selectcol_full, 'WALLSMATERIAL_MODE')\n",
    "\n",
    "appli_tr = appli_tr.drop(['NAME_TYPE_SUITE', 'NAME_HOUSING_TYPE', \n",
    "                          'OCCUPATION_TYPE', 'HOUSETYPE_MODE', \n",
    "                         'WALLSMATERIAL_MODE', 'NAME_HOUSING_TYPE'], axis=1)\n",
    "\n",
    "# EMERGENCYSTATE_MODE # has only 2 categories, no need to convert from cat to probability: that will not reduce the dimensionality."
   ]
  },
  {
   "cell_type": "code",
   "execution_count": null,
   "id": "c93fb71f",
   "metadata": {
    "scrolled": true
   },
   "outputs": [],
   "source": [
    "# appli_tr.NAME_TYPE_SUITE.value_counts()\n",
    "# appli_tr.OCCUPATION_TYPE.value_counts()\n",
    "# appli_tr.FONDKAPREMONT_MODE.value_counts()\n",
    "# appli_tr.HOUSETYPE_MODE.value_counts()\n",
    "# appli_tr.WALLSMATERIAL_MODE.value_counts()\n",
    "# appli_tr.EMERGENCYSTATE_MODE.value_counts()"
   ]
  },
  {
   "cell_type": "code",
   "execution_count": 61,
   "id": "6173a6d3",
   "metadata": {},
   "outputs": [],
   "source": [
    "# appli_tr = appli_tr.drop(['YEARS_EMPLOYED', 'YEARS_BIRTH'], axis=1)\n",
    "# appli_tr = appli_tr.drop(['CODE_GENDER', 'DAYS_BIRTH'], axis=1)\n",
    "# appli_tr = appli_tr.drop('DAYS_EMPLOYED', axis=1)\n",
    "# appli_tr = appli_tr.drop('HOUR_APPR_PROCESS_START', axis=1)\n",
    "# appli_tr = appli_tr.drop('CNT_CHILDREN', axis=1)"
   ]
  },
  {
   "cell_type": "markdown",
   "id": "ef99ecc1",
   "metadata": {},
   "source": [
    "## Tables \"Bureau\" and \"Bureau balance\""
   ]
  },
  {
   "cell_type": "code",
   "execution_count": null,
   "id": "63977a94",
   "metadata": {
    "scrolled": true
   },
   "outputs": [],
   "source": [
    "HomeCredit_columns_description.loc[HomeCredit_columns_description.Table == 'bureau_balance.csv', ['Row', 'Description']]\n",
    "# pd.reset_option('max_rows')"
   ]
  },
  {
   "cell_type": "code",
   "execution_count": null,
   "id": "fe973fa0",
   "metadata": {
    "scrolled": true
   },
   "outputs": [],
   "source": [
    "# bureau_balance = pd.read_csv(path_csvs + 'bureau_balance.csv', nrows=10_000)\n",
    "bureau_balance = pd.read_csv(path_csvs + 'bureau_balance.csv')\n",
    "bureau_balance.info()\n",
    "# bureau_balance.STATUS.value_counts(dropna=False) # no NaNs\n",
    "# bureau_balance.STATUS.isna().sum() # 0, no NaNs\n",
    "\n",
    "# how many empty cells, proportion\n",
    "for col in bureau_balance:\n",
    "    print(f'{col}: {bureau_balance[col].isna().sum()} empty cells,      {(bureau_balance[col].isna().mean() * 100).round(3)}% missing,      {bureau_balance[col].nunique()} unique values.')\n",
    "\n",
    "display(bureau_balance.MONTHS_BALANCE.hist(bins=20))\n",
    "\n",
    "bureau_balance.STATUS.value_counts()"
   ]
  },
  {
   "cell_type": "code",
   "execution_count": null,
   "id": "735a9401",
   "metadata": {
    "scrolled": false
   },
   "outputs": [],
   "source": [
    "HomeCredit_columns_description.loc[HomeCredit_columns_description.Table == 'bureau.csv', ['Row', 'Description']]\n",
    "# pd.reset_option('max_rows')"
   ]
  },
  {
   "cell_type": "code",
   "execution_count": null,
   "id": "0925129a",
   "metadata": {
    "scrolled": false
   },
   "outputs": [],
   "source": [
    "# bureau = pd.read_csv(path_csvs + 'bureau.csv', nrows=10_000)\n",
    "bureau = pd.read_csv(path_csvs + 'bureau.csv')\n",
    "bureau.info()\n",
    "\n",
    "# how many empty cells, proportion\n",
    "for col in bureau:\n",
    "    print(f'{col}: {bureau[col].isna().sum()} empty cells,      {(bureau[col].isna().mean() * 100).round(3)}% missing,      {bureau[col].nunique()} unique values.')"
   ]
  },
  {
   "cell_type": "code",
   "execution_count": null,
   "id": "145e89f0",
   "metadata": {},
   "outputs": [],
   "source": [
    "display(bureau.CREDIT_ACTIVE.value_counts())\n",
    "display(bureau.CREDIT_CURRENCY.value_counts())\n",
    "display(bureau.CREDIT_TYPE.value_counts())\n",
    "\n",
    "bureau['CREDIT_TYPE'] = bureau.CREDIT_TYPE.fillna('Unknown type of loan')\n",
    "\n",
    "bureau.groupby('SK_ID_CURR')['CREDIT_TYPE'].agg('nunique').value_counts()"
   ]
  },
  {
   "cell_type": "markdown",
   "id": "ee7db10b",
   "metadata": {},
   "source": [
    "Most of clients take more than 1 credit type. So we can't aggregate with \"first\" or \"last\" - we'd loose too much information. So we have to use get dummies for that."
   ]
  },
  {
   "cell_type": "code",
   "execution_count": null,
   "id": "7d752b9c",
   "metadata": {
    "scrolled": true
   },
   "outputs": [],
   "source": [
    "# you get all the numeric columns then all categorical with signatures COLUMN_Value\n",
    "bureau_balance = pd.get_dummies(bureau_balance)\n",
    "bureau_balance_aggregations = {'MONTHS_BALANCE': 'count'}\n",
    "# creates dictionary for the upcoming aggregation\n",
    "for col in bureau_balance.columns[2:]:\n",
    "    bureau_balance_aggregations[col] = 'sum'\n",
    "# summarizes dummies (aggregates by sum)\n",
    "bureau_balance_agg = bureau_balance.groupby('SK_ID_BUREAU').agg(bureau_balance_aggregations)\n",
    "bureau_balance_agg.info()"
   ]
  },
  {
   "cell_type": "code",
   "execution_count": null,
   "id": "c69212d1",
   "metadata": {},
   "outputs": [],
   "source": [
    "# how many empty cells, proportion\n",
    "for col in bureau_balance_agg:\n",
    "    print(f'{col}: {bureau_balance_agg[col].isna().sum()} empty cells,      {(bureau_balance_agg[col].isna().mean() * 100).round(3)}% missing,      {bureau_balance_agg[col].nunique()} unique values.')"
   ]
  },
  {
   "cell_type": "code",
   "execution_count": null,
   "id": "b612a2aa",
   "metadata": {
    "scrolled": true
   },
   "outputs": [],
   "source": [
    "bureau = bureau.join(bureau_balance_agg, how='left', on='SK_ID_BUREAU')\n",
    "# as we joined the table we can drop the key, but maybe later we have to restore it in order to add other tables\n",
    "bureau.drop(['SK_ID_BUREAU'], axis=1, inplace= True)\n",
    "del bureau_balance, bureau_balance_agg\n",
    "gc.collect()\n",
    "bureau.info()"
   ]
  },
  {
   "cell_type": "code",
   "execution_count": null,
   "id": "3da33af6",
   "metadata": {},
   "outputs": [],
   "source": [
    "# how many empty cells, proportion\n",
    "for col in bureau:\n",
    "    print(f'{col}: {bureau[col].isna().sum()} empty cells,      {(bureau[col].isna().mean() * 100).round(3)}% missing,      {bureau[col].nunique()} unique values.')"
   ]
  },
  {
   "cell_type": "code",
   "execution_count": null,
   "id": "d5157dcf",
   "metadata": {
    "scrolled": true
   },
   "outputs": [],
   "source": [
    "# Bureau numeric features\n",
    "num_aggregations = {\n",
    "    'DAYS_CREDIT': 'mean', # max? min? How many days before current application did client apply for Credit Bureau credit\n",
    "    'CREDIT_DAY_OVERDUE': 'mean', # no need to aggregate by max: see AMT_CREDIT_MAX_OVERDUE\n",
    "    'DAYS_CREDIT_ENDDATE': 'max',\n",
    "    'DAYS_ENDDATE_FACT': 'max', # only for closed credits\n",
    "    'AMT_CREDIT_MAX_OVERDUE': 'max',\n",
    "    'CNT_CREDIT_PROLONG': 'sum',\n",
    "    'AMT_CREDIT_SUM': 'sum',\n",
    "    'AMT_CREDIT_SUM_DEBT': 'sum',\n",
    "    'AMT_CREDIT_SUM_LIMIT': 'sum',\n",
    "    'AMT_CREDIT_SUM_OVERDUE': 'sum',\n",
    "    'DAYS_CREDIT_UPDATE': 'mean', # ['mean', 'var'] max? min? DAYS_CREDIT_UPDATE\n",
    "    'AMT_ANNUITY': 'mean', # AMT_ANNUITY already exists in appli_tr. is it the same or different?\n",
    "    'MONTHS_BALANCE': 'size'\n",
    "    }\n",
    "# # Bureau and bureau_balance categorical features\n",
    "\n",
    "bureau = pd.get_dummies(bureau)\n",
    "cat_aggregations = {}\n",
    "for col in bureau.columns[14:]: # 16 columns before 'STATUS' starts - 2 columns \"object\"\n",
    "    cat_aggregations[col] = 'sum'\n",
    "bureau_agg = bureau.groupby('SK_ID_CURR').agg({**num_aggregations, **cat_aggregations})\n",
    "# print(bureau_agg.columns)\n",
    "bureau_agg.rename(columns={'AMT_ANNUITY': 'AMT_ANNUITY_bureau'}, inplace=True)\n",
    "bureau_agg.info()"
   ]
  },
  {
   "cell_type": "code",
   "execution_count": null,
   "id": "b8735e4b",
   "metadata": {
    "scrolled": true
   },
   "outputs": [],
   "source": [
    "# how many empty cells, proportion\n",
    "for col in bureau_agg:\n",
    "    print(f'{col}: {bureau_agg[col].isna().sum()} empty cells,      {(bureau_agg[col].isna().mean() * 100).round(3)}% missing.')"
   ]
  },
  {
   "cell_type": "code",
   "execution_count": null,
   "id": "c9ef4271",
   "metadata": {},
   "outputs": [],
   "source": [
    "bureau_agg = bureau_agg.fillna(bureau_agg.mean())\n",
    "# Bureau: Active credits - using only numerical aggregations\n",
    "# Bureau: Closed credits - using only numerical aggregations"
   ]
  },
  {
   "cell_type": "code",
   "execution_count": null,
   "id": "2ff74754",
   "metadata": {},
   "outputs": [],
   "source": [
    "appli_tr = appli_tr.join(bureau_agg, how='left', on='SK_ID_CURR')\n"
   ]
  },
  {
   "cell_type": "code",
   "execution_count": null,
   "id": "d0713ec3",
   "metadata": {},
   "outputs": [],
   "source": [
    "# credit_card_balance = pd.read_csv(path_csvs + 'credit_card_balance.csv')\n",
    "# credit_card_balance.info()"
   ]
  },
  {
   "cell_type": "code",
   "execution_count": null,
   "id": "5ce889ca",
   "metadata": {},
   "outputs": [],
   "source": [
    "# installments_payments = pd.read_csv(path_csvs + 'installments_payments.csv')\n",
    "# installments_payments.info()"
   ]
  },
  {
   "cell_type": "code",
   "execution_count": null,
   "id": "0b102e28",
   "metadata": {},
   "outputs": [],
   "source": [
    "# POS_CASH_balance = pd.read_csv(path_csvs + 'POS_CASH_balance.csv')\n",
    "# POS_CASH_balance.info()"
   ]
  },
  {
   "cell_type": "code",
   "execution_count": null,
   "id": "a2832730",
   "metadata": {},
   "outputs": [],
   "source": [
    "# previous_application = pd.read_csv(path_csvs + 'previous_application.csv')\n",
    "# previous_application.info()"
   ]
  },
  {
   "cell_type": "code",
   "execution_count": null,
   "id": "c0c8ed36",
   "metadata": {},
   "outputs": [],
   "source": [
    "# previous_application.select_dtypes(include='object').info()"
   ]
  },
  {
   "cell_type": "code",
   "execution_count": null,
   "id": "d2af45af",
   "metadata": {},
   "outputs": [],
   "source": [
    "# sample_submission = pd.read_csv(path_csvs + 'sample_submission.csv')\n",
    "# sample_submission.info()"
   ]
  },
  {
   "cell_type": "code",
   "execution_count": null,
   "id": "85a57e5d",
   "metadata": {},
   "outputs": [],
   "source": [
    "pd.reset_option(\"max_rows\")\n",
    "pd.get_option(\"max_rows\")"
   ]
  },
  {
   "cell_type": "code",
   "execution_count": null,
   "id": "ee554d30",
   "metadata": {},
   "outputs": [],
   "source": [
    "# %who_ls"
   ]
  },
  {
   "cell_type": "markdown",
   "id": "68e94c84",
   "metadata": {},
   "source": [
    "The variables accumulated by now:\n",
    "\n",
    "DummyClassifier, GridSearchCV, HomeCredit_columns_description, KFold, LGBMClassifier, LogisticRegression, LogisticRegressionCV, OneHotEncoder, PassiveAggressiveClassifier, RandomForestClassifier, StandardScaler, StratifiedKFold, appli_tr, auc, ax, bureau, bureau_agg, bureau_balance_aggregations, cat_aggregations, category_to_fail_proportion, classification_report, col, confusion_matrix, contextmanager, f1_score, find_most_risky, gc, imblearn, list_files, listdir, make_column_transformer, make_pipeline, make_scorer, norm_target, np, num_aggregations, patch, path_csvs, pd, percentage, plt, precision_score, rasta, recall_score, roc_auc_score, roc_curve, selectcol, selectcol_full, sklearn, sns, test, test1, test2, test_df, test_t, time, train_test_split, warnings"
   ]
  },
  {
   "cell_type": "markdown",
   "id": "0bf6a799",
   "metadata": {},
   "source": [
    "Variables selected for deletion:\n",
    "\n",
    "ax, bureau, bureau_agg, bureau_balance_aggregations, cat_aggregations, col, contextmanager, norm_target, num_aggregations, patch, percentage, selectcol, selectcol_full,  test, test1, test2, test_df, test_t"
   ]
  },
  {
   "cell_type": "code",
   "execution_count": null,
   "id": "ead80943",
   "metadata": {},
   "outputs": [],
   "source": [
    "# del bureau, bureau_agg, bureau_balance_aggregations, cat_aggregations, col, appli_ok, appli_fail\n",
    "# del num_aggregations, selectcol, selectcol_full,  test, test1, test2, test_df, \n",
    "\n",
    "# del contextmanager\n",
    "# del test_t\n",
    "# del patch, norm_target, percentage\n",
    "gc.collect()"
   ]
  },
  {
   "cell_type": "code",
   "execution_count": null,
   "id": "915232ee",
   "metadata": {},
   "outputs": [],
   "source": [
    "# %who_ls"
   ]
  },
  {
   "cell_type": "markdown",
   "id": "805e77c9",
   "metadata": {},
   "source": [
    "# Final data check, feature selection and values imputing"
   ]
  },
  {
   "cell_type": "code",
   "execution_count": null,
   "id": "ce4fb651",
   "metadata": {
    "scrolled": true
   },
   "outputs": [],
   "source": [
    "appli_tr.info()"
   ]
  },
  {
   "cell_type": "code",
   "execution_count": null,
   "id": "faeba031",
   "metadata": {},
   "outputs": [],
   "source": [
    "# how many empty cells, proportion\n",
    "for col in appli_tr.select_dtypes(include=float):\n",
    "    print(f'{col}: {appli_tr[col].isna().sum()} empty cells,      {(appli_tr[col].isna().mean() * 100).round(3)}% missing.')"
   ]
  },
  {
   "cell_type": "code",
   "execution_count": null,
   "id": "a2f1f83f",
   "metadata": {},
   "outputs": [],
   "source": [
    "appli_tr = appli_tr.drop('SK_ID_CURR', axis=1)\n",
    "appli_tr.shape"
   ]
  },
  {
   "cell_type": "code",
   "execution_count": null,
   "id": "bad46aac",
   "metadata": {
    "scrolled": false
   },
   "outputs": [],
   "source": [
    "appli_tr.info()\n",
    "# appli_tr.select_dtypes('int32') # 307511 rows × 0 columns"
   ]
  },
  {
   "cell_type": "markdown",
   "id": "49d1f5d8",
   "metadata": {},
   "source": [
    "Message from MLFlow\n",
    "\n",
    "Hint: Inferred schema contains integer column(s). Integer columns in Python cannot represent missing values. If your input data contains missing values at inference time, it will be encoded as floats and will cause a schema enforcement error. The best way to avoid this problem is to infer the model schema based on a realistic data sample (training dataset) that includes missing values. Alternatively, you can declare integer columns as doubles (float64) whenever these columns may have missing values. See `Handling Integers With Missing Values <https://www.mlflow.org/docs/latest/models.html#handling-integers-with-missing-values>`_ for more details."
   ]
  },
  {
   "cell_type": "code",
   "execution_count": null,
   "id": "416ba265",
   "metadata": {},
   "outputs": [],
   "source": [
    "for col in appli_tr.select_dtypes(include=int).columns:\n",
    "    appli_tr[col] = appli_tr[col].astype(float)"
   ]
  },
  {
   "cell_type": "code",
   "execution_count": null,
   "id": "4ed9d11b",
   "metadata": {
    "scrolled": true
   },
   "outputs": [],
   "source": [
    "appli_tr.info()\n",
    "# appli_tr.select_dtypes('int32') # 307511 rows × 0 columns"
   ]
  },
  {
   "cell_type": "markdown",
   "id": "976c0924",
   "metadata": {},
   "source": [
    "# Columns selection for future dashboard"
   ]
  },
  {
   "cell_type": "markdown",
   "id": "2735809c",
   "metadata": {},
   "source": [
    "In the beginning, when I make a test model for the dashboard, even with the very poor predictive capacities, I will keep only 2-3 variables of each type, to test whether they are correctly represented in the API and in the dashboard. The types are:\n",
    "- float\n",
    "- int (that I converted to Float, because MLFlow advised that, see message titled \"hint\")\n",
    "- string value\n",
    "- string that I converted to fail probability _(in the very beginning I omit that because I don't know how to insert that into the pipeline)_\n",
    "- the \"dummy value\": these are values from other tables joined on the main table. These other tables are joined onto the main table, so in the final \"appli_tr\" table we see \"STATUS_0\", \"STATUS_C\", \"STATUS_X\" etc. _(in the very beginning I omit that because I don't know how to convert 1 inserted string values into the dummies vector)_"
   ]
  },
  {
   "cell_type": "code",
   "execution_count": null,
   "id": "6e669cbe",
   "metadata": {
    "scrolled": true
   },
   "outputs": [],
   "source": [
    "# appli_tr = appli_tr.fillna(0)\n",
    "# appli_tr = appli_tr.fillna(appli_tr.median())\n",
    "\n",
    "for col in appli_tr.select_dtypes(include=float).columns:\n",
    "    appli_tr[col].fillna(appli_tr[col].median())\n",
    "\n",
    "\n",
    "# Dropping of nuisance columns in DataFrame reductions (with 'numeric_only=None') is deprecated; in a future version this will raise TypeError. \n",
    "# Select only valid columns before calling the reduction.\n",
    "\n",
    "# if I fill the DataFrame with mean instead of median, not only it raises the warning, but also takes several hours to fill."
   ]
  },
  {
   "cell_type": "code",
   "execution_count": null,
   "id": "b9bcac7f",
   "metadata": {},
   "outputs": [],
   "source": [
    "appli_new = pd.DataFrame()"
   ]
  },
  {
   "cell_type": "code",
   "execution_count": null,
   "id": "ed9ffdf1",
   "metadata": {},
   "outputs": [],
   "source": [
    "for col in appli_tr.select_dtypes(include=object).columns:\n",
    "    print(col)"
   ]
  },
  {
   "cell_type": "code",
   "execution_count": null,
   "id": "79364eba",
   "metadata": {},
   "outputs": [],
   "source": [
    "for col in appli_tr.select_dtypes(include=float).columns:\n",
    "    print(col)"
   ]
  },
  {
   "cell_type": "code",
   "execution_count": null,
   "id": "deafb768",
   "metadata": {},
   "outputs": [],
   "source": [
    "appli_new['TARGET'] = appli_tr['TARGET']\n",
    "\n",
    "\n",
    "appli_new['NAME_INCOME_TYPE'] = appli_tr['NAME_INCOME_TYPE']\n",
    "appli_new['NAME_INCOME_TYPE'] = appli_tr['NAME_INCOME_TYPE']\n",
    "appli_new['FLAG_EMP_PHONE'] = appli_tr['FLAG_EMP_PHONE']\n",
    "appli_new['AMT_INCOME_TOTAL'] = appli_tr['AMT_INCOME_TOTAL']\n",
    "appli_new['AMT_CREDIT'] = appli_tr['AMT_CREDIT']\n",
    "appli_new['CREDIT_TYPE_Mortgage'] = appli_tr['CREDIT_TYPE_Mortgage']\n",
    "appli_new['CREDIT_TYPE_Real estate loan'] = appli_tr['CREDIT_TYPE_Real estate loan']\n",
    "appli_new['CREDIT_TYPE_Unknown type of loan'] = appli_tr['CREDIT_TYPE_Unknown type of loan']\n"
   ]
  },
  {
   "cell_type": "code",
   "execution_count": null,
   "id": "ea83e1af",
   "metadata": {
    "scrolled": false
   },
   "outputs": [],
   "source": [
    "appli_new.head(3)"
   ]
  },
  {
   "cell_type": "code",
   "execution_count": null,
   "id": "58787045",
   "metadata": {},
   "outputs": [],
   "source": [
    "appli_tr.loc[:, appli_tr.isnull().any()].columns"
   ]
  },
  {
   "cell_type": "markdown",
   "id": "00376745",
   "metadata": {},
   "source": [
    "# Plan of work with models\n",
    "\n",
    "1. Train-test split, do it once, and make all the later comparisons on the same splitting. The random state is selected in the beginning of the notebook as rasta.\n",
    "2. Test with DummyClassifier, to see what are the metrics for the predictions unrelated to the data (but related to the target).\n",
    "2. Build the preprocessor (standardscaler for numeric, onehotencoder for categorical).\n",
    "3. Take into account the method of imbalanced classes handling: it can be class_weight=\"balanced\" parameter of the model/estimator, or it can be simple SMOTE (oversampling, generation of new samples); here I don't try the option of SMOTE followed by undersampling (like Tomek Links or ENN).  \n",
    "In fact, you can't insert the SMOTE step into your pipeline, because the pipeline is a fixed sequence of steps, and I want SMOTE to be the optional/conditional step, because it depends whether I use SMOTE or class_weight='balanced'. So, I can either make two different pipelines - with SMOTE step present and skipped, or I can not make the pipeline at all - just use the transformed X_train and y_train, transformed with the preprocessor.  \n",
    "3. With the help of cross-validation, select the best model(LogReg, RandForest, PassAgressive, LightGBM), the best parameters (different for each model, are given in advance with a dictionart that will be passed to param_grid), the best conditions of imbalanced class handling. At this step I use the roc-auc score: the best model and combination of parameters is the one with highest AUC. I will display the personalized metric as well, but only for observation. The refitting of the models is on roc_auc on this step, and the best_params_ are defined according to the highest roc_auc.\n",
    "\n",
    "4. Then I take the model that was found to be the best according to roc_auc (now I know it is LogReg 2022-01-25), and use this model for further tests. I make the tests on only this model, but I look for the best parameters and the best conditions of imbalanced class handling according to my personalized metric, that I define myself (I use 10 * False_neg + 1 * False_pos).\n",
    "\n",
    "5. Once the best parameters are found for this personalized metric, be they the same as with roc_auc or different, I take these new parameters and train my model with them.  \n",
    "For this final training I don't need a cross-validation any more. So, I will make a new pipeline, with preprocessor, (then maybe SMOTE, if it works better than class_weight='balanced' in the model), then the model. This way the model is trained on 80% of the data, not on 64% as during cross-validation."
   ]
  },
  {
   "cell_type": "markdown",
   "id": "9c9a2318",
   "metadata": {},
   "source": [
    "# Train test split"
   ]
  },
  {
   "cell_type": "markdown",
   "id": "753b76ba",
   "metadata": {},
   "source": [
    "Stratified train test split which preserves the proportion of negative and positive as in whe whole dataset (8% positives in both train split and test split)"
   ]
  },
  {
   "cell_type": "code",
   "execution_count": null,
   "id": "9545bc2c",
   "metadata": {},
   "outputs": [],
   "source": [
    "# data_train, data_test = train_test_split(appli_tr, test_size=0.2, random_state = rasta, stratify=appli_tr.TARGET)\n",
    "data_train, data_test = train_test_split(appli_new, test_size=0.2, random_state = rasta, stratify=appli_new.TARGET)\n",
    "\n",
    "# the selection of all column values except target, in order to make a preprocessor with all column names and all column values stored\n",
    "# X_full = appli_tr.drop('TARGET', axis=1)\n",
    "X_full = appli_new.drop('TARGET', axis=1)"
   ]
  },
  {
   "cell_type": "code",
   "execution_count": null,
   "id": "7f665a72",
   "metadata": {},
   "outputs": [],
   "source": [
    "X_train = data_train.drop('TARGET', axis=1)\n",
    "X_test = data_test.drop('TARGET', axis=1)\n",
    "y_train = data_train.TARGET.values\n",
    "y_test = data_test.TARGET.values\n"
   ]
  },
  {
   "cell_type": "code",
   "execution_count": null,
   "id": "06ce9f26",
   "metadata": {},
   "outputs": [],
   "source": [
    "print(f'X train: {X_train.shape}, X test: {X_test.shape}, y train: {y_train.shape}, y train: {y_test.shape}, ')"
   ]
  },
  {
   "cell_type": "code",
   "execution_count": null,
   "id": "4605fa5e",
   "metadata": {
    "scrolled": true
   },
   "outputs": [],
   "source": [
    "print(len(y_test), \"test values\")\n",
    "print(y_test.sum(), \"positive values in test set\")\n",
    "print(y_test.sum() / len(y_test) * 100, 'proportion of positive values, percentage')"
   ]
  },
  {
   "cell_type": "markdown",
   "id": "d890bf9e",
   "metadata": {},
   "source": [
    "For dashboard creation: Signature is automatic, but during the dashboard implementation and the implementation it will be quite hard to impute the text variable mixed with the float variables."
   ]
  },
  {
   "cell_type": "code",
   "execution_count": null,
   "id": "78d1eabe",
   "metadata": {},
   "outputs": [],
   "source": [
    "for idx, col in enumerate(X_train.columns):\n",
    "    print(idx, col, appli_tr[col].dtype)"
   ]
  },
  {
   "cell_type": "markdown",
   "id": "9d4049f5",
   "metadata": {},
   "source": [
    "# Dummy classifier accuracy"
   ]
  },
  {
   "cell_type": "markdown",
   "id": "77b9d820",
   "metadata": {},
   "source": [
    "We work with a database which has a major and a minor class, where the detection of the minor class is super-important. Let's call the minor class (fail to pay the credit) positive, and major class (manages to pay the credit) negative.\n",
    "Then the dummy classifier will always predict the negative class.\n",
    "\n",
    "The DummyClassifier Method in Scikit Learn uses \"prior\" strategy. The \"predict\" method always returns the most frequent class label in the observed y argument passed to fit (like \"most_frequent). \n",
    "\n",
    "The \"predict_proba\" always returns the empirical class distribution of y also known as the empirical class prior distribution. In our case it means it will return the probabiliteis proportionally to what it have seen at fitting stage: 92% negative, 8% positive.\n",
    "\n",
    "Meanwhile the \"predict_proba\" with \"most_frequent\" strategy returns the matching one-hot encoded vector, which means vector composed of 0s in our case or of 1s."
   ]
  },
  {
   "cell_type": "code",
   "execution_count": null,
   "id": "f7914daf",
   "metadata": {},
   "outputs": [],
   "source": [
    "dummy_clf = DummyClassifier(strategy='prior')\n",
    "dummy_clf.fit(X_train, y_train)\n",
    "dummy_pred = dummy_clf.predict(X_test)\n",
    "print(dummy_clf.score(X_test, y_test))"
   ]
  },
  {
   "cell_type": "markdown",
   "id": "f88aac18",
   "metadata": {},
   "source": [
    "As we see, the dummy classifier has 92% accuracy.\n",
    "\n",
    "The metric that interests us, is how much of positives are correctly detected. How much of the positives are true positives. How much of negatives are false negatives. The objective is to have as few false negatives as possible."
   ]
  },
  {
   "cell_type": "markdown",
   "id": "7af45e98",
   "metadata": {},
   "source": [
    "Precision allows not to mark a reliable client as a suspicious one. HIgher the precision, better this probability is. \n",
    "It shows how many clients are really failsome, out of predicted as such.\n",
    "\n",
    "Recall allows not to mark a suspicious client as a reliable one. This metric is essential, the priority should be given to it. It shows how many positives were picked up and not missed, out of all existing failsome clients.\n",
    "\n",
    "From the other hand, an algoritm that marks everyone as suspicious, would have 100% of recall, but have bad other metrics, and would be a useless model. So the balance should be found between the recall and other metrics (like precision or maybe others).\n",
    "\n",
    "The balance can be found with 1F score."
   ]
  },
  {
   "cell_type": "code",
   "execution_count": null,
   "id": "66b9fb5c",
   "metadata": {},
   "outputs": [],
   "source": [
    "import sklearn.metrics\n",
    "print(sorted(sklearn.metrics.SCORERS.keys()))\n",
    "# sklearn.metrics.SCORERS"
   ]
  },
  {
   "cell_type": "markdown",
   "id": "c72b14d8",
   "metadata": {},
   "source": [
    "The ROC curve can be too optimistic about the model's performance in a case of imbalanced classes:  \n",
    "https://machinelearningmastery.com/roc-curves-and-precision-recall-curves-for-classification-in-python  \n",
    "area under the precision curve, calculated as just \"auc\" without a prefix \"roc\", is more revealant in this case. Another prooflink is here, in a scientific journal:  \n",
    "https://www.ncbi.nlm.nih.gov/pmc/articles/PMC4349800/"
   ]
  },
  {
   "cell_type": "markdown",
   "id": "c1b683d2",
   "metadata": {},
   "source": [
    "# Best model selection by CV (cross-validation)\n",
    "using exhaustive grid search with GridsearchCV"
   ]
  },
  {
   "cell_type": "code",
   "execution_count": null,
   "id": "dd4b0c81",
   "metadata": {},
   "outputs": [],
   "source": [
    "errors = []"
   ]
  },
  {
   "cell_type": "code",
   "execution_count": null,
   "id": "7fede6ea",
   "metadata": {},
   "outputs": [],
   "source": [
    "def compare_model(my_estimator, model_name, my_params={}, smote=False, perso=False):\n",
    "    \n",
    "    if smote:\n",
    "#         model = make_pipeline(preprocessor, SMOTE(random_state=rasta_smote), my_estimator) # TypeError: All intermediate steps should be transformers and implement fit and transform or be the string 'passthrough' 'SMOTE(random_state=1)' (type <class 'imblearn.over_sampling._smote.base.SMOTE'>) doesn't\n",
    "        model = make_pipeline_imblearn(preprocessor, SMOTE(random_state=rasta_smote), my_estimator)\n",
    "    else:\n",
    "        model = make_pipeline(preprocessor, 'passthrough', my_estimator)\n",
    "#         print(model.steps[1]) # for getting the name of the model: eventually it equals the EstimatorName.lower()\n",
    "\n",
    "    if perso:\n",
    "#         scoring = my_scoring # my_scorer, also works, if you uncomment the line. search \"my_scorer =\"\n",
    "#         refit='roc_auc' # temporary for debugging, to show that the problem isn't in the metric or scorer\n",
    "#         refit=my_scoring['perso'] #TypeError: __call__() missing 2 required positional arguments: 'X' and 'y_true'\n",
    "        refit='perso'\n",
    "\n",
    "    else:\n",
    "#         scoring = ['roc_auc', 'recall', 'precision']\n",
    "        refit='roc_auc'\n",
    "#         refit=False # AttributeError: 'GridSearchCV' object has no attribute 'best_params_'. For multi-metric evaluation, best_params_ is present only if refit is specified\n",
    "    \n",
    "#     skf = StratifiedKFold(n_splits=5)    \n",
    "    grid = GridSearchCV(  # if you envelop the pipleine in the gridsearch, you must adress every hyperparameter as estimator__ParameterName                       estimator=my_estimator, \n",
    "                      estimator=model, # moreover, you can't call the \"my_estimator\", you must call it with its proper name, i.e. \"passiveaggressiveclassifier__C\"\n",
    "                      param_grid=my_params, \n",
    "#                       cv=skf, \n",
    "                      cv=5, \n",
    "#                       scoring=scoring, \n",
    "#                       scoring='roc_auc', \n",
    "                      scoring=my_scoring, \n",
    "                      return_train_score = True, \n",
    "                      refit=refit, #'roc_auc', \n",
    "                      n_jobs = -1)\n",
    "    \n",
    "    time1 = time()\n",
    "    print('Fitting started')\n",
    "#     model.fit(X_train, y_train)\n",
    "#     model = model.fit(X_train, y_train)\n",
    "    grid = grid.fit(X_train, y_train)\n",
    "    time2 = time()\n",
    "    print('Cross-validation of model', model_name, 'completed in', time2 - time1, 'seconds')\n",
    "#     print('best params:', model[1].best_params_)\n",
    "    print('best params:', grid.best_params_)\n",
    "#     results = model[1].cv_results_\n",
    "    results = grid.cv_results_\n",
    "    \n",
    "#     y_pred = model.predict(X_test) # NotFittedError: This ColumnTransformer instance is not fitted yet. Call 'fit' with appropriate arguments before using this estimator.\n",
    "    y_pred = grid.predict(X_test)\n",
    "    \n",
    "#     if perso:\n",
    "#         my_metric = results['mean_train_perso'].max().round(3)\n",
    "#     else:\n",
    "#         my_metric = np.nan\n",
    "\n",
    "    errors.append([model_name, 'cv_train', smote, \n",
    "#                    my_metric,\n",
    "               results['mean_train_perso'].max().round(3),    \n",
    "               results['mean_train_roc_auc'].max().round(3),\n",
    "               results['mean_train_recall'].max().round(3),\n",
    "               results['mean_train_precision'].max().round(3)])\n",
    "\n",
    "#     if perso:\n",
    "#         my_metric = results['mean_test_perso'].max().round(3)\n",
    "\n",
    "    errors.append([model_name, 'cv_test', smote, \n",
    "#                    my_metric,\n",
    "               results['mean_test_perso'].max().round(3),\n",
    "               results['mean_test_roc_auc'].max().round(3),\n",
    "               results['mean_test_recall'].max().round(3),\n",
    "               results['mean_test_precision'].max().round(3)])\n",
    "\n",
    "#     if perso:\n",
    "#         my_metric = -personalized_metric(y_test, y_pred).round(3)\n",
    "\n",
    "    errors.append([model_name, 'external_test', smote, \n",
    "#                   my_metric,\n",
    "               -personalized_metric(y_test, y_pred).round(3),\n",
    "               roc_auc_score(y_test, y_pred).round(3),\n",
    "               recall_score(y_test, y_pred).round(3),\n",
    "               precision_score(y_test, y_pred).round(3)])\n",
    "    \n",
    "    time3 = time()\n",
    "    print('Prediction and evaluation completed in', time3 - time2, 'seconds')\n",
    "    \n",
    "    return model, y_pred, grid.best_params_\n",
    "    "
   ]
  },
  {
   "cell_type": "code",
   "execution_count": null,
   "id": "08954a83",
   "metadata": {},
   "outputs": [],
   "source": [
    "preprocessor = make_column_transformer(\n",
    "    (StandardScaler(),\n",
    "     X_full.select_dtypes(include=['int64','float64']).columns),\n",
    "    (OneHotEncoder\n",
    "     (categories = [X_full[feature].unique() for feature in X_full.select_dtypes(exclude=['int64','float64']).columns],\n",
    "      drop='first'),\n",
    "     X_full.select_dtypes(include=['object']).columns), remainder='passthrough')"
   ]
  },
  {
   "cell_type": "markdown",
   "id": "f6ceb8ca",
   "metadata": {},
   "source": [
    "# Personalized metric: 10 * False Neg + False Pos"
   ]
  },
  {
   "cell_type": "code",
   "execution_count": null,
   "id": "3c0b8ad0",
   "metadata": {
    "scrolled": false
   },
   "outputs": [],
   "source": [
    "# print(sorted(sklearn.metrics.SCORERS.keys()))\n",
    "# sklearn.metrics.SCORERS"
   ]
  },
  {
   "cell_type": "code",
   "execution_count": null,
   "id": "678ea564",
   "metadata": {
    "scrolled": false
   },
   "outputs": [],
   "source": [
    "print(sum((y_test == 1) & (dummy_pred == 1))) # True Pos\n",
    "print(sum((y_test == 0) & (dummy_pred == 0))) # True Neg\n",
    "print(sum((y_test == 1) & (dummy_pred == 0))) # False Neg\n",
    "print(sum((y_test == 0) & (dummy_pred == 1))) # False Pos"
   ]
  },
  {
   "cell_type": "code",
   "execution_count": null,
   "id": "fc7c431d",
   "metadata": {},
   "outputs": [],
   "source": [
    "def personalized_metric(y_true, y_pred, false_neg_coef=10, false_pos_coef=1):\n",
    "    cm = confusion_matrix(y_true, y_pred) # {'tn': cm[0, 0], 'fp': cm[0, 1], 'fn': cm[1, 0], 'tp': cm[1, 1]}\n",
    "    false_neg_coef * cm[1, 0] + false_pos_coef * cm[0, 1]\n",
    "    return (false_neg_coef * cm[1, 0] + false_pos_coef * cm[0, 1]) / len(y_true)\n",
    "\n",
    "my_scorer = make_scorer(personalized_metric, greater_is_better=False)\n",
    "\n",
    "# my_scoring = {'perso': make_scorer(personalized_metric, greater_is_better=False)}\n",
    "# my_scoring = {'perso': my_scorer),\n",
    "my_scoring = {'perso': my_scorer, 'roc_auc': 'roc_auc', 'recall': 'recall', 'precision': 'precision'}"
   ]
  },
  {
   "cell_type": "markdown",
   "id": "82f16830",
   "metadata": {},
   "source": [
    "Train the model with the best AUC, but this time choose the personalized metric for best parameter selection."
   ]
  },
  {
   "cell_type": "markdown",
   "id": "e80eb4d1",
   "metadata": {},
   "source": [
    "The best model at the moment is LogisticRegression, but I can't get out the features. Maybe it's because the model doesn't refit correctly. I have set refit='roc_auc' temùporarily for debugging, but I still can't pull the coefficients out.\n",
    "\n",
    "I will check if I can pull out the feature importances for other models, even though they are not leaders in roc_auc evaluation."
   ]
  },
  {
   "cell_type": "markdown",
   "id": "9e9e22e3",
   "metadata": {},
   "source": [
    "# Addition of different models and conditions to comparison table"
   ]
  },
  {
   "cell_type": "markdown",
   "id": "378a6c60",
   "metadata": {},
   "source": [
    "## Baseline: DummyClassifier that always predicts major class"
   ]
  },
  {
   "cell_type": "code",
   "execution_count": null,
   "id": "66017338",
   "metadata": {
    "scrolled": true
   },
   "outputs": [],
   "source": [
    "model_dummy, dummy_pred, best_params_dummy = compare_model(DummyClassifier(strategy='prior'), 'Dummy')\n",
    "del model_dummy, best_params_dummy"
   ]
  },
  {
   "cell_type": "markdown",
   "id": "8ab8fd1a",
   "metadata": {},
   "source": [
    "## With \"class_weight = 'balanced' imbalanced classes handling"
   ]
  },
  {
   "cell_type": "code",
   "execution_count": null,
   "id": "e2b22e0f",
   "metadata": {
    "scrolled": false
   },
   "outputs": [],
   "source": [
    "params_to_compare = {'passiveaggressiveclassifier__C': np.logspace(-5, -1, 5)}, # (-4, 4, 7) with (-2, 2, 3) best params: {'C': 1.0}\n",
    "\n",
    "model_PassAggr, pred_PassAggr, best_params_PassAggr = compare_model(PassiveAggressiveClassifier(class_weight='balanced', \n",
    "                                random_state=rasta_class, max_iter=10_000), 'PassAggr', params_to_compare)\n",
    "\n",
    "# Cross-validation of model PassAggr completed in 55.709872245788574 seconds (full dataset) this is  a bit less than 1 minute"
   ]
  },
  {
   "cell_type": "code",
   "execution_count": null,
   "id": "f4ccb509",
   "metadata": {
    "scrolled": false
   },
   "outputs": [],
   "source": [
    "# smaller C means stronger regularization\n",
    "# Cs as integer provides equally distributed C from 10^-4 to 10^4\n",
    "# model = make_pipeline(preprocessor, LogisticRegression(tol=0.01, max_iter=1000))\n",
    "\n",
    "params_to_compare = {'logisticregression__C': np.logspace(-3, 1, 5)}, # (-4, -1, 3)\n",
    "\n",
    "model_LogReg, pred_LogReg, best_params_LogReg = compare_model(LogisticRegression(class_weight='balanced',\n",
    "                                           tol=0.001, random_state=rasta_class, \n",
    "                                           max_iter=10_000), 'LogReg', params_to_compare)\n",
    "\n",
    "# best params: {'logisticregression__C': 1.0}\n",
    "\n",
    "# Cross-validation of model LogReg completed in 253.03503847122192 seconds. This is a bit more than 4 minutes"
   ]
  },
  {
   "cell_type": "code",
   "execution_count": null,
   "id": "0bfc10dd",
   "metadata": {
    "scrolled": false
   },
   "outputs": [],
   "source": [
    "# params_to_compare = {'randomforestclassifier__n_estimators': [200, 400, 600], # [100, 200, 400, 600]\n",
    "#              'randomforestclassifier__max_depth': [7, 14, 28], \n",
    "#              }\n",
    "\n",
    "\n",
    "# model_Forest, pred_Forest, best_params_Forest = compare_model(RandomForestClassifier(class_weight='balanced',\n",
    "#                                                 random_state=rasta_class), 'Forest', params_to_compare)\n",
    "\n",
    "# Cross-validation of model Forest completed in 3593.192445755005 seconds (full dataset) this is 10 minutes"
   ]
  },
  {
   "cell_type": "markdown",
   "id": "ad657bbc",
   "metadata": {},
   "source": [
    "## With SMOTE imbalanced classes handling"
   ]
  },
  {
   "cell_type": "code",
   "execution_count": null,
   "id": "06c378ef",
   "metadata": {
    "scrolled": false
   },
   "outputs": [],
   "source": [
    "params_to_compare = {'passiveaggressiveclassifier__C': np.logspace(-2, 2, 5)}\n",
    "\n",
    "model_PassAggr, pred_PassAggr, best_params_PassAggr = compare_model(PassiveAggressiveClassifier(max_iter=10_000, \n",
    "                                random_state=rasta_class), 'PassAggr', params_to_compare, smote=True)\n",
    "\n",
    "# Cross-validation of model PassAggr completed in 305.3516240119934 seconds (full dataset) this is 5 minutes"
   ]
  },
  {
   "cell_type": "code",
   "execution_count": null,
   "id": "30f8e88b",
   "metadata": {
    "scrolled": false
   },
   "outputs": [],
   "source": [
    "# WARNING: or information: if you see a PicklingError, you can execute the same code one more time,\n",
    "# with menu -> Cell -> Run All Below\n",
    "# This pickling error doesn't occur on smaller samples (up to 100,000 is ok, further I didn't check)\n",
    "\n",
    "params_to_compare = {'logisticregression__C': np.logspace(-5, -1, 5)}, # (-4, -1, 3)\n",
    "\n",
    "model_LogReg, pred_LogReg, best_params_LogReg = compare_model(LogisticRegression(\n",
    "                                           tol=0.001, # PicklingError: Could not pickle the task to send it to the workers.\n",
    "#                                            tol=0.01, # PicklingError: Could not pickle the task to send it to the workers.\n",
    "                                           max_iter=10_000), 'LogReg', params_to_compare, smote=True)\n",
    "\n",
    "# best params: {'logisticregression__C': 0.001}\n",
    "# Cross-validation of model LogReg completed in 625.4722304344177 seconds (full dataset) this is 10.5 minutes"
   ]
  },
  {
   "cell_type": "code",
   "execution_count": null,
   "id": "c5425a2d",
   "metadata": {
    "scrolled": false
   },
   "outputs": [],
   "source": [
    "# params_to_compare = {'randomforestclassifier__n_estimators': [400, 600], # [100, 200, 400, 600]\n",
    "# #              'randomforestclassifier__min_impurity_decrease': [0, 0.1, 1] # best is always 0, but the model is overfitting\n",
    "#              'randomforestclassifier__max_depth': [10, 20] # with [5, 10, 20] takes 3 hours 8 minutes\n",
    "#              }\n",
    "\n",
    "\n",
    "# model_Forest, pred_Forest, best_params_Forest = compare_model(RandomForestClassifier(),\n",
    "#                                                             'Forest', params_to_compare, smote=True)\n",
    "\n",
    "# Cross-validation of model Forest completed in 11903.075322389603 seconds (full dataset) this is 3 hours"
   ]
  },
  {
   "cell_type": "code",
   "execution_count": null,
   "id": "b363fd19",
   "metadata": {
    "scrolled": true
   },
   "outputs": [],
   "source": [
    "errors"
   ]
  },
  {
   "cell_type": "code",
   "execution_count": null,
   "id": "41e88ccf",
   "metadata": {},
   "outputs": [],
   "source": [
    "df_results = pd.DataFrame(errors, columns=['Model', 'Source', 'SMOTE', 'Perso', 'AUC', 'Recall', 'Precision'])"
   ]
  },
  {
   "cell_type": "code",
   "execution_count": null,
   "id": "de6aa31a",
   "metadata": {
    "scrolled": false
   },
   "outputs": [],
   "source": [
    "display(df_results[df_results.Source == 'cv_train'].sort_values(by='AUC', ascending=False).head(2))\n",
    "display(df_results[df_results.Source == 'cv_test'].sort_values(by='AUC', ascending=False).head(2))\n",
    "display(df_results[df_results.Source == 'external_test'].sort_values(by='AUC', ascending=False).head(2))\n",
    "# fillna median cv=5"
   ]
  },
  {
   "cell_type": "code",
   "execution_count": null,
   "id": "95619d48",
   "metadata": {
    "scrolled": true
   },
   "outputs": [],
   "source": [
    "# df_results = pd.DataFrame(errors,columns=['Model', 'Source', 'SMOTE', 'Perso', 'AUC', 'Recall', 'Precision'])\n",
    "display(df_results[df_results.Source == 'cv_train'].sort_values(by='Perso', ascending=False).head(2))\n",
    "display(df_results[df_results.Source == 'cv_test'].sort_values(by='Perso', ascending=False).head(2))\n",
    "display(df_results[df_results.Source == 'external_test'].sort_values(by='Perso', ascending=False).head(2))\n",
    "display(df_results.sort_values(by='Perso').head())"
   ]
  },
  {
   "cell_type": "markdown",
   "id": "33427679",
   "metadata": {},
   "source": [
    "We see that RandomForest is highly overfitted."
   ]
  },
  {
   "cell_type": "markdown",
   "id": "b62a85ea",
   "metadata": {},
   "source": [
    "When the score was 'accuracy', the precision was 0, which meant that I have no positive predictions.\n",
    "\n",
    "The standard methods of cross-validation don't fit, because they select the \"best\" parameter (what they believe to be the best) depending on the highest accuracy. Which is the highest when the model predicts only 0s.\n",
    "\n",
    "When I changed the score to \"roc_auc\" based on the list of available scores, the precision is above 0, as well as the recall."
   ]
  },
  {
   "cell_type": "markdown",
   "id": "b4b1454e",
   "metadata": {},
   "source": [
    "# Redo the cross-validation with personalized metric"
   ]
  },
  {
   "cell_type": "markdown",
   "id": "17964284",
   "metadata": {},
   "source": [
    "The best model that was optimised according to roc_auc is LogisticRegression. Now we can train the model that have found to be the best, but this time we select the best parameters differently: we select it in a way that the personalized metric (cost of false positive and false negative to the bank, equalized with coefficients) is minimal. And let's see if this impacts the optimal value of the hyperparameter."
   ]
  },
  {
   "cell_type": "code",
   "execution_count": null,
   "id": "352317c5",
   "metadata": {
    "scrolled": false
   },
   "outputs": [],
   "source": [
    "# smaller C means stronger regularization\n",
    "# Cs as integer provides equally distributed C from 10^-4 to 10^4\n",
    "# model = make_pipeline(preprocessor, LogisticRegression(tol=0.01, max_iter=1000))\n",
    "\n",
    "params_to_compare = {'logisticregression__C': np.logspace(-4, 0, 5)}, # (-4, -1, 3)\n",
    "\n",
    "model_LogReg, pred_LogReg, best_params_LogReg = compare_model(LogisticRegression(class_weight='balanced',\n",
    "                                           tol=0.001, random_state=rasta_class, \n",
    "                                           max_iter=10_000), 'LogReg', params_to_compare, perso=True, smote=False)\n",
    "\n",
    "# best params: {'logisticregression__C': 1.0} # as for the Logistic Regression with roc_auc score."
   ]
  },
  {
   "cell_type": "markdown",
   "id": "2f84bdb3",
   "metadata": {},
   "source": [
    "# Train the best model with full dataset"
   ]
  },
  {
   "cell_type": "markdown",
   "id": "8ca04c71",
   "metadata": {},
   "source": [
    "The best model is LogisticRegression. "
   ]
  },
  {
   "cell_type": "code",
   "execution_count": null,
   "id": "1b8f423d",
   "metadata": {
    "scrolled": false
   },
   "outputs": [],
   "source": [
    "time1 = time()\n",
    "model_LogReg.fit(X_train, y_train)\n",
    "# y_pred = model_LogReg.predict_proba(X_test)\n",
    "print('Fit duration', time()-time1)\n",
    "y_pred = model_LogReg.predict(X_test)\n",
    "y_pred.shape"
   ]
  },
  {
   "cell_type": "code",
   "execution_count": null,
   "id": "8d0aa289",
   "metadata": {},
   "outputs": [],
   "source": [
    "test = confusion_matrix(y_test, y_pred) / len(y_test) * 100 # 11,33 times more false positives than false negatives\n",
    "pd.DataFrame(test, index=['Neg', 'Pos'], columns=['Pred_neg', 'Pred_pos'])"
   ]
  },
  {
   "cell_type": "code",
   "execution_count": null,
   "id": "a85b5dce",
   "metadata": {},
   "outputs": [],
   "source": [
    "# print(X_test.shape) # (2000, 164)\n",
    "# print(model_LogReg[0].transform(X_test).shape) # (2000, 265)\n",
    "# print(len(model_LogReg[0].get_feature_names_out())) # 265"
   ]
  },
  {
   "cell_type": "code",
   "execution_count": null,
   "id": "1a3eb5d9",
   "metadata": {},
   "outputs": [],
   "source": [
    "# model_LogReg[0].get_feature_names_out()\n",
    "\n",
    "# array(['standardscaler__SK_ID_CURR', 'standardscaler__CNT_CHILDREN',\n",
    "#        'standardscaler__AMT_INCOME_TOTAL', 'standardscaler__AMT_CREDIT', ...\n",
    "#        'onehotencoder__WALLSMATERIAL_MODE_Monolithic',\n",
    "#        'onehotencoder__EMERGENCYSTATE_MODE_Yes'], dtype=object)"
   ]
  },
  {
   "cell_type": "code",
   "execution_count": null,
   "id": "7b426a4f",
   "metadata": {},
   "outputs": [],
   "source": [
    "model_LogReg[0] # the columntransformer\n",
    "model_LogReg[1] # the SMOTE or 'passthrough'\n",
    "model_LogReg[2] # the classifier"
   ]
  },
  {
   "cell_type": "markdown",
   "id": "fb9d3595",
   "metadata": {},
   "source": [
    "# Predict feature values: individual predictions for a client with SHAP"
   ]
  },
  {
   "cell_type": "code",
   "execution_count": null,
   "id": "6e0ac8ea",
   "metadata": {},
   "outputs": [],
   "source": [
    "shap.initjs()"
   ]
  },
  {
   "cell_type": "code",
   "execution_count": null,
   "id": "442cbd50",
   "metadata": {},
   "outputs": [],
   "source": [
    "# log_reg_explainer = shap.LinearExplainer(log_reg, data=X_train) # example of code\n",
    "\n",
    "# log_reg_explainer = shap.LinearExplainer(model_LogReg, data=X_train) # TypeError: __init__() missing 1 required positional argument: 'masker'"
   ]
  },
  {
   "cell_type": "code",
   "execution_count": null,
   "id": "0397b989",
   "metadata": {},
   "outputs": [],
   "source": [
    "# (class) shap.LinearExplainer(model, data, nsamples=1000, feature_perturbation=None, **kwargs) # signature of a class\n",
    "# there's no masker parameter in the class signature\n",
    "\n",
    "# __init__(model, data, nsamples=1000, feature_perturbation=None, **kwargs)\n",
    "# there's no masker parameter in the init method"
   ]
  },
  {
   "cell_type": "markdown",
   "id": "2b9db583",
   "metadata": {},
   "source": [
    "masker: function, numpy.array, pandas.DataFrame, tokenizer, or a list of these for each model input  \n",
    "https://shap-lrjball.readthedocs.io/en/latest/generated/shap.LinearExplainer.html  \n",
    "The function used to “mask” out hidden features of the form masked_args = masker(* model_args, mask=mask). It takes input in the same form as the model, but for just a single sample with a binary mask, then returns an iterable of masked samples. These masked samples will then be evaluated using the model function and the outputs averaged. slice() model(* masker(* args, mask=mask)).mean() As a shortcut for the standard masking using by SHAP you can pass a background data matrix instead of a function and that matrix will be used for masking. Domain specific masking functions are available in shap such as shap.ImageMasker for images and shap.TokenMasker for text. In addition to determining how to replace hidden features, the masker can also constrain the rules of the cooperative game used to explain the model. For example shap.TabularMasker(data, hclustering=”correlation”) will enforce a hierarchial clustering of coalitions for the game (in this special case the attributions are known as the Owen values)."
   ]
  },
  {
   "cell_type": "markdown",
   "id": "a1053455",
   "metadata": {},
   "source": [
    "Try to do as in the sample: I insert the logistic regression as the first argument"
   ]
  },
  {
   "cell_type": "code",
   "execution_count": null,
   "id": "337ea10e",
   "metadata": {},
   "outputs": [],
   "source": [
    "# model_LogReg[0].transform(X_train) # array  (8000, 265)\n",
    "# model_LogReg[2] # LogisticRegression(class_weight='balanced', max_iter=10000, random_state=1, tol=0.001)\n",
    "\n",
    "# log_reg_explainer = shap.LinearExplainer(log_reg, data=X_train) # example of code\n",
    "# log_reg_explainer = shap.LinearExplainer(model_LogReg[2], data=X_train) # TypeError: __init__() missing 1 required positional argument: 'masker'"
   ]
  },
  {
   "cell_type": "markdown",
   "id": "fb80cbe2",
   "metadata": {},
   "source": [
    "Try to do as in the sample: I insert the logistic regression as the first argument, and the transformed array as the second argument."
   ]
  },
  {
   "cell_type": "code",
   "execution_count": null,
   "id": "a3561581",
   "metadata": {},
   "outputs": [],
   "source": [
    "# model_LogReg[0].transform(X_train) # array  (8000, 265)\n",
    "# model_LogReg[2] # LogisticRegression(class_weight='balanced', max_iter=10000, random_state=1, tol=0.001)\n",
    "\n",
    "# log_reg_explainer = shap.LinearExplainer(log_reg, data=X_train) # example of code\n",
    "# log_reg_explainer = shap.LinearExplainer(model_LogReg[2], data=model_LogReg[0].transform(X_train)) # TypeError: __init__() missing 1 required positional argument: 'masker'"
   ]
  },
  {
   "cell_type": "markdown",
   "id": "e9874daf",
   "metadata": {},
   "source": [
    "If it doesn't work, I try to convert the train data with column transformer. And then insert into the linear explainer (logisticregression, transformed_array)."
   ]
  },
  {
   "cell_type": "code",
   "execution_count": null,
   "id": "a3343ddd",
   "metadata": {},
   "outputs": [],
   "source": [
    "# trans_array = model_LogReg[0].transform(X_train)\n",
    "# log_reg_explainer = shap.LinearExplainer(model_LogReg[2], data=trans_array) # TypeError: __init__() missing 1 required positional argument: 'masker'"
   ]
  },
  {
   "cell_type": "markdown",
   "id": "92e66f1d",
   "metadata": {},
   "source": [
    "If even that doesn't work, try to make to convert the array to the DataFrame, with the column names withdrawn with get_feature_names_out."
   ]
  },
  {
   "cell_type": "code",
   "execution_count": null,
   "id": "2cfe98a0",
   "metadata": {},
   "outputs": [],
   "source": [
    "# trans_array = model_LogReg[0].transform(X_train)\n",
    "# shap_feature_names = columns=model_LogReg[0].get_feature_names_out()\n",
    "# df_for_shap = pd.DataFrame(trans_array, columns=shap_feature_names)\n",
    "\n",
    "# log_reg_explainer = shap.LinearExplainer(model_LogReg[2], data=df_for_shap) # TypeError: __init__() missing 1 required positional argument: 'masker'"
   ]
  },
  {
   "cell_type": "code",
   "execution_count": null,
   "id": "2edce6a3",
   "metadata": {},
   "outputs": [],
   "source": [
    "# the solution from stackoverflow\n",
    "\n",
    "trans_array = model_LogReg[0].transform(X_train)\n",
    "shap_feature_names = columns=model_LogReg[0].get_feature_names_out()\n",
    "shap_feature_names = [x.replace('standardscaler__', '').replace('onehotencoder__', '') for x in shap_feature_names]\n",
    "df_for_shap = pd.DataFrame(trans_array, columns=shap_feature_names)\n",
    "\n",
    "masker = shap.maskers.Independent(data = df_for_shap)\n",
    "log_reg_explainer = shap.LinearExplainer(model_LogReg[2], masker = masker)"
   ]
  },
  {
   "cell_type": "code",
   "execution_count": null,
   "id": "7d8a3b8d",
   "metadata": {},
   "outputs": [],
   "source": [
    "sample_idx = 0\n",
    "# shap_vals = log_reg_explainer.shap_values(X_test[sample_idx]) # KeyError: 0\n",
    "X_test_sh = model_LogReg[0].transform(X_test)\n",
    "shap_vals = log_reg_explainer.shap_values(X_test_sh[sample_idx]) # array, shape (265,)"
   ]
  },
  {
   "cell_type": "code",
   "execution_count": null,
   "id": "05f33e4e",
   "metadata": {},
   "outputs": [],
   "source": [
    "# val1 = log_reg_explainer.expected_value[0] + shap_vals[0].sum() # IndexError: invalid index to scalar variable.\n",
    "# log_reg_explainer.expected_value # -0.7231118051717474\n",
    "# shap_vals[0] # 0.000892638121005155\n",
    "val1 = log_reg_explainer.expected_value + shap_vals.sum() # 1.1964024509782871"
   ]
  },
  {
   "cell_type": "code",
   "execution_count": null,
   "id": "5bb6d56a",
   "metadata": {},
   "outputs": [],
   "source": [
    "# But how to do the next value? the code from the source from Openclassrooms\n",
    "# val2 = log_reg_explainer.expected_value[1] + shap_vals[1].sum() # IndexError: invalid index to scalar variable.\n",
    "# val3 = log_reg_explainer.expected_value[2] + shap_vals[2].sum() # IndexError: invalid index to scalar variable."
   ]
  },
  {
   "cell_type": "code",
   "execution_count": null,
   "id": "23ea1379",
   "metadata": {},
   "outputs": [],
   "source": [
    "print(\"Base Value : \", log_reg_explainer.expected_value)\n",
    "print(\"Some Shap Values for Sample %d : \"%sample_idx, shap_vals[:10], len(shap_vals), 'coeffficients overall')\n",
    "# print(\"Prediction From Adding SHAP Values to Base Value : \", wine.target_names[np.argmax([val1, val2, val3])])"
   ]
  },
  {
   "cell_type": "code",
   "execution_count": null,
   "id": "4cda309e",
   "metadata": {},
   "outputs": [],
   "source": [
    "# print(\"Prediction From Model:\", lin_reg.predict(X_test[sample_idx].reshape(1,-1))[0])\n",
    "# print(\"Prediction From Model:\", \\ wine.target_names[log_reg.predict(X_test[sample_idx].reshape(1, -1))[0]])\n",
    "print(\"Prediction From Model:\", model_LogReg[2].predict(X_test_sh[sample_idx].reshape(1, -1))[0])\n"
   ]
  },
  {
   "cell_type": "code",
   "execution_count": null,
   "id": "208139d5",
   "metadata": {},
   "outputs": [],
   "source": [
    "# print(\"Prediction From Adding SHAP Values to Base Value:\", lin_reg_explainer2.expected_value + shap_vals.sum())\n",
    "# print(\"Prediction From Adding SHAP Values to Base Value : \", wine.target_names[np.argmax([val1, val2, val3])])\n",
    "print(\"Prediction From Adding SHAP Values to Base Value:\", log_reg_explainer.expected_value + shap_vals.sum())\n"
   ]
  },
  {
   "cell_type": "markdown",
   "id": "067c645b",
   "metadata": {},
   "source": [
    "The Linearexplainer \"log_reg_explainer\" works here as for linear regression, not as for logistic regression and classification"
   ]
  },
  {
   "cell_type": "code",
   "execution_count": null,
   "id": "563e60d8",
   "metadata": {
    "scrolled": true
   },
   "outputs": [],
   "source": [
    "shap.bar_plot(log_reg_explainer.shap_values(X_test_sh[0]),\n",
    "#               feature_names=boston.feature_names,\n",
    "              feature_names=shap_feature_names,\n",
    "#               max_display=len(boston.feature_names))\n",
    "              max_display=10)\n",
    "\n",
    "# we see here correlated features, like OBS_30_SOCIAL_CIRCLE and OBS_60_SOCIAL_CIRCLE\n",
    "# also NONLIVINGAREA_AVG and NONLIVING_AREA_MEDI"
   ]
  },
  {
   "cell_type": "code",
   "execution_count": null,
   "id": "e6dfb858",
   "metadata": {},
   "outputs": [],
   "source": [
    "# shap.waterfall_plot(log_reg_explainer.expected_value,\n",
    "#                     log_reg_explainer.shap_values(X_test_sh[0]),\n",
    "#                     feature_names=shap_feature_names,\n",
    "#                     max_display=10)\n",
    "# # TypeError: waterfall() got an unexpected keyword argument 'feature_names'\n",
    "\n",
    "# # meanwhile, the example code for the classification:\n",
    "# shap.waterfall_plot(log_reg_explainer.expected_value[1],\n",
    "#                     log_reg_explainer.shap_values(X_test[0])[1],\n",
    "#                     feature_names=wine.feature_names,\n",
    "#                     max_display=len(wine.feature_names)),\n",
    "\n",
    "# # also, the example code for Linearexplainer for linear regression:\n",
    "# shap.waterfall_plot(lin_reg_explainer1.expected_value,\n",
    "#                     lin_reg_explainer1.shap_values(X_test[0]),\n",
    "#                     feature_names=boston.feature_names,\n",
    "#                     max_display=len(boston.feature_names))"
   ]
  },
  {
   "cell_type": "code",
   "execution_count": null,
   "id": "a0199f4f",
   "metadata": {},
   "outputs": [],
   "source": [
    "# shap.waterfall_plot(log_reg_explainer.expected_value,\n",
    "#                     log_reg_explainer.shap_values(X_test_sh[0]),\n",
    "#                     max_display=10)\n",
    "# # TypeError: waterfall() got multiple values for argument 'max_display'\n",
    "\n",
    "# #  but \"max_display\" is 10! it's a scalar! which multiple values?"
   ]
  },
  {
   "cell_type": "code",
   "execution_count": null,
   "id": "58cd2d30",
   "metadata": {},
   "outputs": [],
   "source": [
    "# shap.waterfall_plot(log_reg_explainer.expected_value,\n",
    "#                     log_reg_explainer.shap_values(X_test_sh[0]))\n",
    "# # TypeError: waterfall() got multiple values for argument 'max_display'\n",
    "\n",
    "# # AttributeError: 'numpy.float64' object has no attribute 'base_values'"
   ]
  },
  {
   "cell_type": "markdown",
   "id": "434e27a7",
   "metadata": {},
   "source": [
    "Question: how to select the 10 features that I want to see? Not just 10 first. But either the 10 with maximal impact, or 10 specific features that I selected by their names (or indices, but by names is better)."
   ]
  },
  {
   "cell_type": "code",
   "execution_count": null,
   "id": "a442cf23",
   "metadata": {},
   "outputs": [],
   "source": [
    "# solution from internet (somewhere. github forum?)\n",
    "\n",
    "shap.plots._waterfall.waterfall_legacy(log_reg_explainer.expected_value,\n",
    "                    log_reg_explainer.shap_values(X_test_sh[0]),\n",
    "                    feature_names=shap_feature_names,\n",
    "#                     max_display=len(shap_feature_names),\n",
    "                    max_display=10,\n",
    "                    )"
   ]
  },
  {
   "cell_type": "code",
   "execution_count": null,
   "id": "96d3d4ea",
   "metadata": {
    "scrolled": false
   },
   "outputs": [],
   "source": [
    "shap.decision_plot(log_reg_explainer.expected_value,\n",
    "                   log_reg_explainer.shap_values(X_test_sh[0]),\n",
    "#                    feature_names=boston.feature_names.tolist(),\n",
    "                    feature_names=shap_feature_names, # TypeError: The feature_names arg requires a list or numpy array.\n",
    "#                     feature_names=shap_feature_names.tolist(), #AttributeError: 'list' object has no attribute 'tolist'\n",
    "                   )"
   ]
  },
  {
   "cell_type": "code",
   "execution_count": null,
   "id": "310d3c0a",
   "metadata": {
    "scrolled": true
   },
   "outputs": [],
   "source": [
    "shap.summary_plot(log_reg_explainer.shap_values(X_test_sh),\n",
    "                  features = X_test_sh,\n",
    "                  feature_names=shap_feature_names)"
   ]
  },
  {
   "cell_type": "code",
   "execution_count": null,
   "id": "433cfa12",
   "metadata": {},
   "outputs": [],
   "source": [
    "shap.summary_plot(log_reg_explainer.shap_values(X_test_sh),\n",
    "                  feature_names=shap_feature_names,\n",
    "                  plot_type=\"violin\",\n",
    "                  color=\"dodgerblue\")"
   ]
  },
  {
   "cell_type": "markdown",
   "id": "73f47b9e",
   "metadata": {},
   "source": [
    "# All the code below is draft code or external code, not a part of the project"
   ]
  },
  {
   "cell_type": "code",
   "execution_count": null,
   "id": "fda24557",
   "metadata": {
    "scrolled": false
   },
   "outputs": [],
   "source": [
    "# selectcol = appli_tr.select_dtypes(include=int)\n",
    "\n",
    "# selectcol_full = selectcol.fillna(900_000)\n",
    "# selectcol_full['SK_ID_CURR'] = appli_tr['SK_ID_CURR']\n",
    "# selectcol_full['TARGET'] = appli_tr['TARGET']\n",
    "# selectcol_full['CNT_FAM_MEMBERS'] = appli_tr['CNT_FAM_MEMBERS'].fillna(0)\n",
    "\n",
    "# # # WARNING: if I don't put the same function second time, the notbook rises an error!\n",
    "# # that happens because parameter my_df parameter stores the link to the specific object Dataframe saved\n",
    "# # instead of looking every time for an object we have currently under the name selectcol_full\n",
    "\n",
    "# def find_most_risky(mycol, my_df=selectcol_full, show=True):\n",
    "#     if show:\n",
    "#         print(selectcol[mycol].value_counts(dropna=False))\n",
    "\n",
    "#     # test = appli_tr.groupby(['TARGET', 'CODE_GENDER']).agg('count').iloc[:, 0].unstack().fillna(0)\n",
    "#     test = my_df.groupby(['TARGET', mycol])['SK_ID_CURR'].agg('count').unstack().fillna(0)\n",
    "#     # sns.heatmap(test, annot=True, cmap='Blues', fmt='g')\n",
    "#     test_t = test.transpose()\n",
    "\n",
    "#     test1 = pd.DataFrame() # which proportion of every value has failed the credit \n",
    "#     for col in test: # how high chances are that a given person with a given value will fail the credit\n",
    "#         test1[col] = test[col] / test[col].sum() * 100\n",
    "#         test2 = test1.transpose().sort_values(1, ascending=False)\n",
    "#     if show:\n",
    "#         display(test2)\n",
    "    \n",
    "# #     # this table we dont' need to define the most risky category\n",
    "# #         test3 = pd.DataFrame() # who failed the credit: among failers, what are the proportion of each value\n",
    "# #     for col in test_t:\n",
    "# #         test3[col] = test_t[col] / test_t[col].sum() * 100\n",
    "# #     display(test3) # given that the person has failed the credit, how high are the chances that (s)he is in each category\n",
    "#     if show:\n",
    "#         return None\n",
    "#     else:\n",
    "#         return test2#.reset_index()"
   ]
  },
  {
   "cell_type": "code",
   "execution_count": null,
   "id": "47f4fa3a",
   "metadata": {},
   "outputs": [],
   "source": [
    "def category_to_fail_proportion(my_df, my_series, fill=True): # should be a string\n",
    "\n",
    "    probas_table = find_most_risky(my_series, my_df=my_df, show=False)\n",
    "#     for item in probas_table['index']: # if we reset index in the function \"find_most_risky\"\n",
    "#     for item in probas_table.index:\n",
    "#         # CAUTION: changes variables in the outer space (global or not)\n",
    "#         # my_df[my_df[my_series] == item] = probas_table.loc[item, 1] # works, but slowly\n",
    "#         # CAUTION: also changes variables in the outer space (global or not),if we add inplace=True. else, does nothing, even doesn't replace the values in the copy pd.Series\n",
    "#         # without inplace=True, doesn't replace variables even in local space\n",
    "#         my_df[my_series].replace(item, probas_table.loc[item, 1], inplace=True) # works, but slowly\n",
    "\n",
    "    # \"apply\" creates a copy of Series, doesn't touch the objects in the outer space\n",
    "\n",
    "    proba_series = my_df[my_series].transform(lambda x: probas_table.loc[x, 1]) # works faster the \"for\" cycle with item and lines selection for every item\n",
    "#     return my_df[my_series] #unnecessary, because the assignment has modified the objects in the outer space anyway\n",
    "\n",
    "    if fill:\n",
    "        proba_series = proba_series.fillna(probas_table.iloc[0, 1])\n",
    "    return proba_series#, probas_table\n",
    "\n",
    "# # test: finally the function doesn't change the object in global space\n",
    "# category_to_fail_proportion(selectcol_full, 'OCCUPATION_TYPE')\n",
    "# selectcol_full.OCCUPATION_TYPE # finally the function doesn't change the object in global space\n",
    "# selectcol_full.info()\n",
    "\n",
    "# # test: the type has changed from object to float. no need to call .astype()\n",
    "# selectcol_full['OCCUPATION_TYPE'] = category_to_fail_proportion(selectcol_full, 'OCCUPATION_TYPE')\n",
    "# selectcol_full['ORGANIZATION_TYPE'] = category_to_fail_proportion(selectcol_full, 'ORGANIZATION_TYPE')\n",
    "# selectcol_full.info()"
   ]
  },
  {
   "cell_type": "markdown",
   "id": "b7dc5e29",
   "metadata": {},
   "source": [
    "## The code examples from internet, without masker\n",
    "Source: https://coderzcolumn.com/tutorials/machine-learning/shap-explain-machine-learning-model-predictions-using-game-theoretic-approach#classification"
   ]
  },
  {
   "cell_type": "code",
   "execution_count": null,
   "id": "8ad6e0b8",
   "metadata": {},
   "outputs": [],
   "source": [
    "# X_train, X_test, Y_train, Y_test = train_test_split(X, Y, train_size=0.85, test_size=0.15, random_state=123, shuffle=True)\n",
    "# lin_reg = LinearRegression()\n",
    "# lin_reg.fit(X_train, Y_train)\n",
    "\n",
    "# import shap\n",
    "# shap.initjs()\n",
    "\n",
    "# lin_reg_explainer1 = shap.LinearExplainer(lin_reg, X_train)\n",
    "# sample_idx = 0\n",
    "# shap_vals = lin_reg_explainer1.shap_values(X_test[sample_idx])\n",
    "\n",
    "# print(\"Base Value : \", lin_reg_explainer1.expected_value)\n",
    "# print(\"Shap Values for Sample %d : \"%sample_idx, shap_vals)\n",
    "# print(\"Prediction From Model:\", lin_reg.predict(X_test[sample_idx].reshape(1,-1))[0])\n",
    "# print(\"Prediction From Adding SHAP Values to Base Value:\", lin_reg_explainer1.expected_value + shap_vals.sum())\n",
    "\n",
    "# lin_reg_explainer2 = shap.LinearExplainer(lin_reg, X_train, feature_perturbation=\"correlation_dependent\")\n",
    "# sample_idx = 0\n",
    "# shap_vals = lin_reg_explainer2.shap_values(X_test[sample_idx].reshape(1,-1))[0]\n",
    "\n",
    "# print(\"Base Value : \", lin_reg_explainer2.expected_value)\n",
    "# print(\"Shap Values for Sample %d : \"%sample_idx, shap_vals)\n",
    "# print(\"Prediction From Model:\", lin_reg.predict(X_test[sample_idx].reshape(1,-1))[0])\n",
    "# print(\"Prediction From Adding SHAP Values to Base Value:\", lin_reg_explainer2.expected_value + shap_vals.sum())"
   ]
  },
  {
   "cell_type": "code",
   "execution_count": null,
   "id": "34035670",
   "metadata": {},
   "outputs": [],
   "source": [
    "# X_train, X_test, Y_train, Y_test = train_test_split(X, Y, train_size=0.85, test_size=0.15, stratify=Y, random_state=123, shuffle=True)\n",
    "# log_reg = LogisticRegression()\n",
    "# log_reg.fit(X_train, Y_train)\n",
    "\n",
    "# log_reg_explainer = shap.LinearExplainer(log_reg, data=X_train)\n",
    "# sample_idx = 0\n",
    "# shap_vals = log_reg_explainer.shap_values(X_test[sample_idx])\n",
    "# val1 = log_reg_explainer.expected_value[0] + shap_vals[0].sum()\n",
    "# val2 = log_reg_explainer.expected_value[1] + shap_vals[1].sum()\n",
    "# val3 = log_reg_explainer.expected_value[2] + shap_vals[2].sum()\n",
    "\n",
    "# print(\"Base Value : \", log_reg_explainer.expected_value)\n",
    "# print(\"Shap Values for Sample %d : \"%sample_idx, shap_vals)\n",
    "# print(\"Prediction From Model:\", \\ wine.target_names[log_reg.predict(X_test[sample_idx].reshape(1, -1))[0]])\n",
    "# print(\"Prediction From Adding SHAP Values to Base Value : \", wine.target_names[np.argmax([val1, val2, val3])])"
   ]
  },
  {
   "cell_type": "code",
   "execution_count": null,
   "id": "e135baa1",
   "metadata": {},
   "outputs": [],
   "source": [
    "# # We can generate shap values by calling the shap_values() method of explainer object passing it samples \n",
    "# # for which we want to generate shap values. It'll return \n",
    "# # a list where each entry is a list of shap values for individual samples passed as data.\n",
    "\n",
    "\n",
    "# # what's the difference of what you put into a shap_values method?\n",
    "# shap.bar_plot(lin_reg_explainer1.shap_values(X_test[0]),\n",
    "#               feature_names=boston.feature_names,\n",
    "#               max_display=len(boston.feature_names))\n",
    "\n",
    "# shap.bar_plot(lin_reg_explainer2.shap_values(X_test[0].reshape(1,-1))[0],\n",
    "#               feature_names=boston.feature_names,\n",
    "#               max_display=len(boston.feature_names))\n",
    "\n",
    "# # same thing again, maybe I should use X_test[0] with independent features and (X_test[0].reshape(1,-1))[0] for correlation dependent ones\n",
    "# shap.waterfall_plot(lin_reg_explainer1.expected_value,\n",
    "#                     lin_reg_explainer1.shap_values(X_test[0]),\n",
    "#                     feature_names=boston.feature_names,\n",
    "#                     max_display=len(boston.feature_names))\n",
    "\n",
    "# shap.waterfall_plot(lin_reg_explainer2.expected_value,\n",
    "#                     lin_reg_explainer2.shap_values(X_test[0].reshape(1,-1))[0],\n",
    "#                     feature_names=boston.feature_names,\n",
    "#                     max_display=len(boston.feature_names))\n",
    "\n",
    "# # same thing again\n",
    "# shap.force_plot(lin_reg_explainer1.expected_value,\n",
    "#                 lin_reg_explainer1.shap_values(X_test[0]),\n",
    "#                 feature_names=boston.feature_names,\n",
    "#                 out_names=\"Price($)\")\n",
    "\n",
    "# shap.force_plot(lin_reg_explainer2.expected_value,\n",
    "#                 lin_reg_explainer2.shap_values(X_test[0].reshape(1,-1))[0],\n",
    "#                 feature_names=boston.feature_names,\n",
    "#                 out_names=\"Price($)\")\n",
    "\n",
    "# # Below we have generated a force plot of 10 samples of the dataset using the first linear explainer. \n",
    "# # It also provides us with a dropdown on Y-axis which we can change to see the impact of the individual feature on all \n",
    "# # 10 predictions. In this chart, y-axis values represent predicted values for each sample and the x-axis represents \n",
    "# # 10 samples from 0-9.\n",
    "# shap.force_plot(lin_reg_explainer1.expected_value,\n",
    "#                 lin_reg_explainer1.shap_values(X_test[0:10]),\n",
    "#                 feature_names=boston.feature_names,\n",
    "#                 out_names=\"Price($)\", figsize=(25,3),\n",
    "#                 link=\"identity\")\n",
    "\n",
    "# # Summary Plot is great, available only in linreg_explainer1 but not 2, in 4 variants with different shapes and colors\n",
    "# shap.summary_plot(lin_reg_explainer1.shap_values(X_test),\n",
    "#                   features = X_test,\n",
    "#                   feature_names=boston.feature_names)\n",
    "# shap.summary_plot(lin_reg_explainer1.shap_values(X_test),\n",
    "#                   feature_names=boston.feature_names,\n",
    "#                   plot_type=\"bar\",\n",
    "#                   color=\"dodgerblue\")\n",
    "# shap.summary_plot(lin_reg_explainer1.shap_values(X_test),\n",
    "#                   feature_names=boston.feature_names,\n",
    "#                   plot_type=\"violin\",\n",
    "#                   color=\"tomato\")"
   ]
  },
  {
   "cell_type": "code",
   "execution_count": null,
   "id": "19ca69af",
   "metadata": {},
   "outputs": [],
   "source": [
    "# # for the classifications barplots are made separately for every class\n",
    "# shap.bar_plot(log_reg_explainer.shap_values(X_test[0])[0], feature_names=wine.feature_names, max_display=len(wine.feature_names))\n",
    "# shap.bar_plot(log_reg_explainer.shap_values(X_test[0])[1], feature_names=wine.feature_names, max_display=len(wine.feature_names))\n",
    "# shap.bar_plot(log_reg_explainer.shap_values(X_test[0])[2], feature_names=wine.feature_names, max_display=len(wine.feature_names))\n",
    "\n",
    "# # same for waterfall plots\n",
    "# shap.waterfall_plot(log_reg_explainer.expected_value[0],\n",
    "#                     log_reg_explainer.shap_values(X_test[0])[0],\n",
    "#                     feature_names=wine.feature_names,\n",
    "#                     max_display=len(wine.feature_names)),\n",
    "\n",
    "# shap.waterfall_plot(log_reg_explainer.expected_value[1],\n",
    "#                     log_reg_explainer.shap_values(X_test[0])[1],\n",
    "#                     feature_names=wine.feature_names,\n",
    "#                     max_display=len(wine.feature_names)),\n",
    "\n",
    "# shap.waterfall_plot(log_reg_explainer.expected_value[2],\n",
    "#                     log_reg_explainer.shap_values(X_test[0])[2],\n",
    "#                     feature_names=wine.feature_names,\n",
    "#                     max_display=len(wine.feature_names))\n",
    "\n",
    "# # not the same for the decision plot: all the outcomes are on the same chart. note that this is a multioutput decision plot. for 3 classes you'll have 3 lines, for 2 classes as in my case, just 2 lines\n",
    "# shap.multioutput_decision_plot(log_reg_explainer.expected_value.tolist(),\n",
    "#                                log_reg_explainer.shap_values(X_test),\n",
    "#                                row_index=0,\n",
    "#                                feature_names=wine.feature_names,\n",
    "#                                highlight = [1])\n",
    "\n",
    "# # force plot can be for 1 sample or for many: here is for 1 sample\n",
    "# shap.force_plot(log_reg_explainer.expected_value[0],\n",
    "# #                 log_reg_explainer.shap_values(X_test[0])[0],\n",
    "# #                 log_reg_explainer.shap_values(X_test[0])[1],\n",
    "#                 log_reg_explainer.shap_values(X_test[0])[2],\n",
    "#                 feature_names=wine.feature_names,\n",
    "#                 out_names=\"Wine Type\")\n",
    "\n",
    "# # and here is for many\n",
    "# shap.force_plot(log_reg_explainer.expected_value[0],\n",
    "#                 log_reg_explainer.shap_values(X_test[:10])[0],\n",
    "#                 feature_names=wine.feature_names,\n",
    "#                 out_names=\"Wine Type\", figsize=(25,3),\n",
    "#                 link=\"identity\")\n",
    "\n",
    "# # shap summary plot can be for multi classes of for only one class: here is for one\n",
    "# shap.summary_plot(log_reg_explainer.shap_values(X_test)[1],\n",
    "#                   features=X_test,\n",
    "#                   feature_names=wine.feature_names)\n",
    "# # and here is for many:\n",
    "# shap.summary_plot(log_reg_explainer.shap_values(X_test),\n",
    "#                   feature_names=wine.feature_names)"
   ]
  },
  {
   "cell_type": "markdown",
   "id": "bde459b3",
   "metadata": {},
   "source": [
    "# Feature importances for model: global feature importances"
   ]
  },
  {
   "cell_type": "markdown",
   "id": "cbc7a243",
   "metadata": {},
   "source": [
    "For different models the feature importances are extracted with different pieces of code:"
   ]
  },
  {
   "cell_type": "markdown",
   "id": "e80cd957",
   "metadata": {},
   "source": [
    "For logistic regression: feature importances are given in attribute coef_, and their names are given in n_features_in_ and feature_names_in_"
   ]
  },
  {
   "cell_type": "markdown",
   "id": "4f6e9175",
   "metadata": {},
   "source": [
    "For randomForestClassifier: feature importances are given in attribute n_features_in_ (Number of features seen during fit) and feature_names_in_ Names of features seen during fit. Defined only when X has feature names that are all strings."
   ]
  },
  {
   "cell_type": "markdown",
   "id": "b7aafdd9",
   "metadata": {},
   "source": [
    "As the best model is LogisticRegression, I will train this one again with my personalized metric.\n",
    "For that I will check with cross-validation to make sure that the best parameters are the same, and take those best parameters learned when refitted with personalized metric.\n",
    "I will make a new pipeline, this time witout the cross-validation step: I can take the best parameters that "
   ]
  },
  {
   "cell_type": "code",
   "execution_count": null,
   "id": "31fc4790",
   "metadata": {},
   "outputs": [],
   "source": [
    "# # smaller C means stronger regularization\n",
    "# # Cs as integer provides equally distributed C from 10^-4 to 10^4\n",
    "# # model = make_pipeline(preprocessor, LogisticRegression(tol=0.01, max_iter=1000))\n",
    "\n",
    "# params_to_compare = {'logisticregression__C': np.logspace(-4, 0, 5)}, # (-4, 2, 7)\n",
    "\n",
    "# model_LogReg_perso, pred_LogReg_perso, perso_params = compare_model(LogisticRegression(class_weight='balanced',\n",
    "#                                            tol=0.01, \n",
    "#                                            max_iter=10_000), 'LogReg', params_to_compare, perso=True)\n",
    "# #                                            max_iter=10_000), 'LogReg', params_to_compare)"
   ]
  },
  {
   "cell_type": "code",
   "execution_count": null,
   "id": "9f3fc376",
   "metadata": {},
   "outputs": [],
   "source": [
    "# model_LogReg_perso # Pipeline(steps=[('columntransformer', 'gridsearchcv')\n",
    "# model_LogReg_perso[1] # GridSearchCV, estimator=LogisticRegression\n",
    "# model_LogReg_perso[1].best_params_ # {'C': 0.01}\n",
    "# model_LogReg_perso[1].estimator # LogisticRegression(class_weight='balanced', max_iter=10000, tol=0.01)\n",
    "# model_LogReg_perso[1].estimator.coef_ # AttributeError: 'LogisticRegression' object has no attribute 'coef_'"
   ]
  },
  {
   "cell_type": "markdown",
   "id": "62ed27be",
   "metadata": {},
   "source": [
    "The model doesn't show the coefficients, because Logistic regression wasn't refit. But I have refit it during the gridsearch. How comes? What exactly refits at \"refit\" step?"
   ]
  },
  {
   "cell_type": "code",
   "execution_count": null,
   "id": "6fac4b74",
   "metadata": {},
   "outputs": [],
   "source": [
    "# model_LogReg_perso.n_features_in_ #164\n",
    "# model_LogReg_perso[1].n_features_in_ #268\n",
    "# model_LogReg_perso[1].estimator.n_features_in_ # AttributeError: 'LogisticRegression' object has no attribute 'n_features_in_'\n",
    "# model_LogReg_perso[1].estimator.feature_names_in_ # AttributeError: 'LogisticRegression' object has no attribute 'n_features_in_'"
   ]
  },
  {
   "cell_type": "markdown",
   "id": "2ea6f12b",
   "metadata": {},
   "source": [
    "All that looks like the model has been refit, but not the logistic regression."
   ]
  },
  {
   "cell_type": "code",
   "execution_count": null,
   "id": "272dd647",
   "metadata": {},
   "outputs": [],
   "source": [
    "# XXX_train = preprocessor.fit_transform(X_train)\n",
    "# preprocessor # ColumnTransformer(transformers=[('standardscaler', smth...\n",
    "\n",
    "# clf['preprocessor'].transformers_[1][1]['onehot'].get_feature_names(categorical_features) # sample code from internet\n",
    "# preprocessor.transformers[1][1].get_feature_names() # NotFittedError: This OneHotEncoder instance is not fitted yet. Call 'fit' with appropriate arguments before using this estimator.\n",
    "\n",
    "\n",
    "# preprocessor.fit(X_train) # ColumnTransformer(transformers=[('standardscaler', StandardScaler(), smth...\n",
    "# preprocessor.get_feature_names_out() # AttributeError: 'ColumnTransformer' object has no attribute 'get_feature_names_out'\n",
    "\n",
    "\n",
    "# XXX_train.shape\n",
    "# test_model = LogisticRegression(class_weight='balanced', \n",
    "#                                 C=0.01,\n",
    "#                                 max_iter=10000, tol=0.01)\n",
    "\n",
    "# test_model.fit(XXX_train, y_train) # LogisticRegression(C=0.01, class_weight='balanced', max_iter=10000, tol=0.01)\n",
    "# test_model.coef_ # array with shape (1, smth around 200) [[1.3, 3.9, ...]]\n",
    "# test_model.n_features_in_ # 268\n",
    "# test_model.feature_names_in_ # AGAIN! AttributeError: 'LogisticRegression' object has no attribute 'feature_names_in_'"
   ]
  },
  {
   "cell_type": "markdown",
   "id": "f7ee8858",
   "metadata": {},
   "source": [
    "feature_names_in_ : Names of features seen during fit. Defined only when X has feature names that are all strings."
   ]
  },
  {
   "cell_type": "markdown",
   "id": "ff8f609a",
   "metadata": {},
   "source": [
    "Example from https://www.youtube.com/watch?v=NxLfpcfGzns"
   ]
  },
  {
   "cell_type": "code",
   "execution_count": null,
   "id": "271de536",
   "metadata": {},
   "outputs": [],
   "source": [
    "# preprocessor2.fit(X_train) # ColumnTransformer(remainder='passthrough', transformers=[('standardscaler', smth...\n",
    "# preprocessor2.transform(X_test) # ok, array of floats\n",
    "\n",
    "# preprocessor2.get_feature_names() # AttributeError: Transformer standardscaler (type StandardScaler) does not provide get_feature_names.\n",
    "# preprocessor2.get_feature_names_out() # YES! array of strings, \"standardscaler__SK_ID_CURR\", \"onehotencoder__CODE_GENDER_F\" etc\n",
    "\n",
    "# preprocessor2.transformers[1][1].get_feature_names() # NotFittedError: This OneHotEncoder instance is not fitted yet. Call 'fit' with appropriate arguments before using this estimator.\n",
    "# preprocessor2.transformers[1][1].get_feature_names_out() # NotFittedError: This OneHotEncoder instance is not fitted yet. Call 'fit' with appropriate arguments before using this estimator.\n"
   ]
  },
  {
   "cell_type": "markdown",
   "id": "22f780c2",
   "metadata": {},
   "source": [
    "The discussion on  \n",
    "https://scikit-learn-enhancement-proposals.readthedocs.io/en/latest/slep007/proposal.html\n",
    "\n",
    "poses the problem but doesn't offer a resolution. It suggests to add feature_names_in_ attribute and get_feature_names_out method to fitted estimators. But I don't see how to do that."
   ]
  },
  {
   "cell_type": "markdown",
   "id": "9374daf3",
   "metadata": {},
   "source": [
    "# Support material: Kernel light GBM Kaggle"
   ]
  },
  {
   "cell_type": "markdown",
   "id": "a58905ee",
   "metadata": {},
   "source": [
    " HOME CREDIT DEFAULT RISK COMPETITION\n",
    " Most features are created by applying min, max, mean, sum and var functions to grouped tables. \n",
    " Little feature selection is done and overfitting might be a problem since many features are related.\n",
    " The following key ideas were used:\n",
    " - Divide or subtract important features to get rates (like annuity and income)\n",
    " - In Bureau Data: create specific features for Active credits and Closed credits\n",
    " - In Previous Applications: create specific features for Approved and Refused applications\n",
    " - Modularity: one function for each table (except bureau_balance and application_test)\n",
    " - One-hot encoding for categorical features\n",
    " All tables are joined with the application DF using the SK_ID_CURR key (except bureau_balance).\n",
    " You can use LightGBM with KFold or Stratified KFold.\n",
    "\n",
    " Update 16/06/2018:\n",
    " - Added Payment Rate feature\n",
    " - Removed index from features\n",
    " - Use standard KFold CV (not stratified)"
   ]
  },
  {
   "cell_type": "code",
   "execution_count": null,
   "id": "e0db59b5",
   "metadata": {},
   "outputs": [],
   "source": [
    "# @contextmanager\n",
    "# def timer(title):\n",
    "#     t0 = time()\n",
    "#     yield\n",
    "#     print(\"{} - done in {:.0f}s\".format(title, time() - t0))\n",
    "\n",
    "# # One-hot encoding for categorical columns with get_dummies\n",
    "# # I don't need the one_hot_encoder function, because I fill the missing values before the pipeline\n",
    "# def one_hot_encoder(df, nan_as_category = True):\n",
    "#     original_columns = list(df.columns)\n",
    "#     categorical_columns = [col for col in df.columns if df[col].dtype == 'object']\n",
    "#     df = pd.get_dummies(df, columns= categorical_columns, dummy_na= nan_as_category)\n",
    "#     # имена новых колонок, которые добавились от даммисов. в именах - значения бывших категорийных колонок\n",
    "#     # точнее у тебя таблица становится меньше, в ней только эти даммисы\n",
    "#     new_columns = [c for c in df.columns if c not in original_columns]\n",
    "#     return df, new_columns\n",
    "\n",
    "# # Preprocess appli_tr.csv and application_test.csv\n",
    "# def appli_tr_test(num_rows = None, nan_as_category = False):\n",
    "# # Read data\n",
    "#     df = pd.read_csv(path_csvs + 'appli_tr.csv', nrows= num_rows)\n",
    "#     test_df = pd.read_csv(path_csvs + 'application_test.csv', nrows= num_rows)\n",
    "#     print(\"Train samples: {}, test samples: {}\".format(len(df), len(test_df)))\n",
    "# # соединяет базы даных с таргетом и без таргета\n",
    "#     df = df.append(test_df).reset_index()\n",
    "# # Optional: Remove 4 applications with XNA CODE_GENDER (train set)\n",
    "#     df = df[df['CODE_GENDER'] != 'XNA']\n",
    "    \n",
    "# # Categorical features with Binary encode (0 or 1; two categories)\n",
    "# # Превращает Y и N в 0 и 1, хотя это же делает OneHotEncoder из SciKitLearn\n",
    "#     for bin_feature in ['CODE_GENDER', 'FLAG_OWN_CAR', 'FLAG_OWN_REALTY']:\n",
    "#         df[bin_feature], uniques = pd.factorize(df[bin_feature])\n",
    "# # Categorical features with One-Hot encode\n",
    "#     df, cat_cols = one_hot_encoder(df, nan_as_category)\n",
    "    \n",
    "# # NaN values for DAYS_EMPLOYED: 365.243 -> nan я сделала то что больше 50,000 дней (136 лет с копейками)\n",
    "#     df['DAYS_EMPLOYED'].replace(365243, np.nan, inplace= True)\n",
    "#     # Some simple new features (percentages)\n",
    "# # improve results of logistic regression, but not the random forest\n",
    "#     # more precise evaluation of employment\n",
    "#     df['DAYS_EMPLOYED_PERC'] = df['DAYS_EMPLOYED'] / df['DAYS_BIRTH']\n",
    "#     # more precise evaluation of employment\n",
    "#     # evaluation of credit amount taking the income in consideration\n",
    "#     df['INCOME_CREDIT_PERC'] = df['AMT_INCOME_TOTAL'] / df['AMT_CREDIT']\n",
    "#     # this is maybe to drop out? doesn't take into account whether both parents work. \n",
    "#     # plus, will be highly correlated with number of children in family\n",
    "#     df['INCOME_PER_PERSON'] = df['AMT_INCOME_TOTAL'] / df['CNT_FAM_MEMBERS']\n",
    "    \n",
    "#     # if the annuity is a pension saving, this estimates the saving policy of a client and attitude towards money\n",
    "#     # if the annuity is a sum to pay per year, it estimates how heavy the burden is\n",
    "#     df['ANNUITY_INCOME_PERC'] = df['AMT_ANNUITY'] / df['AMT_INCOME_TOTAL']\n",
    "#     # which part of the whole credit you should pay per year. it's the inverse oy the credit duration in years\n",
    "#     df['PAYMENT_RATE'] = df['AMT_ANNUITY'] / df['AMT_CREDIT']\n",
    "#     del test_df\n",
    "#     gc.collect()\n",
    "#     return df\n",
    "\n",
    "# # Сначала категорийные обрабатывает one_hot_encoderом. \n",
    "# def bureau_and_balance(num_rows = None, nan_as_category = True):\n",
    "#     bureau = pd.read_csv(path_csvs + 'bureau.csv', nrows = num_rows)\n",
    "#     bb = pd.read_csv(path_csvs + 'bureau_balance.csv', nrows = num_rows)\n",
    "#     bb, bb_cat = one_hot_encoder(bb, nan_as_category)\n",
    "#     bureau, bureau_cat = one_hot_encoder(bureau, nan_as_category)\n",
    "    \n",
    "#     # Bureau balance: Perform aggregations and merge with bureau.csv\n",
    "#     bb_aggregations = {'MONTHS_BALANCE': ['min', 'max', 'size']}\n",
    "#     for col in bb_cat:\n",
    "#         bb_aggregations[col] = ['mean']\n",
    "#     bb_agg = bb.groupby('SK_ID_BUREAU').agg(bb_aggregations)\n",
    "#     bb_agg.columns = pd.Index([e[0] + \"_\" + e[1].upper() for e in bb_agg.columns.tolist()])\n",
    "#     bureau = bureau.join(bb_agg, how='left', on='SK_ID_BUREAU')\n",
    "#     bureau.drop(['SK_ID_BUREAU'], axis=1, inplace= True)\n",
    "#     del bb, bb_agg\n",
    "#     gc.collect()\n",
    "    \n",
    "#     # Bureau and bureau_balance numeric features\n",
    "#     num_aggregations = {\n",
    "#         'DAYS_CREDIT': ['min', 'max', 'mean', 'var'],\n",
    "#         'DAYS_CREDIT_ENDDATE': ['min', 'max', 'mean'],\n",
    "#         'DAYS_CREDIT_UPDATE': ['mean'],\n",
    "#         'CREDIT_DAY_OVERDUE': ['max', 'mean'],\n",
    "#         'AMT_CREDIT_MAX_OVERDUE': ['mean'],\n",
    "#         'AMT_CREDIT_SUM': ['max', 'mean', 'sum'],\n",
    "#         'AMT_CREDIT_SUM_DEBT': ['max', 'mean', 'sum'],\n",
    "#         'AMT_CREDIT_SUM_OVERDUE': ['mean'],\n",
    "#         'AMT_CREDIT_SUM_LIMIT': ['mean', 'sum'],\n",
    "#         'AMT_ANNUITY': ['max', 'mean'],\n",
    "#         'CNT_CREDIT_PROLONG': ['sum'],\n",
    "#         'MONTHS_BALANCE_MIN': ['min'],\n",
    "#         'MONTHS_BALANCE_MAX': ['max'],\n",
    "#         'MONTHS_BALANCE_SIZE': ['mean', 'sum']\n",
    "#     }\n",
    "#     # Bureau and bureau_balance categorical features\n",
    "#     cat_aggregations = {}\n",
    "#     for cat in bureau_cat: cat_aggregations[cat] = ['mean']\n",
    "#     for cat in bb_cat: cat_aggregations[cat + \"_MEAN\"] = ['mean']\n",
    "    \n",
    "#     bureau_agg = bureau.groupby('SK_ID_CURR').agg({**num_aggregations, **cat_aggregations})\n",
    "#     bureau_agg.columns = pd.Index(['BURO_' + e[0] + \"_\" + e[1].upper() for e in bureau_agg.columns.tolist()])\n",
    "#     # Bureau: Active credits - using only numerical aggregations\n",
    "#     active = bureau[bureau['CREDIT_ACTIVE_Active'] == 1]\n",
    "#     active_agg = active.groupby('SK_ID_CURR').agg(num_aggregations)\n",
    "#     active_agg.columns = pd.Index(['ACTIVE_' + e[0] + \"_\" + e[1].upper() for e in active_agg.columns.tolist()])\n",
    "#     bureau_agg = bureau_agg.join(active_agg, how='left', on='SK_ID_CURR')\n",
    "#     del active, active_agg\n",
    "#     gc.collect()\n",
    "#     # Bureau: Closed credits - using only numerical aggregations\n",
    "#     closed = bureau[bureau['CREDIT_ACTIVE_Closed'] == 1]\n",
    "#     closed_agg = closed.groupby('SK_ID_CURR').agg(num_aggregations)\n",
    "#     closed_agg.columns = pd.Index(['CLOSED_' + e[0] + \"_\" + e[1].upper() for e in closed_agg.columns.tolist()])\n",
    "#     bureau_agg = bureau_agg.join(closed_agg, how='left', on='SK_ID_CURR')\n",
    "#     del closed, closed_agg, bureau\n",
    "#     gc.collect()\n",
    "#     return bureau_agg\n",
    "\n",
    "# # Preprocess previous_applications.csv\n",
    "# def previous_applications(num_rows = None, nan_as_category = True):\n",
    "#     prev = pd.read_csv(path_csvs + 'previous_application.csv', nrows = num_rows)\n",
    "#     prev, cat_cols = one_hot_encoder(prev, nan_as_category= True)\n",
    "#     # Days 365.243 values -> nan\n",
    "#     prev['DAYS_FIRST_DRAWING'].replace(365243, np.nan, inplace= True)\n",
    "#     prev['DAYS_FIRST_DUE'].replace(365243, np.nan, inplace= True)\n",
    "#     prev['DAYS_LAST_DUE_1ST_VERSION'].replace(365243, np.nan, inplace= True)\n",
    "#     prev['DAYS_LAST_DUE'].replace(365243, np.nan, inplace= True)\n",
    "#     prev['DAYS_TERMINATION'].replace(365243, np.nan, inplace= True)\n",
    "#     # Add feature: value ask / value received percentage\n",
    "#     prev['APP_CREDIT_PERC'] = prev['AMT_APPLICATION'] / prev['AMT_CREDIT']\n",
    "#     # Previous applications numeric features\n",
    "#     num_aggregations = {\n",
    "#         'AMT_ANNUITY': ['min', 'max', 'mean'],\n",
    "#         'AMT_APPLICATION': ['min', 'max', 'mean'],\n",
    "#         'AMT_CREDIT': ['min', 'max', 'mean'],\n",
    "#         'APP_CREDIT_PERC': ['min', 'max', 'mean', 'var'],\n",
    "#         'AMT_DOWN_PAYMENT': ['min', 'max', 'mean'],\n",
    "#         'AMT_GOODS_PRICE': ['min', 'max', 'mean'],\n",
    "#         'HOUR_APPR_PROCESS_START': ['min', 'max', 'mean'],\n",
    "#         'RATE_DOWN_PAYMENT': ['min', 'max', 'mean'],\n",
    "#         'DAYS_DECISION': ['min', 'max', 'mean'],\n",
    "#         'CNT_PAYMENT': ['mean', 'sum'],\n",
    "#     }\n",
    "#     # Previous applications categorical features\n",
    "#     cat_aggregations = {}\n",
    "#     for cat in cat_cols:\n",
    "#         cat_aggregations[cat] = ['mean']\n",
    "    \n",
    "#     prev_agg = prev.groupby('SK_ID_CURR').agg({**num_aggregations, **cat_aggregations})\n",
    "#     prev_agg.columns = pd.Index(['PREV_' + e[0] + \"_\" + e[1].upper() for e in prev_agg.columns.tolist()])\n",
    "#     # Previous Applications: Approved Applications - only numerical features\n",
    "#     approved = prev[prev['NAME_CONTRACT_STATUS_Approved'] == 1]\n",
    "#     approved_agg = approved.groupby('SK_ID_CURR').agg(num_aggregations)\n",
    "#     approved_agg.columns = pd.Index(['APPROVED_' + e[0] + \"_\" + e[1].upper() for e in approved_agg.columns.tolist()])\n",
    "#     prev_agg = prev_agg.join(approved_agg, how='left', on='SK_ID_CURR')\n",
    "#     # Previous Applications: Refused Applications - only numerical features\n",
    "#     refused = prev[prev['NAME_CONTRACT_STATUS_Refused'] == 1]\n",
    "#     refused_agg = refused.groupby('SK_ID_CURR').agg(num_aggregations)\n",
    "#     refused_agg.columns = pd.Index(['REFUSED_' + e[0] + \"_\" + e[1].upper() for e in refused_agg.columns.tolist()])\n",
    "#     prev_agg = prev_agg.join(refused_agg, how='left', on='SK_ID_CURR')\n",
    "#     del refused, refused_agg, approved, approved_agg, prev\n",
    "#     gc.collect()\n",
    "#     return prev_agg\n",
    "\n",
    "# # Preprocess POS_CASH_balance.csv\n",
    "# def pos_cash(num_rows = None, nan_as_category = True):\n",
    "#     pos = pd.read_csv(path_csvs + 'POS_CASH_balance.csv', nrows = num_rows)\n",
    "#     pos, cat_cols = one_hot_encoder(pos, nan_as_category= True)\n",
    "#     # Features\n",
    "#     aggregations = {\n",
    "#         'MONTHS_BALANCE': ['max', 'mean', 'size'],\n",
    "#         'SK_DPD': ['max', 'mean'],\n",
    "#         'SK_DPD_DEF': ['max', 'mean']\n",
    "#     }\n",
    "#     for cat in cat_cols:\n",
    "#         aggregations[cat] = ['mean']\n",
    "    \n",
    "#     pos_agg = pos.groupby('SK_ID_CURR').agg(aggregations)\n",
    "#     pos_agg.columns = pd.Index(['POS_' + e[0] + \"_\" + e[1].upper() for e in pos_agg.columns.tolist()])\n",
    "#     # Count pos cash accounts\n",
    "#     pos_agg['POS_COUNT'] = pos.groupby('SK_ID_CURR').size()\n",
    "#     del pos\n",
    "#     gc.collect()\n",
    "#     return pos_agg\n",
    "    \n",
    "# # Preprocess installments_payments.csv\n",
    "# def installments_payments(num_rows = None, nan_as_category = True):\n",
    "#     ins = pd.read_csv(path_csvs + 'installments_payments.csv', nrows = num_rows)\n",
    "#     ins, cat_cols = one_hot_encoder(ins, nan_as_category= True)\n",
    "#     # Percentage and difference paid in each installment (amount paid and installment value)\n",
    "#     ins['PAYMENT_PERC'] = ins['AMT_PAYMENT'] / ins['AMT_INSTALMENT']\n",
    "#     ins['PAYMENT_DIFF'] = ins['AMT_INSTALMENT'] - ins['AMT_PAYMENT']\n",
    "#     # Days past due and days before due (no negative values)\n",
    "#     ins['DPD'] = ins['DAYS_ENTRY_PAYMENT'] - ins['DAYS_INSTALMENT']\n",
    "#     ins['DBD'] = ins['DAYS_INSTALMENT'] - ins['DAYS_ENTRY_PAYMENT']\n",
    "#     ins['DPD'] = ins['DPD'].apply(lambda x: x if x > 0 else 0)\n",
    "#     ins['DBD'] = ins['DBD'].apply(lambda x: x if x > 0 else 0)\n",
    "#     # Features: Perform aggregations\n",
    "#     aggregations = {\n",
    "#         'NUM_INSTALMENT_VERSION': ['nunique'],\n",
    "#         'DPD': ['max', 'mean', 'sum'],\n",
    "#         'DBD': ['max', 'mean', 'sum'],\n",
    "#         'PAYMENT_PERC': ['max', 'mean', 'sum', 'var'],\n",
    "#         'PAYMENT_DIFF': ['max', 'mean', 'sum', 'var'],\n",
    "#         'AMT_INSTALMENT': ['max', 'mean', 'sum'],\n",
    "#         'AMT_PAYMENT': ['min', 'max', 'mean', 'sum'],\n",
    "#         'DAYS_ENTRY_PAYMENT': ['max', 'mean', 'sum']\n",
    "#     }\n",
    "#     for cat in cat_cols:\n",
    "#         aggregations[cat] = ['mean']\n",
    "#     ins_agg = ins.groupby('SK_ID_CURR').agg(aggregations)\n",
    "#     ins_agg.columns = pd.Index(['INSTAL_' + e[0] + \"_\" + e[1].upper() for e in ins_agg.columns.tolist()])\n",
    "#     # Count installments accounts\n",
    "#     ins_agg['INSTAL_COUNT'] = ins.groupby('SK_ID_CURR').size()\n",
    "#     del ins\n",
    "#     gc.collect()\n",
    "#     return ins_agg\n",
    "\n",
    "# # Preprocess credit_card_balance.csv\n",
    "# def credit_card_balance(num_rows = None, nan_as_category = True):\n",
    "#     cc = pd.read_csv(path_csvs + 'credit_card_balance.csv', nrows = num_rows)\n",
    "#     cc, cat_cols = one_hot_encoder(cc, nan_as_category= True)\n",
    "#     # General aggregations\n",
    "#     cc.drop(['SK_ID_PREV'], axis= 1, inplace = True)\n",
    "#     cc_agg = cc.groupby('SK_ID_CURR').agg(['min', 'max', 'mean', 'sum', 'var'])\n",
    "#     cc_agg.columns = pd.Index(['CC_' + e[0] + \"_\" + e[1].upper() for e in cc_agg.columns.tolist()])\n",
    "#     # Count credit card lines\n",
    "#     cc_agg['CC_COUNT'] = cc.groupby('SK_ID_CURR').size()\n",
    "#     del cc\n",
    "#     gc.collect()\n",
    "#     return cc_agg\n",
    "\n",
    "# # LightGBM GBDT with KFold or Stratified KFold\n",
    "# # Parameters from Tilii kernel: https://www.kaggle.com/tilii7/olivier-lightgbm-parameters-by-bayesian-opt/code\n",
    "# def kfold_lightgbm(df, num_folds, stratified = False, debug= False):\n",
    "#     # Divide in training/validation and test data\n",
    "#     train_df = df[df['TARGET'].notnull()]\n",
    "#     test_df = df[df['TARGET'].isnull()]\n",
    "#     print(\"Starting LightGBM. Train shape: {}, test shape: {}\".format(train_df.shape, test_df.shape))\n",
    "#     del df\n",
    "#     gc.collect()\n",
    "#     # Cross validation model\n",
    "#     if stratified:\n",
    "#         folds = StratifiedKFold(n_splits= num_folds, shuffle=True, random_state=1001)\n",
    "#     else:\n",
    "#         folds = KFold(n_splits= num_folds, shuffle=True, random_state=1001)\n",
    "#     # Create arrays and dataframes to store results\n",
    "#     oof_preds = np.zeros(train_df.shape[0])\n",
    "#     sub_preds = np.zeros(test_df.shape[0])\n",
    "#     feature_importance_df = pd.DataFrame()\n",
    "#     feats = [f for f in train_df.columns if f not in ['TARGET','SK_ID_CURR','SK_ID_BUREAU','SK_ID_PREV','index']]\n",
    "    \n",
    "#     for n_fold, (train_idx, valid_idx) in enumerate(folds.split(train_df[feats], train_df['TARGET'])):\n",
    "#         train_x, train_y = train_df[feats].iloc[train_idx], train_df['TARGET'].iloc[train_idx]\n",
    "#         valid_x, valid_y = train_df[feats].iloc[valid_idx], train_df['TARGET'].iloc[valid_idx]\n",
    "\n",
    "#         # LightGBM parameters found by Bayesian optimization\n",
    "#         clf = LGBMClassifier(\n",
    "#             nthread=4,\n",
    "#             n_estimators=10000,\n",
    "#             learning_rate=0.02,\n",
    "#             num_leaves=34,\n",
    "#             colsample_bytree=0.9497036,\n",
    "#             subsample=0.8715623,\n",
    "#             max_depth=8,\n",
    "#             reg_alpha=0.041545473,\n",
    "#             reg_lambda=0.0735294,\n",
    "#             min_split_gain=0.0222415,\n",
    "#             min_child_weight=39.3259775,\n",
    "#             silent=-1,\n",
    "#             verbose=-1, )\n",
    "\n",
    "#         clf.fit(train_x, train_y, eval_set=[(train_x, train_y), (valid_x, valid_y)], \n",
    "#             eval_metric= 'auc', verbose= 200, early_stopping_rounds= 200)  # here lightgbm error\n",
    "\n",
    "#         oof_preds[valid_idx] = clf.predict_proba(valid_x, num_iteration=clf.best_iteration_)[:, 1]\n",
    "#         sub_preds += clf.predict_proba(test_df[feats], num_iteration=clf.best_iteration_)[:, 1] / folds.n_splits\n",
    "\n",
    "#         fold_importance_df = pd.DataFrame()\n",
    "#         fold_importance_df[\"feature\"] = feats\n",
    "#         fold_importance_df[\"importance\"] = clf.feature_importances_\n",
    "#         fold_importance_df[\"fold\"] = n_fold + 1\n",
    "#         feature_importance_df = pd.concat([feature_importance_df, fold_importance_df], axis=0)\n",
    "#         print('Fold %2d AUC : %.6f' % (n_fold + 1, roc_auc_score(valid_y, oof_preds[valid_idx])))\n",
    "#         del clf, train_x, train_y, valid_x, valid_y\n",
    "#         gc.collect()\n",
    "\n",
    "#     print('Full AUC score %.6f' % roc_auc_score(train_df['TARGET'], oof_preds))\n",
    "#     # Write submission file and plot feature importance\n",
    "#     if not debug:\n",
    "#         test_df['TARGET'] = sub_preds\n",
    "#         test_df[['SK_ID_CURR', 'TARGET']].to_csv(submission_file_name, index= False)\n",
    "#     display_importances(feature_importance_df)\n",
    "#     return feature_importance_df\n",
    "\n",
    "# # Display/plot feature importance\n",
    "# def display_importances(feature_importance_df_):\n",
    "#     cols = feature_importance_df_[[\"feature\", \"importance\"]].groupby(\"feature\").mean().sort_values(by=\"importance\", ascending=False)[:40].index\n",
    "#     best_features = feature_importance_df_.loc[feature_importance_df_.feature.isin(cols)]\n",
    "#     plt.figure(figsize=(8, 10))\n",
    "#     sns.barplot(x=\"importance\", y=\"feature\", data=best_features.sort_values(by=\"importance\", ascending=False))\n",
    "#     plt.title('LightGBM Features (avg over folds)')\n",
    "#     plt.tight_layout()\n",
    "#     plt.savefig('lgbm_importances01.png')\n",
    "\n",
    "\n",
    "# def main(debug = False):\n",
    "#     num_rows = 10000 if debug else None\n",
    "#     df = appli_tr_test(num_rows)\n",
    "#     with timer(\"Process bureau and bureau_balance\"):\n",
    "#         bureau = bureau_and_balance(num_rows)\n",
    "#         print(\"Bureau df shape:\", bureau.shape)\n",
    "#         df = df.join(bureau, how='left', on='SK_ID_CURR')\n",
    "#         del bureau\n",
    "#         gc.collect()\n",
    "#     with timer(\"Process previous_applications\"):\n",
    "#         prev = previous_applications(num_rows)\n",
    "#         print(\"Previous applications df shape:\", prev.shape)\n",
    "#         df = df.join(prev, how='left', on='SK_ID_CURR')\n",
    "#         del prev\n",
    "#         gc.collect()\n",
    "#     with timer(\"Process POS-CASH balance\"):\n",
    "#         pos = pos_cash(num_rows)\n",
    "#         print(\"Pos-cash balance df shape:\", pos.shape)\n",
    "#         df = df.join(pos, how='left', on='SK_ID_CURR')\n",
    "#         del pos\n",
    "#         gc.collect()\n",
    "#     with timer(\"Process installments payments\"):\n",
    "#         ins = installments_payments(num_rows)\n",
    "#         print(\"Installments payments df shape:\", ins.shape)\n",
    "#         df = df.join(ins, how='left', on='SK_ID_CURR')\n",
    "#         del ins\n",
    "#         gc.collect()\n",
    "#     with timer(\"Process credit card balance\"):\n",
    "#         cc = credit_card_balance(num_rows)\n",
    "#         print(\"Credit card balance df shape:\", cc.shape)\n",
    "#         df = df.join(cc, how='left', on='SK_ID_CURR')\n",
    "#         del cc\n",
    "#         gc.collect()\n",
    "#     return df\n",
    "# #     with timer(\"Run LightGBM with kfold\"):\n",
    "# #         feat_importance = kfold_lightgbm(df, num_folds= 10, stratified= False, debug= debug)"
   ]
  },
  {
   "cell_type": "code",
   "execution_count": null,
   "id": "39345f3d",
   "metadata": {},
   "outputs": [],
   "source": [
    "# test_df = main(debug=True)\n",
    "# test_df.shape"
   ]
  },
  {
   "cell_type": "code",
   "execution_count": null,
   "id": "72ecbc9a",
   "metadata": {},
   "outputs": [],
   "source": [
    "# def compare_model(my_estimator, model_name, my_params={}, smote=False, perso=False):\n",
    "# # def compare_model(my_estimator, model_name, my_params={}, perso=False):\n",
    "    \n",
    "# #     if smote:\n",
    "# #         oversample = SMOTE()\n",
    "# #         X_train, y_train = oversample.fit_resample(X_train, y_train)\n",
    "    \n",
    "#     if not perso:\n",
    "#         scoring = ['roc_auc', 'recall', 'precision']\n",
    "#         refit='roc_auc'\n",
    "# #         refit=False # AttributeError: 'GridSearchCV' object has no attribute 'best_params_'. For multi-metric evaluation, best_params_ is present only if refit is specified\n",
    "#     else:\n",
    "#         scoring = my_scoring # my_scorer, also works, if you uncomment the line\n",
    "#         refit='perso'\n",
    "# #         refit='roc_auc' # temporary for debugging, to show that the problem isn't in the metric or scorer\n",
    "# #         refit=my_scoring['perso'] #TypeError: __call__() missing 2 required positional arguments: 'X' and 'y_true'\n",
    "\n",
    "#     if not smote:\n",
    "#         model = make_pipeline(preprocessor, \n",
    "#                 GridSearchCV(\n",
    "#                           estimator=my_estimator, \n",
    "#                           param_grid=my_params, \n",
    "#                           cv=5, \n",
    "#                           scoring=scoring, \n",
    "# #                           scoring='roc_auc', \n",
    "#                           return_train_score = True, \n",
    "#                           refit=refit, #'roc_auc', \n",
    "#                           n_jobs = -1\n",
    "#                       ))\n",
    "\n",
    "    \n",
    "#     else:\n",
    "#         model = GridSearchCV(\n",
    "#                           estimator=my_estimator, \n",
    "#                           param_grid=my_params, \n",
    "#                           cv=5, \n",
    "#                           scoring=scoring, \n",
    "# #                           scoring='roc_auc', \n",
    "#                           return_train_score = True, \n",
    "#                           refit=refit, #'roc_auc', \n",
    "#                           n_jobs = -1\n",
    "#                       )\n",
    "    \n",
    "#     time1 = time()\n",
    "#     print('Fitting started')\n",
    "# #     model.fit(X_train, y_train)\n",
    "#     model = model.fit(X_train, y_train)\n",
    "#     time2 = time()\n",
    "#     print('Cross-validation of model', model_name, 'completed in', time2 - time1, 'seconds')\n",
    "#     print('best params:', model[1].best_params_)\n",
    "#     results = model[1].cv_results_\n",
    "    \n",
    "#     y_pred = model.predict(X_test)\n",
    "\n",
    "#     if not perso:\n",
    "#         my_list = errors\n",
    "#     else:\n",
    "#         my_list = perso_errors\n",
    "    \n",
    "#     my_list.append([model_name, 'cv_train', smote,\n",
    "#                round(results['mean_train_roc_auc'].max(), 3),\n",
    "#                round(results['mean_train_recall'].max(), 3),\n",
    "#                round(results['mean_train_precision'].max(), 3)])\n",
    "\n",
    "#     my_list.append([model_name, 'cv_test', smote,\n",
    "#                round(results['mean_test_roc_auc'].max(), 3),\n",
    "#                round(results['mean_test_recall'].max(), 3),\n",
    "#                round(results['mean_test_precision'].max(), 3)])\n",
    "\n",
    "#     my_list.append([model_name, 'external_test', smote,\n",
    "#                round(roc_auc_score(y_test, y_pred), 3),\n",
    "#                round(recall_score(y_test, y_pred), 3),\n",
    "#                round(precision_score(y_test, y_pred), 3)])\n",
    "#     if perso:\n",
    "#         print('train AUC', results['mean_train_roc_auc'].max(), 'test AUC', results['mean_test_roc_auc'].max(), \n",
    "#               'train perso', results['mean_train_perso'].max(), 'test perso', results['mean_test_perso'].max())\n",
    "\n",
    "\n",
    "#     time3 = time()\n",
    "#     print('Prediction and appending completed in', time3 - time2, 'seconds')\n",
    "#     if not perso:\n",
    "#         return model, y_pred#, model[1].best_params_\n",
    "#     else:\n",
    "#         return model, y_pred, model[1].best_params_\n",
    "    "
   ]
  },
  {
   "cell_type": "code",
   "execution_count": null,
   "id": "39af5b7a",
   "metadata": {},
   "outputs": [],
   "source": [
    "# oversample = imblearn.over_sampling.SMOTE()\n",
    "# X_train_smote = preprocessor.fit_transform(X_train)\n",
    "# X_train_smote, y_train_smote = oversample.fit_resample(X_train_smote, y_train)"
   ]
  },
  {
   "cell_type": "code",
   "execution_count": null,
   "id": "4f293e67",
   "metadata": {},
   "outputs": [],
   "source": [
    "# x, dummy_pred = compare_model(DummyClassifier(strategy='prior'), 'Dummy', smote=True) # TypeError: 'GridSearchCV' object is not subscriptable\n",
    "# need to deal with the fact that now the pipeline consists of only 1 step, GridSearch, and not 2, preprocessor and Gridseaarch, as before"
   ]
  },
  {
   "cell_type": "code",
   "execution_count": null,
   "id": "fee40565",
   "metadata": {},
   "outputs": [],
   "source": [
    "# def compare_model(my_estimator, model_name, my_params={}, smote=False, perso=False):\n",
    "    \n",
    "#     if smote:\n",
    "# #         model = make_pipeline(preprocessor, SMOTE(random_state=rasta_smote), my_estimator) # TypeError: All intermediate steps should be transformers and implement fit and transform or be the string 'passthrough' 'SMOTE(random_state=1)' (type <class 'imblearn.over_sampling._smote.base.SMOTE'>) doesn't\n",
    "#         model = make_pipeline_imblearn(preprocessor, SMOTE(random_state=rasta_smote), my_estimator)\n",
    "#     else:\n",
    "#         model = make_pipeline(preprocessor, my_estimator)\n",
    "#         print(model)\n",
    "\n",
    "#     if perso:\n",
    "#         scoring = my_scoring # my_scorer, also works, if you uncomment the line. search \"my_scorer =\"\n",
    "#         refit='perso'\n",
    "# #         refit='roc_auc' # temporary for debugging, to show that the problem isn't in the metric or scorer\n",
    "# #         refit=my_scoring['perso'] #TypeError: __call__() missing 2 required positional arguments: 'X' and 'y_true'\n",
    "\n",
    "#     else:\n",
    "#         scoring = ['roc_auc', 'recall', 'precision']\n",
    "#         refit='roc_auc'\n",
    "# #         refit=False # AttributeError: 'GridSearchCV' object has no attribute 'best_params_'. For multi-metric evaluation, best_params_ is present only if refit is specified\n",
    "\n",
    "#     grid = GridSearchCV(\n",
    "# #                       estimator=my_estimator, \n",
    "# #                       estimator=model,\n",
    "#                       model,\n",
    "#                       param_grid=my_params, \n",
    "#                       cv=5, \n",
    "#                       scoring=scoring, \n",
    "# #                           scoring='roc_auc', \n",
    "#                       return_train_score = True, \n",
    "#                       refit=refit, #'roc_auc', \n",
    "#                       n_jobs = -1)\n",
    "    \n",
    "#     time1 = time()\n",
    "#     print('Fitting started')\n",
    "# #     model.fit(X_train, y_train)\n",
    "# #     model = model.fit(X_train, y_train)\n",
    "#     grid = grid.fit(X_train, y_train)\n",
    "#     time2 = time()\n",
    "#     print('Cross-validation of model', model_name, 'completed in', time2 - time1, 'seconds')\n",
    "# #     print('best params:', model[1].best_params_)\n",
    "#     print('best params:', grid.best_params_)\n",
    "# #     results = model[1].cv_results_\n",
    "#     results = grid.cv_results_\n",
    "    \n",
    "# #     y_pred = model.predict(X_test) # NotFittedError: This ColumnTransformer instance is not fitted yet. Call 'fit' with appropriate arguments before using this estimator.\n",
    "#     y_pred = grid.predict(X_test)\n",
    "    \n",
    "#     if perso:\n",
    "#         my_metric = results['mean_train_perso'].max()\n",
    "#     else:\n",
    "#         my_metric = np.nan\n",
    "\n",
    "#     errors.append([model_name, 'cv_train', smote, perso,\n",
    "# #                round(results['mean_train_roc_auc'].max(), 3),\n",
    "#                my_metric,\n",
    "#                results['mean_train_roc_auc'].max().round(3),\n",
    "#                round(results['mean_train_recall'].max(), 3),\n",
    "#                round(results['mean_train_precision'].max(), 3)])\n",
    "\n",
    "#     if perso:\n",
    "#         my_metric = results['mean_test_perso'].max()\n",
    "\n",
    "#     errors.append([model_name, 'cv_test', smote, perso,\n",
    "#                my_metric,\n",
    "#                round(results['mean_test_roc_auc'].max(), 3),\n",
    "#                round(results['mean_test_recall'].max(), 3),\n",
    "#                round(results['mean_test_precision'].max(), 3)])\n",
    "\n",
    "#     if perso:\n",
    "#         my_metric = round(personalized_metric(y_test, y_pred), 3)\n",
    "\n",
    "#     errors.append([model_name, 'external_test', smote, perso,\n",
    "#                my_metric,\n",
    "#                round(roc_auc_score(y_test, y_pred), 3),\n",
    "#                round(recall_score(y_test, y_pred), 3),\n",
    "#                round(precision_score(y_test, y_pred), 3),\n",
    "#                   ])\n",
    "    \n",
    "#     time3 = time()\n",
    "#     print('Prediction and evaluation completed in', time3 - time2, 'seconds')\n",
    "    \n",
    "#     return model, y_pred, grid.best_params_\n",
    "    "
   ]
  },
  {
   "cell_type": "code",
   "execution_count": null,
   "id": "3cb298f9",
   "metadata": {},
   "outputs": [],
   "source": [
    "# Create some data\n",
    "data = np.random.multivariate_normal([0, 0], [[5, 2], [2, 2]], size=2000)\n",
    "data = pd.DataFrame(data, columns=['x', 'y'])\n",
    "\n",
    "# Combined distributionplot\n",
    "sns.distplot(data['x'])\n",
    "sns.distplot(data['y'])\n",
    "plt.axvline(2.8, 0, 0.95)"
   ]
  },
  {
   "cell_type": "code",
   "execution_count": null,
   "id": "088b2c50",
   "metadata": {},
   "outputs": [],
   "source": [
    "# Combined distributionplot\n",
    "sns.kdeplot(data['x'])\n",
    "sns.kdeplot(data['y'])\n",
    "plt.axvline(2.8, 0, 0.95)"
   ]
  },
  {
   "cell_type": "code",
   "execution_count": null,
   "id": "395e1084",
   "metadata": {},
   "outputs": [],
   "source": [
    "# Combined distributionplot\n",
    "sns.histplot(data['x'])\n",
    "sns.histplot(data['y'])\n",
    "plt.axvline(2.8, 0, 0.95)"
   ]
  },
  {
   "cell_type": "code",
   "execution_count": null,
   "id": "d0b0d3bd",
   "metadata": {},
   "outputs": [],
   "source": [
    "# Combined distributionplot\n",
    "sns.displot(data['x'])\n",
    "sns.displot(data['y'])\n",
    "plt.axvline(2.8, 0, 0.95)"
   ]
  },
  {
   "cell_type": "markdown",
   "id": "153979c3",
   "metadata": {},
   "source": [
    "# Test (API? Dashboard? Deployment?)"
   ]
  },
  {
   "cell_type": "code",
   "execution_count": null,
   "id": "240371a3",
   "metadata": {},
   "outputs": [],
   "source": [
    "import joblib"
   ]
  },
  {
   "cell_type": "code",
   "execution_count": null,
   "id": "92e5b437",
   "metadata": {},
   "outputs": [],
   "source": [
    "joblib.dump(model_LogReg, 'credit_def_classif.joblib')"
   ]
  },
  {
   "cell_type": "code",
   "execution_count": null,
   "id": "4dd012f9",
   "metadata": {},
   "outputs": [],
   "source": [
    "joblib.load('credit_def_classif.joblib')"
   ]
  },
  {
   "cell_type": "code",
   "execution_count": null,
   "id": "666b920b",
   "metadata": {},
   "outputs": [],
   "source": [
    "from mlflow.models.signature import infer_signature"
   ]
  },
  {
   "cell_type": "code",
   "execution_count": null,
   "id": "f822dacf",
   "metadata": {
    "scrolled": true
   },
   "outputs": [],
   "source": [
    "signature = infer_signature(X_train, y_train)"
   ]
  },
  {
   "cell_type": "code",
   "execution_count": null,
   "id": "547d3a40",
   "metadata": {},
   "outputs": [],
   "source": [
    "signature"
   ]
  },
  {
   "cell_type": "markdown",
   "id": "fd1b8f50",
   "metadata": {},
   "source": [
    "Hint: Inferred schema contains integer column(s). Integer columns in Python cannot represent missing values. If your input data contains missing values at inference time, it will be encoded as floats and will cause a schema enforcement error. The best way to avoid this problem is to infer the model schema based on a realistic data sample (training dataset) that includes missing values. Alternatively, you can declare integer columns as doubles (float64) whenever these columns may have missing values. See `Handling Integers With Missing Values <https://www.mlflow.org/docs/latest/models.html#handling-integers-with-missing-values>`_ for more details."
   ]
  },
  {
   "cell_type": "code",
   "execution_count": null,
   "id": "2cdee5c8",
   "metadata": {},
   "outputs": [],
   "source": [
    "import mlflow.sklearn"
   ]
  },
  {
   "cell_type": "code",
   "execution_count": null,
   "id": "c758c2cd",
   "metadata": {
    "scrolled": false
   },
   "outputs": [],
   "source": [
    "mlflow.sklearn.save_model(model_LogReg, 'mlflow_model', signature=signature)"
   ]
  },
  {
   "cell_type": "code",
   "execution_count": null,
   "id": "38e24935",
   "metadata": {},
   "outputs": [],
   "source": [
    "np.zeros(107)"
   ]
  },
  {
   "cell_type": "code",
   "execution_count": null,
   "id": "aae6a4ce",
   "metadata": {
    "scrolled": true
   },
   "outputs": [],
   "source": [
    "\\\"working\\\", 1, 12\n",
    "'NAME_INCOME_TYPE':'Working', 'FLAG_EMP_PHONE':1, 'AMT_CREDIT':12\n",
    "\n",
    "\n",
    "'NAME_INCOME_TYPE', 'FLAG_EMP_PHONE', 'AMT_CREDIT'\n",
    "\\\"NAME_INCOME_TYPE\\\", \\\"FLAG_EMP_PHONE\\\", \\\"AMT_CREDIT\\\"\n",
    "\\\"NAME_INCOME_TYPE\\\":\\\"working\\\", \\\"FLAG_EMP_PHONE\\\":1, \\\"AMT_CREDIT\\:12\"\n",
    "NAME_INCOME_TYPE:\\\"working\\\", FLAG_EMP_PHONE:1, AMT_CREDIT:12\n",
    "{\"NAME_INCOME_TYPE\": \"Working\"}, {\"FLAG_EMP_PHONE\": 1}, {\"AMT_CREDIT\": 12}\n",
    "{\\\"NAME_INCOME_TYPE\\\": \\\"Working\\\"}, {\\\"FLAG_EMP_PHONE\\\": 1}, {\\\"AMT_CREDIT\\\": 12}"
   ]
  },
  {
   "cell_type": "code",
   "execution_count": null,
   "id": "6a4ef2c3",
   "metadata": {
    "scrolled": false
   },
   "outputs": [],
   "source": [
    "[{\"name\": \"NAME_INCOME_TYPE\", \"type\": \"string\"}, {\"name\": \"FLAG_EMP_PHONE\",\n",
    "    \"type\": \"double\"}, {\"name\": \"AMT_CREDIT\", \"type\": \"double\"}]"
   ]
  },
  {
   "cell_type": "code",
   "execution_count": null,
   "id": "2680157b",
   "metadata": {
    "scrolled": true
   },
   "outputs": [],
   "source": [
    "[{\"NAME_INCOME_TYPE\": \"string\"}, {\"FLAG_EMP_PHONE\": \"double\"}, {\"AMT_CREDIT\": \"double\"}]"
   ]
  },
  {
   "cell_type": "code",
   "execution_count": null,
   "id": "62dafdca",
   "metadata": {
    "scrolled": false
   },
   "outputs": [],
   "source": [
    "[{\"NAME_INCOME_TYPE\": \"Working\"}, {\"FLAG_EMP_PHONE\": 1}, {\"AMT_CREDIT\": 12}]"
   ]
  },
  {
   "cell_type": "code",
   "execution_count": null,
   "id": "9b32e9ed",
   "metadata": {
    "scrolled": true
   },
   "outputs": [],
   "source": [
    "[{\\\"NAME_INCOME_TYPE\\\": \\\"Working\\\"}, {\\\"FLAG_EMP_PHONE\\\": 1}, {\\\"AMT_CREDIT\\\": 12}]"
   ]
  },
  {
   "cell_type": "code",
   "execution_count": null,
   "id": "6a5155b2",
   "metadata": {},
   "outputs": [],
   "source": [
    "! curl http://127.0.0.1:5000/invocations -H \"Content-Type: application/json\" -d \"{\\\"columns\\\": [\\\"NAME_INCOME_TYPE\\\",\\\"FLAG_EMP_PHONE\\\",\\\"AMT_CREDIT\\\"], \\\"data\\\":[[\\\"Working\\\", 1, 12]]}\""
   ]
  }
 ],
 "metadata": {
  "kernelspec": {
   "display_name": "Python 3 (ipykernel)",
   "language": "python",
   "name": "python3"
  },
  "language_info": {
   "codemirror_mode": {
    "name": "ipython",
    "version": 3
   },
   "file_extension": ".py",
   "mimetype": "text/x-python",
   "name": "python",
   "nbconvert_exporter": "python",
   "pygments_lexer": "ipython3",
   "version": "3.9.7"
  }
 },
 "nbformat": 4,
 "nbformat_minor": 5
}
